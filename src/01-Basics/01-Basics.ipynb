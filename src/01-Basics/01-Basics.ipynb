{
 "cells": [
  {
   "cell_type": "markdown",
   "metadata": {},
   "source": [
    "# 1. Data Types"
   ]
  },
  {
   "cell_type": "markdown",
   "metadata": {},
   "source": [
    "## 1.1. Number"
   ]
  },
  {
   "cell_type": "markdown",
   "metadata": {},
   "source": [
    "### 1.1.1. Integer"
   ]
  },
  {
   "cell_type": "code",
   "execution_count": 1,
   "metadata": {},
   "outputs": [],
   "source": [
    "a = 123\n",
    "b = -456\n",
    "c = 0"
   ]
  },
  {
   "cell_type": "markdown",
   "metadata": {},
   "source": [
    "### 1.1.2. Float"
   ]
  },
  {
   "cell_type": "code",
   "execution_count": 3,
   "metadata": {},
   "outputs": [],
   "source": [
    "a = 1.2\n",
    "b = -3.45\n",
    "\n",
    "c = 2.17e10  # 2.17 * 10^10\n",
    "d = 3.14e-5  # 3.14 * 10^(-5)"
   ]
  },
  {
   "cell_type": "markdown",
   "metadata": {},
   "source": [
    "### 1.1.3. Octal"
   ]
  },
  {
   "cell_type": "code",
   "execution_count": 5,
   "metadata": {},
   "outputs": [],
   "source": [
    "a = 0o177  # 127 = (1 * 64) + (7 * 8) + (7 * 1)"
   ]
  },
  {
   "cell_type": "markdown",
   "metadata": {},
   "source": [
    "### 1.1.4. Hexadecimal"
   ]
  },
  {
   "cell_type": "code",
   "execution_count": 8,
   "metadata": {},
   "outputs": [],
   "source": [
    "a = 0xff  # 255 = (15 * 16) + (15 * 1)"
   ]
  },
  {
   "cell_type": "markdown",
   "metadata": {},
   "source": [
    "### 1.1.5. Arithmetic operations"
   ]
  },
  {
   "cell_type": "code",
   "execution_count": 12,
   "metadata": {},
   "outputs": [
    {
     "name": "stdout",
     "output_type": "stream",
     "text": [
      "7\n",
      "-1\n",
      "12\n",
      "0.75\n",
      "81\n",
      "1\n",
      "3\n"
     ]
    }
   ],
   "source": [
    "a = 3\n",
    "b = 4\n",
    "\n",
    "print(a + b)  # 7\n",
    "print(a - b)  # -1\n",
    "print(a * b)  # 12\n",
    "print(a / b)  # 0.75\n",
    "\n",
    "print(a ** b)  # 81 (power)\n",
    "\n",
    "c = 7\n",
    "d = 4\n",
    "\n",
    "print(c // d)  # 1 (quotient)\n",
    "print(c % d)   # 3 (remainder)"
   ]
  },
  {
   "cell_type": "markdown",
   "metadata": {},
   "source": [
    "## 1.2. String"
   ]
  },
  {
   "cell_type": "markdown",
   "metadata": {},
   "source": [
    "### 1.2.1. Initializing"
   ]
  },
  {
   "cell_type": "code",
   "execution_count": 13,
   "metadata": {},
   "outputs": [],
   "source": [
    "a = 'Hello World'\n",
    "b = \"Hello World\"\n",
    "c = '''Hello World'''\n",
    "d = \"\"\"Hello World\"\"\""
   ]
  },
  {
   "cell_type": "markdown",
   "metadata": {},
   "source": [
    "### 1.2.2. Quotation marks in string"
   ]
  },
  {
   "cell_type": "code",
   "execution_count": 4,
   "metadata": {},
   "outputs": [],
   "source": [
    "a = \"Don't stop until you're proud.\"\n",
    "b = '\"Where are the people?\" resumed the little prince at last.'\n",
    "\n",
    "c = 'Don\\'t stop until you\\'re proud.'\n",
    "d = \"\\\"Where are the people?\\\" resumed the little prince at last.\"\n",
    "\n",
    "e = '''\"It is lonely when you're among people, too,\" said the snake.'''\n",
    "f = \"\"\"\"It is lonely when you're among people, too,\" said the snake.\"\"\""
   ]
  },
  {
   "cell_type": "markdown",
   "metadata": {},
   "source": [
    "### 1.2.3. Multiple lines"
   ]
  },
  {
   "cell_type": "code",
   "execution_count": 34,
   "metadata": {},
   "outputs": [
    {
     "name": "stdout",
     "output_type": "stream",
     "text": [
      "Life is too short.\n",
      "You need python.\n",
      "Life is too short.\n",
      "You need python.\n",
      "Life is too short.\n",
      "You need python.\n"
     ]
    }
   ],
   "source": [
    "a = 'Life is too short.\\nYou need python.'\n",
    "print(a)\n",
    "\n",
    "b = '''Life is too short.\n",
    "You need python.'''\n",
    "print(b)\n",
    "\n",
    "c = \"\"\"Life is too short.\n",
    "You need python.\"\"\"\n",
    "print(c)"
   ]
  },
  {
   "cell_type": "markdown",
   "metadata": {},
   "source": [
    "### 1.2.4. Concatenation"
   ]
  },
  {
   "cell_type": "code",
   "execution_count": 6,
   "metadata": {},
   "outputs": [
    {
     "name": "stdout",
     "output_type": "stream",
     "text": [
      "Hello World!\n"
     ]
    }
   ],
   "source": [
    "a = 'Hello'\n",
    "b = ' World!'\n",
    "print(a + b)  # Hello World!"
   ]
  },
  {
   "cell_type": "markdown",
   "metadata": {},
   "source": [
    "### 1.2.5. Repetition"
   ]
  },
  {
   "cell_type": "code",
   "execution_count": 39,
   "metadata": {},
   "outputs": [],
   "source": [
    "a = 'abc' * 3  # abcabcabc\n",
    "b = 'foo' * 4  # foofoofoofoo"
   ]
  },
  {
   "cell_type": "markdown",
   "metadata": {},
   "source": [
    "### 1.2.6. Length"
   ]
  },
  {
   "cell_type": "code",
   "execution_count": 41,
   "metadata": {},
   "outputs": [],
   "source": [
    "a = 'Hello World!'\n",
    "b = len(a)  # 12"
   ]
  },
  {
   "cell_type": "markdown",
   "metadata": {},
   "source": [
    "### 1.2.7. Indexing"
   ]
  },
  {
   "cell_type": "code",
   "execution_count": 45,
   "metadata": {},
   "outputs": [
    {
     "name": "stdout",
     "output_type": "stream",
     "text": [
      "L\n",
      "e\n",
      ".\n",
      "n\n"
     ]
    }
   ],
   "source": [
    "a = 'Life is too short. You need python.'\n",
    "\n",
    "print(a[0])  # L\n",
    "print(a[3])  # e\n",
    "\n",
    "print(a[-1])  # .\n",
    "print(a[-2])  # n"
   ]
  },
  {
   "cell_type": "markdown",
   "metadata": {},
   "source": [
    "### 1.2.8. Slicing"
   ]
  },
  {
   "cell_type": "code",
   "execution_count": 8,
   "metadata": {},
   "outputs": [
    {
     "name": "stdout",
     "output_type": "stream",
     "text": [
      "is\n",
      "too\n",
      "Life is too short.\n",
      "You need python.\n",
      "Life is too short. You need python.\n",
      "You need\n",
      "Lf stosot o edpto.\n"
     ]
    }
   ],
   "source": [
    "a = 'Life is too short. You need python.'\n",
    "\n",
    "print(a[5:7])   # is\n",
    "print(a[8:11])  # too\n",
    "\n",
    "print(a[:18])  # Life is too short.\n",
    "print(a[19:])  # You need python.\n",
    "print(a[:])    # Life is too short. You need python.\n",
    "\n",
    "print(a[19:-8])  # You need\n",
    "\n",
    "print(a[0::2])  # Lf stosot o edpto."
   ]
  },
  {
   "cell_type": "markdown",
   "metadata": {},
   "source": [
    "### 1.2.9. Formatting"
   ]
  },
  {
   "cell_type": "code",
   "execution_count": 15,
   "metadata": {},
   "outputs": [
    {
     "name": "stdout",
     "output_type": "stream",
     "text": [
      "At 4 o'clock I shall begin to be happy.\n",
      "py      \n",
      "      py\n",
      "   py   \n",
      "===py===\n",
      "0003\n",
      "3.1416\n",
      "   3.142\n",
      "{ curly brackets }\n"
     ]
    }
   ],
   "source": [
    "time = 4\n",
    "mood = 'happy'\n",
    "\n",
    "# At 4 o'clock I shall begin to be happy.\n",
    "print(f\"At {time} o'clock I shall begin to be {mood}.\")\n",
    "\n",
    "print(f'{\"py\":<8}')  # 'py      '\n",
    "print(f'{\"py\":>8}')  # '      py'\n",
    "print(f'{\"py\":^8}')  # '   py   '\n",
    "\n",
    "print(f'{\"py\":=^8}')  # ===py===\n",
    "print(f'{3:0>4}')     # 0003\n",
    "\n",
    "pi = 3.1415926535\n",
    "\n",
    "print(f'{pi:.4f}')   # '3.1416'\n",
    "print(f'{pi:8.3f}')  # '   3.142'\n",
    "\n",
    "print(f'{{ curly brackets }}')  # { curly brackets }"
   ]
  },
  {
   "cell_type": "markdown",
   "metadata": {},
   "source": [
    "### 1.2.10. Methods"
   ]
  },
  {
   "cell_type": "markdown",
   "metadata": {},
   "source": [
    "#### 1.2.10.1. Count"
   ]
  },
  {
   "cell_type": "code",
   "execution_count": 93,
   "metadata": {},
   "outputs": [
    {
     "name": "stdout",
     "output_type": "stream",
     "text": [
      "6\n"
     ]
    }
   ],
   "source": [
    "a = 'It always seems impossible until it is done.'\n",
    "\n",
    "print(a.count('s'))  # 6"
   ]
  },
  {
   "cell_type": "markdown",
   "metadata": {},
   "source": [
    "#### 1.2.10.2. Find"
   ]
  },
  {
   "cell_type": "code",
   "execution_count": 94,
   "metadata": {},
   "outputs": [
    {
     "name": "stdout",
     "output_type": "stream",
     "text": [
      "8\n",
      "-1\n"
     ]
    }
   ],
   "source": [
    "a = 'It always seems impossible until it is done.'\n",
    "\n",
    "print(a.find('s'))   # 8\n",
    "print(a.find('z'))   # -1"
   ]
  },
  {
   "cell_type": "markdown",
   "metadata": {},
   "source": [
    "#### 1.2.10.3. Index"
   ]
  },
  {
   "cell_type": "code",
   "execution_count": 95,
   "metadata": {},
   "outputs": [
    {
     "name": "stdout",
     "output_type": "stream",
     "text": [
      "8\n"
     ]
    }
   ],
   "source": [
    "a = 'It always seems impossible until it is done.'\n",
    "\n",
    "print(a.index('s'))  # 8"
   ]
  },
  {
   "cell_type": "markdown",
   "metadata": {},
   "source": [
    "#### 1.2.10.4. Join"
   ]
  },
  {
   "cell_type": "code",
   "execution_count": 97,
   "metadata": {},
   "outputs": [
    {
     "name": "stdout",
     "output_type": "stream",
     "text": [
      "p-y-t-h-o-n\n",
      "f::o::o\n"
     ]
    }
   ],
   "source": [
    "print('-'.join('python'))  # p-y-t-h-o-n\n",
    "print('::'.join('foo'))    # f::o::o"
   ]
  },
  {
   "cell_type": "markdown",
   "metadata": {},
   "source": [
    "#### 1.2.10.5. Upper"
   ]
  },
  {
   "cell_type": "code",
   "execution_count": 98,
   "metadata": {},
   "outputs": [
    {
     "name": "stdout",
     "output_type": "stream",
     "text": [
      "PYTHON\n"
     ]
    }
   ],
   "source": [
    "a = 'python'\n",
    "\n",
    "print(a.upper())  # PYTHON"
   ]
  },
  {
   "cell_type": "markdown",
   "metadata": {},
   "source": [
    "#### 1.2.10.6. Lower"
   ]
  },
  {
   "cell_type": "code",
   "execution_count": 99,
   "metadata": {},
   "outputs": [
    {
     "name": "stdout",
     "output_type": "stream",
     "text": [
      "python\n"
     ]
    }
   ],
   "source": [
    "a = 'PYTHON'\n",
    "\n",
    "print(a.lower())  # python"
   ]
  },
  {
   "cell_type": "markdown",
   "metadata": {},
   "source": [
    "#### 1.2.10.7. Strip"
   ]
  },
  {
   "cell_type": "code",
   "execution_count": 100,
   "metadata": {},
   "outputs": [
    {
     "name": "stdout",
     "output_type": "stream",
     "text": [
      "python  \n",
      "  python\n",
      "python\n"
     ]
    }
   ],
   "source": [
    "a = '  python  '\n",
    "\n",
    "print(a.lstrip())  # 'python  '\n",
    "print(a.rstrip())  # '  python'\n",
    "print(a.strip())   # 'python'"
   ]
  },
  {
   "cell_type": "markdown",
   "metadata": {},
   "source": [
    "#### 1.2.10.8. Replace"
   ]
  },
  {
   "cell_type": "code",
   "execution_count": 102,
   "metadata": {},
   "outputs": [
    {
     "name": "stdout",
     "output_type": "stream",
     "text": [
      "It is only with the eyes that one can see rightly.\n"
     ]
    }
   ],
   "source": [
    "a = 'It is only with the heart that one can see rightly.'\n",
    "\n",
    "# It is only with the eyes that one can see rightly.\n",
    "print(a.replace('heart', 'eyes'))"
   ]
  },
  {
   "cell_type": "markdown",
   "metadata": {},
   "source": [
    "#### 1.2.10.9. Split"
   ]
  },
  {
   "cell_type": "code",
   "execution_count": 17,
   "metadata": {},
   "outputs": [
    {
     "name": "stdout",
     "output_type": "stream",
     "text": [
      "['Life', 'is', 'too', 'short.', 'You', 'need', 'python.']\n",
      "['Life is too short', ' You need python', '']\n"
     ]
    }
   ],
   "source": [
    "a = 'Life is too short. You need python.'\n",
    "\n",
    "# ['Life', 'is', 'too', 'short.', 'You', 'need', 'python.']\n",
    "print(a.split())\n",
    "\n",
    "# ['Life is too short', ' You need python', '']\n",
    "print(a.split('.'))"
   ]
  },
  {
   "cell_type": "markdown",
   "metadata": {},
   "source": [
    "## 1.3. List"
   ]
  },
  {
   "cell_type": "markdown",
   "metadata": {},
   "source": [
    "### 1.3.1. Initializing"
   ]
  },
  {
   "cell_type": "code",
   "execution_count": 106,
   "metadata": {},
   "outputs": [],
   "source": [
    "a = []\n",
    "b = [1, 2, 3, 4, 5]\n",
    "c = [-4, 0, 7, 3.14]\n",
    "d = ['life', 'is', 'too', 'short']\n",
    "e = [1, 2, 'java', 'python']\n",
    "f = [1, 2, [3, 4, 'foo', 'bar']]"
   ]
  },
  {
   "cell_type": "markdown",
   "metadata": {},
   "source": [
    "### 1.3.2. Concatenation"
   ]
  },
  {
   "cell_type": "code",
   "execution_count": 121,
   "metadata": {},
   "outputs": [
    {
     "name": "stdout",
     "output_type": "stream",
     "text": [
      "[1, 2, 3, 4, 5]\n"
     ]
    }
   ],
   "source": [
    "a = [1, 2, 3]\n",
    "b = [4, 5]\n",
    "print(a + b)  # [1, 2, 3, 4, 5]"
   ]
  },
  {
   "cell_type": "markdown",
   "metadata": {},
   "source": [
    "### 1.3.3. Repetition"
   ]
  },
  {
   "cell_type": "code",
   "execution_count": 125,
   "metadata": {},
   "outputs": [],
   "source": [
    "a = [1, 2, 3] * 3  # [1, 2, 3, 1, 2, 3, 1, 2, 3]\n",
    "b = [4, 5] * 4     # [4, 5, 4, 5, 4, 5, 4, 5]"
   ]
  },
  {
   "cell_type": "markdown",
   "metadata": {},
   "source": [
    "### 1.3.4. Length"
   ]
  },
  {
   "cell_type": "code",
   "execution_count": 128,
   "metadata": {},
   "outputs": [],
   "source": [
    "a = [2, 3, 5, 7, 11, 13, 17, 19]\n",
    "b = len(a)  # 8"
   ]
  },
  {
   "cell_type": "markdown",
   "metadata": {},
   "source": [
    "### 1.3.5. Indexing"
   ]
  },
  {
   "cell_type": "code",
   "execution_count": 113,
   "metadata": {},
   "outputs": [
    {
     "name": "stdout",
     "output_type": "stream",
     "text": [
      "2\n",
      "7\n",
      "19\n",
      "17\n",
      "5\n",
      "[2, 4, 6, 8]\n",
      "4\n",
      "8\n"
     ]
    }
   ],
   "source": [
    "a = [2, 3, 5, 7, 11, 13, 17, 19]\n",
    "\n",
    "print(a[0])  # 2\n",
    "print(a[3])  # 7\n",
    "\n",
    "print(a[-1])  # 19\n",
    "print(a[-2])  # 17\n",
    "\n",
    "b = [1, 3, 5, 7, [2, 4, 6, 8]]\n",
    "\n",
    "print(b[2])       # 5\n",
    "print(b[4])       # [2, 4, 6, 8]\n",
    "\n",
    "print(b[4][1])    # 4\n",
    "print(b[-1][-1])  # 8"
   ]
  },
  {
   "cell_type": "markdown",
   "metadata": {},
   "source": [
    "### 1.3.6. Slicing"
   ]
  },
  {
   "cell_type": "code",
   "execution_count": 120,
   "metadata": {},
   "outputs": [
    {
     "name": "stdout",
     "output_type": "stream",
     "text": [
      "[2, 3, 5, 7]\n",
      "[7, 11, 13]\n",
      "[2, 3, 5, 7, 11]\n",
      "[7, 11, 13, 17, 19]\n",
      "[2, 3, 5, 7, 11, 13, 17, 19]\n",
      "[5, 7]\n",
      "[2, 5, 11, 17]\n"
     ]
    }
   ],
   "source": [
    "a = [2, 3, 5, 7, 11, 13, 17, 19]\n",
    "\n",
    "print(a[0:4])  # [2, 3, 5, 7]\n",
    "print(a[3:6])  # [7, 11, 13]\n",
    "\n",
    "print(a[:5])  # [2, 3, 5, 7, 11]\n",
    "print(a[3:])  # [7, 11, 13, 17, 19]\n",
    "print(a[:])   # [2, 3, 5, 7, 11, 13, 17, 19]\n",
    "\n",
    "print(a[2:-4])  # [5, 7]\n",
    "\n",
    "print(a[0::2])  # [2, 5, 11, 17]"
   ]
  },
  {
   "cell_type": "markdown",
   "metadata": {},
   "source": [
    "### 1.3.7. Modification"
   ]
  },
  {
   "cell_type": "code",
   "execution_count": 130,
   "metadata": {},
   "outputs": [
    {
     "name": "stdout",
     "output_type": "stream",
     "text": [
      "[1, 4, 3]\n"
     ]
    }
   ],
   "source": [
    "a = [1, 2, 3]\n",
    "a[1] = 4\n",
    "\n",
    "print(a)  # [1, 4, 3]"
   ]
  },
  {
   "cell_type": "markdown",
   "metadata": {},
   "source": [
    "### 1.3.8. Deletion"
   ]
  },
  {
   "cell_type": "code",
   "execution_count": 134,
   "metadata": {},
   "outputs": [
    {
     "name": "stdout",
     "output_type": "stream",
     "text": [
      "[2, 3, 5, 17, 19]\n"
     ]
    }
   ],
   "source": [
    "a = [2, 3, 5, 7, 11, 13, 17, 19]\n",
    "del a[3:6]\n",
    "\n",
    "print(a)  # [2, 3, 5, 17, 19]"
   ]
  },
  {
   "cell_type": "markdown",
   "metadata": {},
   "source": [
    "### 1.3.9. Methods"
   ]
  },
  {
   "cell_type": "markdown",
   "metadata": {},
   "source": [
    "#### 1.3.9.1. Append"
   ]
  },
  {
   "cell_type": "code",
   "execution_count": 136,
   "metadata": {},
   "outputs": [
    {
     "name": "stdout",
     "output_type": "stream",
     "text": [
      "[1, 2, 3, 5]\n",
      "[4, 5, 6, [7, 8]]\n"
     ]
    }
   ],
   "source": [
    "a = [1, 2, 3]\n",
    "a.append(5)\n",
    "\n",
    "print(a)  # [1, 2, 3, 5]\n",
    "\n",
    "b = [4, 5, 6]\n",
    "b.append([7, 8])\n",
    "\n",
    "print(b)  # [4, 5, 6, [7, 8]]"
   ]
  },
  {
   "cell_type": "markdown",
   "metadata": {},
   "source": [
    "#### 1.3.9.2. Extend"
   ]
  },
  {
   "cell_type": "code",
   "execution_count": 153,
   "metadata": {},
   "outputs": [
    {
     "name": "stdout",
     "output_type": "stream",
     "text": [
      "[1, 2, 3, 4, 5]\n"
     ]
    }
   ],
   "source": [
    "a = [1, 2, 3]\n",
    "a.extend([4, 5])\n",
    "\n",
    "print(a)  # [1, 2, 3, 4, 5]"
   ]
  },
  {
   "cell_type": "markdown",
   "metadata": {},
   "source": [
    "#### 1.3.9.3. Sort"
   ]
  },
  {
   "cell_type": "code",
   "execution_count": 138,
   "metadata": {},
   "outputs": [
    {
     "name": "stdout",
     "output_type": "stream",
     "text": [
      "[1, 2, 3, 4, 5]\n",
      "['a', 'b', 'c', 'd', 'e']\n"
     ]
    }
   ],
   "source": [
    "a = [5, 2, 4, 1, 3]\n",
    "a.sort()\n",
    "\n",
    "print(a)  # [1, 2, 3, 4, 5]\n",
    "\n",
    "b = ['e', 'b', 'd', 'a', 'c']\n",
    "b.sort()\n",
    "\n",
    "print(b)  # ['a', 'b', 'c', 'd', 'e']"
   ]
  },
  {
   "cell_type": "markdown",
   "metadata": {},
   "source": [
    "#### 1.3.9.4. Reverse"
   ]
  },
  {
   "cell_type": "code",
   "execution_count": 26,
   "metadata": {},
   "outputs": [
    {
     "name": "stdout",
     "output_type": "stream",
     "text": [
      "[3, 1, 4, 2, 5]\n"
     ]
    }
   ],
   "source": [
    "a = [5, 2, 4, 1, 3]\n",
    "a.reverse()\n",
    "\n",
    "print(a)  # [3, 1, 4, 2, 5]"
   ]
  },
  {
   "cell_type": "markdown",
   "metadata": {},
   "source": [
    "#### 1.3.9.5. Index"
   ]
  },
  {
   "cell_type": "code",
   "execution_count": 142,
   "metadata": {},
   "outputs": [
    {
     "name": "stdout",
     "output_type": "stream",
     "text": [
      "2\n",
      "5\n"
     ]
    }
   ],
   "source": [
    "a = [2, 3, 5, 7, 11, 13, 17, 19]\n",
    "\n",
    "print(a.index(5))   # 2\n",
    "print(a.index(13))  # 5"
   ]
  },
  {
   "cell_type": "markdown",
   "metadata": {},
   "source": [
    "#### 1.3.9.6. Insert"
   ]
  },
  {
   "cell_type": "code",
   "execution_count": 144,
   "metadata": {},
   "outputs": [
    {
     "name": "stdout",
     "output_type": "stream",
     "text": [
      "[1, 5, 2, 3, 4]\n"
     ]
    }
   ],
   "source": [
    "a = [1, 2, 3, 4]\n",
    "a.insert(1, 5)\n",
    "\n",
    "print(a)  # [1, 5, 2, 3, 4]"
   ]
  },
  {
   "cell_type": "markdown",
   "metadata": {},
   "source": [
    "#### 1.3.9.7. Remove"
   ]
  },
  {
   "cell_type": "code",
   "execution_count": 148,
   "metadata": {},
   "outputs": [
    {
     "name": "stdout",
     "output_type": "stream",
     "text": [
      "[3, 1, 3, 2, 1]\n"
     ]
    }
   ],
   "source": [
    "a = [3, 1, 2, 3, 2, 1]\n",
    "a.remove(2)\n",
    "\n",
    "print(a)  # [3, 1, 3, 2, 1]"
   ]
  },
  {
   "cell_type": "markdown",
   "metadata": {},
   "source": [
    "#### 1.3.9.8. Pop"
   ]
  },
  {
   "cell_type": "code",
   "execution_count": 151,
   "metadata": {},
   "outputs": [
    {
     "name": "stdout",
     "output_type": "stream",
     "text": [
      "[1, 2, 3]\n",
      "4\n",
      "[5, 7]\n",
      "6\n"
     ]
    }
   ],
   "source": [
    "a = [1, 2, 3, 4]\n",
    "b = a.pop()\n",
    "\n",
    "print(a)  # [1, 2, 3]\n",
    "print(b)  # 4\n",
    "\n",
    "c = [5, 6, 7]\n",
    "d = c.pop(1)\n",
    "\n",
    "print(c)  # [5, 7]\n",
    "print(d)  # 6"
   ]
  },
  {
   "cell_type": "markdown",
   "metadata": {},
   "source": [
    "#### 1.3.9.9. Count"
   ]
  },
  {
   "cell_type": "code",
   "execution_count": 158,
   "metadata": {},
   "outputs": [
    {
     "name": "stdout",
     "output_type": "stream",
     "text": [
      "3\n"
     ]
    }
   ],
   "source": [
    "a = [1, 4, 2, 2, 3, 1, 1, 4, 4]\n",
    "\n",
    "print(a.count(4))  # 3"
   ]
  },
  {
   "cell_type": "markdown",
   "metadata": {},
   "source": [
    "## 1.4. Tuple"
   ]
  },
  {
   "cell_type": "markdown",
   "metadata": {},
   "source": [
    "### 1.4.1. Initializing"
   ]
  },
  {
   "cell_type": "code",
   "execution_count": 30,
   "metadata": {},
   "outputs": [
    {
     "data": {
      "text/plain": [
       "tuple"
      ]
     },
     "execution_count": 30,
     "metadata": {},
     "output_type": "execute_result"
    }
   ],
   "source": [
    "a = ()\n",
    "b = (1, 2, 3, 4, 5)\n",
    "c = (-4, 0, 7, 3.14)\n",
    "d = ('life', 'is', 'too', 'short')\n",
    "e = (1, 2, 'java', 'python')\n",
    "f = (1, 2, [3, 4, 'foo', 'bar'])\n",
    "\n",
    "g = (1,)\n",
    "h = 1, 2, 3, 4, 5"
   ]
  },
  {
   "cell_type": "markdown",
   "metadata": {},
   "source": [
    "### 1.4.2. Concatenation"
   ]
  },
  {
   "cell_type": "code",
   "execution_count": 167,
   "metadata": {},
   "outputs": [
    {
     "name": "stdout",
     "output_type": "stream",
     "text": [
      "(1, 2, 3, 4, 5)\n"
     ]
    }
   ],
   "source": [
    "a = (1, 2, 3)\n",
    "b = (4, 5)\n",
    "print(a + b)  # (1, 2, 3, 4, 5)"
   ]
  },
  {
   "cell_type": "markdown",
   "metadata": {},
   "source": [
    "### 1.4.3. Repetition"
   ]
  },
  {
   "cell_type": "code",
   "execution_count": 170,
   "metadata": {},
   "outputs": [],
   "source": [
    "a = (1, 2, 3) * 3  # (1, 2, 3, 1, 2, 3, 1, 2, 3)\n",
    "b = (4, 5) * 4     # (4, 5, 4, 5, 4, 5, 4, 5)"
   ]
  },
  {
   "cell_type": "markdown",
   "metadata": {},
   "source": [
    "### 1.4.4. Length"
   ]
  },
  {
   "cell_type": "code",
   "execution_count": 166,
   "metadata": {},
   "outputs": [],
   "source": [
    "a = (2, 3, 5, 7, 11, 13, 17, 19)\n",
    "b = len(a)  # 8"
   ]
  },
  {
   "cell_type": "markdown",
   "metadata": {},
   "source": [
    "### 1.4.5. Indexing"
   ]
  },
  {
   "cell_type": "code",
   "execution_count": 172,
   "metadata": {},
   "outputs": [
    {
     "name": "stdout",
     "output_type": "stream",
     "text": [
      "2\n",
      "7\n",
      "19\n",
      "17\n"
     ]
    }
   ],
   "source": [
    "a = (2, 3, 5, 7, 11, 13, 17, 19)\n",
    "\n",
    "print(a[0])  # 2\n",
    "print(a[3])  # 7\n",
    "\n",
    "print(a[-1])  # 19\n",
    "print(a[-2])  # 17"
   ]
  },
  {
   "cell_type": "markdown",
   "metadata": {},
   "source": [
    "### 1.4.6. Slicing"
   ]
  },
  {
   "cell_type": "code",
   "execution_count": 174,
   "metadata": {},
   "outputs": [
    {
     "name": "stdout",
     "output_type": "stream",
     "text": [
      "(2, 3, 5, 7)\n",
      "(7, 11, 13)\n",
      "(2, 3, 5, 7, 11)\n",
      "(7, 11, 13, 17, 19)\n",
      "(2, 3, 5, 7, 11, 13, 17, 19)\n",
      "(5, 7)\n",
      "(2, 5, 11, 17)\n"
     ]
    }
   ],
   "source": [
    "a = (2, 3, 5, 7, 11, 13, 17, 19)\n",
    "\n",
    "print(a[0:4])  # (2, 3, 5, 7)\n",
    "print(a[3:6])  # (7, 11, 13)\n",
    "\n",
    "print(a[:5])  # (2, 3, 5, 7, 11)\n",
    "print(a[3:])  # (7, 11, 13, 17, 19)\n",
    "print(a[:])   # (2, 3, 5, 7, 11, 13, 17, 19)\n",
    "\n",
    "print(a[2:-4])  # (5, 7)\n",
    "\n",
    "print(a[0::2])  # (2, 5, 11, 17)"
   ]
  },
  {
   "cell_type": "markdown",
   "metadata": {},
   "source": [
    "## 1.5. Dictionary"
   ]
  },
  {
   "cell_type": "markdown",
   "metadata": {},
   "source": [
    "### 1.5.1. Initializing"
   ]
  },
  {
   "cell_type": "code",
   "execution_count": 178,
   "metadata": {},
   "outputs": [],
   "source": [
    "a = {}\n",
    "b = {1993: 'Clinton', 2001: 'Bush', 2009: 'Barack'}\n",
    "c = {'name': 'Steve Jobs', 'birth': 1955, 'quote': 'Think different.'}"
   ]
  },
  {
   "cell_type": "markdown",
   "metadata": {},
   "source": [
    "### 1.5.2. Access value by key"
   ]
  },
  {
   "cell_type": "code",
   "execution_count": 3,
   "metadata": {},
   "outputs": [
    {
     "name": "stdout",
     "output_type": "stream",
     "text": [
      "13\n"
     ]
    }
   ],
   "source": [
    "a = {'foo': 13, 'bar': 17}\n",
    "\n",
    "print(a['foo'])  # 13"
   ]
  },
  {
   "cell_type": "markdown",
   "metadata": {},
   "source": [
    "### 1.5.3. Addition"
   ]
  },
  {
   "cell_type": "code",
   "execution_count": 1,
   "metadata": {},
   "outputs": [
    {
     "name": "stdout",
     "output_type": "stream",
     "text": [
      "{'foo': 13, 'bar': 17}\n"
     ]
    }
   ],
   "source": [
    "a = {'foo': 13}\n",
    "a['bar'] = 17\n",
    "\n",
    "print(a)  # {'foo': 13, 'bar': 17}"
   ]
  },
  {
   "cell_type": "markdown",
   "metadata": {},
   "source": [
    "### 1.5.4. Deletion"
   ]
  },
  {
   "cell_type": "code",
   "execution_count": 2,
   "metadata": {},
   "outputs": [
    {
     "name": "stdout",
     "output_type": "stream",
     "text": [
      "{'bar': 17}\n"
     ]
    }
   ],
   "source": [
    "a = {'foo': 13, 'bar': 17}\n",
    "del a['foo']\n",
    "\n",
    "print(a)  # {'bar': 17}"
   ]
  },
  {
   "cell_type": "markdown",
   "metadata": {},
   "source": [
    "### 1.5.5. Note"
   ]
  },
  {
   "cell_type": "code",
   "execution_count": 8,
   "metadata": {},
   "outputs": [
    {
     "name": "stdout",
     "output_type": "stream",
     "text": [
      "Error: unhashable type: 'list'\n"
     ]
    }
   ],
   "source": [
    "# keys must be immutable\n",
    "\n",
    "try:\n",
    "    a = {[1, 2, 3]: 'foo'}\n",
    "except TypeError as err:\n",
    "    print('Error:', err)"
   ]
  },
  {
   "cell_type": "markdown",
   "metadata": {},
   "source": [
    "### 1.5.6. Methods"
   ]
  },
  {
   "cell_type": "markdown",
   "metadata": {},
   "source": [
    "#### 1.5.6.1. Keys"
   ]
  },
  {
   "cell_type": "code",
   "execution_count": 12,
   "metadata": {},
   "outputs": [
    {
     "name": "stdout",
     "output_type": "stream",
     "text": [
      "dict_keys(['name', 'birth', 'quote'])\n"
     ]
    }
   ],
   "source": [
    "a = {'name': 'Steve Jobs', 'birth': 1955, 'quote': 'Think different.'}\n",
    "\n",
    "print(a.keys())  # dict_keys(['name', 'birth', 'quote'])"
   ]
  },
  {
   "cell_type": "markdown",
   "metadata": {},
   "source": [
    "#### 1.5.6.2. Values"
   ]
  },
  {
   "cell_type": "code",
   "execution_count": 11,
   "metadata": {},
   "outputs": [
    {
     "name": "stdout",
     "output_type": "stream",
     "text": [
      "dict_values(['Steve Jobs', 1955, 'Think different.'])\n"
     ]
    }
   ],
   "source": [
    "a = {'name': 'Steve Jobs', 'birth': 1955, 'quote': 'Think different.'}\n",
    "\n",
    "print(a.values())  # dict_values(['Steve Jobs', 1955, 'Think different.'])"
   ]
  },
  {
   "cell_type": "markdown",
   "metadata": {},
   "source": [
    "#### 1.5.6.3. Items"
   ]
  },
  {
   "cell_type": "code",
   "execution_count": 14,
   "metadata": {},
   "outputs": [
    {
     "name": "stdout",
     "output_type": "stream",
     "text": [
      "dict_items([('name', 'Steve Jobs'), ('birth', 1955), ('quote', 'Think different.')])\n"
     ]
    }
   ],
   "source": [
    "a = {'name': 'Steve Jobs', 'birth': 1955, 'quote': 'Think different.'}\n",
    "\n",
    "# dict_items([('name', 'Steve Jobs'), ('birth', 1955), ('quote', 'Think different.')])\n",
    "print(a.items())"
   ]
  },
  {
   "cell_type": "markdown",
   "metadata": {},
   "source": [
    "#### 1.5.6.4. Clear"
   ]
  },
  {
   "cell_type": "code",
   "execution_count": 15,
   "metadata": {},
   "outputs": [
    {
     "name": "stdout",
     "output_type": "stream",
     "text": [
      "{}\n"
     ]
    }
   ],
   "source": [
    "a = {'foo': 13, 'bar': 17}\n",
    "a.clear()\n",
    "\n",
    "print(a)  # {}"
   ]
  },
  {
   "cell_type": "markdown",
   "metadata": {},
   "source": [
    "#### 1.5.6.5. Get"
   ]
  },
  {
   "cell_type": "code",
   "execution_count": 41,
   "metadata": {},
   "outputs": [
    {
     "name": "stdout",
     "output_type": "stream",
     "text": [
      "Steve Jobs\n",
      "None\n",
      "Apple\n"
     ]
    }
   ],
   "source": [
    "a = {'name': 'Steve Jobs', 'birth': 1955, 'quote': 'Think different.'}\n",
    "\n",
    "print(a.get('name'))     # Steve Jobs\n",
    "print(a.get('company'))  # None\n",
    "\n",
    "print(a.get('company', 'Apple'))  # Apple"
   ]
  },
  {
   "cell_type": "markdown",
   "metadata": {},
   "source": [
    "## 1.6. Set"
   ]
  },
  {
   "cell_type": "markdown",
   "metadata": {},
   "source": [
    "### 1.6.1. Initializing"
   ]
  },
  {
   "cell_type": "code",
   "execution_count": 21,
   "metadata": {},
   "outputs": [],
   "source": [
    "a = set()           # set()\n",
    "b = set([1, 2, 3])  # {1, 2, 3}\n",
    "c = set('hello')    # {'e', 'h', 'l', 'o'}"
   ]
  },
  {
   "cell_type": "markdown",
   "metadata": {},
   "source": [
    "### 1.6.2. Intersection"
   ]
  },
  {
   "cell_type": "code",
   "execution_count": 24,
   "metadata": {},
   "outputs": [
    {
     "name": "stdout",
     "output_type": "stream",
     "text": [
      "{3, 4, 5}\n",
      "{3, 4, 5}\n",
      "{3, 4, 5}\n"
     ]
    }
   ],
   "source": [
    "a = set([1, 2, 3, 4, 5])\n",
    "b = set([3, 4, 5, 6, 7])\n",
    "\n",
    "print(a & b)              # {3, 4, 5}\n",
    "print(b & a)              # {3, 4, 5}\n",
    "print(a.intersection(b))  # {3, 4, 5}\n",
    "print(b.intersection(a))  # {3, 4, 5}"
   ]
  },
  {
   "cell_type": "markdown",
   "metadata": {},
   "source": [
    "### 1.6.3. Union"
   ]
  },
  {
   "cell_type": "code",
   "execution_count": 26,
   "metadata": {},
   "outputs": [
    {
     "name": "stdout",
     "output_type": "stream",
     "text": [
      "{1, 2, 3, 4, 5, 6, 7}\n",
      "{1, 2, 3, 4, 5, 6, 7}\n",
      "{1, 2, 3, 4, 5, 6, 7}\n",
      "{1, 2, 3, 4, 5, 6, 7}\n"
     ]
    }
   ],
   "source": [
    "a = set([1, 2, 3, 4, 5])\n",
    "b = set([3, 4, 5, 6, 7])\n",
    "\n",
    "print(a | b)       # {1, 2, 3, 4, 5, 6, 7}\n",
    "print(b | a)       # {1, 2, 3, 4, 5, 6, 7}\n",
    "print(a.union(b))  # {1, 2, 3, 4, 5, 6, 7}\n",
    "print(b.union(a))  # {1, 2, 3, 4, 5, 6, 7}"
   ]
  },
  {
   "cell_type": "markdown",
   "metadata": {},
   "source": [
    "### 1.6.4. Difference"
   ]
  },
  {
   "cell_type": "code",
   "execution_count": 27,
   "metadata": {},
   "outputs": [
    {
     "name": "stdout",
     "output_type": "stream",
     "text": [
      "{1, 2}\n",
      "{6, 7}\n",
      "{1, 2}\n",
      "{6, 7}\n"
     ]
    }
   ],
   "source": [
    "a = set([1, 2, 3, 4, 5])\n",
    "b = set([3, 4, 5, 6, 7])\n",
    "\n",
    "print(a - b)            # {1, 2}\n",
    "print(b - a)            # {6, 7}\n",
    "print(a.difference(b))  # {1, 2}\n",
    "print(b.difference(a))  # {6, 7}"
   ]
  },
  {
   "cell_type": "markdown",
   "metadata": {},
   "source": [
    "### 1.6.5. Methods"
   ]
  },
  {
   "cell_type": "markdown",
   "metadata": {},
   "source": [
    "#### 1.6.5.1. Add"
   ]
  },
  {
   "cell_type": "code",
   "execution_count": 28,
   "metadata": {},
   "outputs": [
    {
     "name": "stdout",
     "output_type": "stream",
     "text": [
      "{1, 2, 3, 4}\n"
     ]
    }
   ],
   "source": [
    "a = set([1, 2, 3])\n",
    "a.add(4)\n",
    "\n",
    "print(a)  # {1, 2, 3, 4}"
   ]
  },
  {
   "cell_type": "markdown",
   "metadata": {},
   "source": [
    "#### 1.6.5.2. Update"
   ]
  },
  {
   "cell_type": "code",
   "execution_count": 29,
   "metadata": {},
   "outputs": [
    {
     "name": "stdout",
     "output_type": "stream",
     "text": [
      "{1, 2, 3, 4, 5, 6}\n"
     ]
    }
   ],
   "source": [
    "a = set([1, 2 ,3])\n",
    "a.update([4, 5, 6])\n",
    "\n",
    "print(a)  # {1, 2, 3, 4, 5, 6}"
   ]
  },
  {
   "cell_type": "markdown",
   "metadata": {},
   "source": [
    "#### 1.6.5.3. Remove"
   ]
  },
  {
   "cell_type": "code",
   "execution_count": 30,
   "metadata": {},
   "outputs": [
    {
     "name": "stdout",
     "output_type": "stream",
     "text": [
      "{1, 3}\n"
     ]
    }
   ],
   "source": [
    "a = set([1, 2, 3])\n",
    "a.remove(2)\n",
    "\n",
    "print(a)  # {1, 3}"
   ]
  },
  {
   "cell_type": "markdown",
   "metadata": {},
   "source": [
    "## 1.7. Bool"
   ]
  },
  {
   "cell_type": "markdown",
   "metadata": {},
   "source": [
    "### 1.7.1. Initializing"
   ]
  },
  {
   "cell_type": "code",
   "execution_count": 31,
   "metadata": {},
   "outputs": [],
   "source": [
    "a = True\n",
    "b = False"
   ]
  },
  {
   "cell_type": "markdown",
   "metadata": {},
   "source": [
    "### 1.7.2. Data types"
   ]
  },
  {
   "cell_type": "code",
   "execution_count": 46,
   "metadata": {},
   "outputs": [],
   "source": [
    "a = bool('foo')  # True\n",
    "b = bool('')     # False\n",
    "\n",
    "c = bool([1, 2, 3])  # True\n",
    "d = bool([])         # False\n",
    "\n",
    "e = bool((1, 2, 3))  # True\n",
    "f = bool(())         # False\n",
    "\n",
    "g = bool({'foo': 13, 'bar': 17})  # True\n",
    "h = bool({})                      # False\n",
    "\n",
    "i = bool(set([1, 2, 3]))  # True\n",
    "j = bool(set())           # False\n",
    "\n",
    "k = bool(13)  # True\n",
    "l = bool(0)   # False\n",
    "\n",
    "m = bool(None)  # False"
   ]
  },
  {
   "cell_type": "markdown",
   "metadata": {},
   "source": [
    "### 1.7.3. Boolean operators"
   ]
  },
  {
   "cell_type": "code",
   "execution_count": 56,
   "metadata": {},
   "outputs": [
    {
     "name": "stdout",
     "output_type": "stream",
     "text": [
      "True\n",
      "False\n",
      "False\n",
      "True\n",
      "True\n",
      "False\n",
      "False\n",
      "True\n"
     ]
    }
   ],
   "source": [
    "print(True and True)    # True\n",
    "print(True and False)   # False\n",
    "print(False and False)  # False\n",
    "\n",
    "print(True or True)    # True\n",
    "print(True or False)   # True\n",
    "print(False or False)  # False\n",
    "\n",
    "print(not True)   # False\n",
    "print(not False)  # True"
   ]
  },
  {
   "cell_type": "markdown",
   "metadata": {},
   "source": [
    "### 1.7.4. Comparison operators"
   ]
  },
  {
   "cell_type": "code",
   "execution_count": 58,
   "metadata": {},
   "outputs": [
    {
     "name": "stdout",
     "output_type": "stream",
     "text": [
      "True\n",
      "True\n",
      "True\n",
      "True\n",
      "True\n",
      "True\n"
     ]
    }
   ],
   "source": [
    "print(5 > 3)   # True\n",
    "print(2 < 7)   # True\n",
    "\n",
    "print(5 >= 4)  # True\n",
    "print(2 <= 2)  # True\n",
    "\n",
    "print(3 == 3)  # True\n",
    "print(1 != 0)  # True"
   ]
  },
  {
   "cell_type": "markdown",
   "metadata": {},
   "source": [
    "### 1.7.5. In"
   ]
  },
  {
   "cell_type": "code",
   "execution_count": 44,
   "metadata": {},
   "outputs": [
    {
     "name": "stdout",
     "output_type": "stream",
     "text": [
      "True\n",
      "False\n",
      "True\n",
      "False\n",
      "True\n",
      "False\n",
      "True\n",
      "False\n",
      "True\n",
      "False\n"
     ]
    }
   ],
   "source": [
    "print('f' in 'foo')  # True\n",
    "print('b' in 'foo')  # False\n",
    "\n",
    "print(3 in [1, 2, 3])  # True\n",
    "print(4 in [1, 2, 3])  # False\n",
    "\n",
    "print(3 in (1, 2, 3))  # True\n",
    "print(4 in (1, 2, 3))  # False\n",
    "\n",
    "print('foo' in {'foo': 13, 'bar': 17})  # True\n",
    "print(13 in {'foo': 13, 'bar': 17})     # False\n",
    "\n",
    "print(3 in set([1, 2, 3]))  # True\n",
    "print(4 in set([1, 2, 3]))  # False"
   ]
  },
  {
   "cell_type": "markdown",
   "metadata": {},
   "source": [
    "# 2. Control Statements"
   ]
  },
  {
   "cell_type": "markdown",
   "metadata": {},
   "source": [
    "## 2.1. Conditional Statements"
   ]
  },
  {
   "cell_type": "markdown",
   "metadata": {},
   "source": [
    "### 2.1.1. If"
   ]
  },
  {
   "cell_type": "code",
   "execution_count": 73,
   "metadata": {},
   "outputs": [
    {
     "name": "stdout",
     "output_type": "stream",
     "text": [
      "a is less than or equal to b\n"
     ]
    }
   ],
   "source": [
    "a, b = 3, 4\n",
    "\n",
    "if a > b:\n",
    "    print('a is greater than b')\n",
    "if a <= b:\n",
    "    print('a is less than or equal to b')"
   ]
  },
  {
   "cell_type": "markdown",
   "metadata": {},
   "source": [
    "### 2.1.2. Else"
   ]
  },
  {
   "cell_type": "code",
   "execution_count": 74,
   "metadata": {},
   "outputs": [
    {
     "name": "stdout",
     "output_type": "stream",
     "text": [
      "a is less than or equal to b\n"
     ]
    }
   ],
   "source": [
    "a, b = 3, 4\n",
    "\n",
    "if a > b:\n",
    "    print('a is greater than b')\n",
    "else:\n",
    "    print('a is less than or equal to b')"
   ]
  },
  {
   "cell_type": "markdown",
   "metadata": {},
   "source": [
    "### 2.1.3. Elif"
   ]
  },
  {
   "cell_type": "code",
   "execution_count": 75,
   "metadata": {},
   "outputs": [
    {
     "name": "stdout",
     "output_type": "stream",
     "text": [
      "b is the maximum value\n"
     ]
    }
   ],
   "source": [
    "a, b, c = 3, 5, 4\n",
    "\n",
    "if a > b and a > c:\n",
    "    print('a is the maximum value')\n",
    "elif b > c:\n",
    "    print('b is the maximum value')\n",
    "else:\n",
    "    print('c is the maximum value')"
   ]
  },
  {
   "cell_type": "markdown",
   "metadata": {},
   "source": [
    "### 2.1.4. Conditional expression"
   ]
  },
  {
   "cell_type": "code",
   "execution_count": 46,
   "metadata": {},
   "outputs": [
    {
     "name": "stdout",
     "output_type": "stream",
     "text": [
      "Pass\n"
     ]
    }
   ],
   "source": [
    "score = 90\n",
    "a = 'Pass' if score > 80 else 'Fail'\n",
    "\n",
    "print(a)  # Pass"
   ]
  },
  {
   "cell_type": "markdown",
   "metadata": {},
   "source": [
    "## 2.2. While"
   ]
  },
  {
   "cell_type": "markdown",
   "metadata": {},
   "source": [
    "### 2.2.1. While"
   ]
  },
  {
   "cell_type": "code",
   "execution_count": 78,
   "metadata": {},
   "outputs": [
    {
     "name": "stdout",
     "output_type": "stream",
     "text": [
      "0\n",
      "1\n",
      "2\n",
      "3\n",
      "4\n",
      "5\n",
      "6\n",
      "7\n",
      "8\n",
      "9\n"
     ]
    }
   ],
   "source": [
    "a = 0\n",
    "\n",
    "while a < 10:\n",
    "    print(a)\n",
    "    a = a + 1"
   ]
  },
  {
   "cell_type": "markdown",
   "metadata": {},
   "source": [
    "### 2.2.2. Break"
   ]
  },
  {
   "cell_type": "code",
   "execution_count": 80,
   "metadata": {},
   "outputs": [
    {
     "name": "stdout",
     "output_type": "stream",
     "text": [
      "0\n",
      "1\n",
      "2\n",
      "3\n",
      "4\n",
      "5\n"
     ]
    }
   ],
   "source": [
    "a = 0\n",
    "\n",
    "while a < 10:\n",
    "    print(a)\n",
    "    if a == 5:\n",
    "        break\n",
    "    a = a + 1"
   ]
  },
  {
   "cell_type": "markdown",
   "metadata": {},
   "source": [
    "### 2.2.3. Continue"
   ]
  },
  {
   "cell_type": "code",
   "execution_count": 82,
   "metadata": {},
   "outputs": [
    {
     "name": "stdout",
     "output_type": "stream",
     "text": [
      "1\n",
      "3\n",
      "5\n",
      "7\n",
      "9\n"
     ]
    }
   ],
   "source": [
    "a = 0\n",
    "\n",
    "while a < 10:\n",
    "    a = a + 1\n",
    "    if a % 2 == 0:\n",
    "        continue\n",
    "    print(a)"
   ]
  },
  {
   "cell_type": "markdown",
   "metadata": {},
   "source": [
    "## 2.3. For"
   ]
  },
  {
   "cell_type": "markdown",
   "metadata": {},
   "source": [
    "### 2.3.1. For"
   ]
  },
  {
   "cell_type": "code",
   "execution_count": 86,
   "metadata": {},
   "outputs": [
    {
     "name": "stdout",
     "output_type": "stream",
     "text": [
      "life\n",
      "is\n",
      "too\n",
      "short\n",
      "i=1, j=2\n",
      "i=3, j=4\n",
      "i=5, j=6\n"
     ]
    }
   ],
   "source": [
    "a = ['life', 'is', 'too', 'short']\n",
    "\n",
    "for el in a:\n",
    "    print(el)\n",
    "\n",
    "b = [[1, 2], [3, 4], [5, 6]]\n",
    "\n",
    "for i, j in b:\n",
    "    print(f'{i=}, {j=}')"
   ]
  },
  {
   "cell_type": "markdown",
   "metadata": {},
   "source": [
    "### 2.3.2. Break"
   ]
  },
  {
   "cell_type": "code",
   "execution_count": 87,
   "metadata": {},
   "outputs": [
    {
     "name": "stdout",
     "output_type": "stream",
     "text": [
      "5\n",
      "8\n",
      "6\n"
     ]
    }
   ],
   "source": [
    "a = [5, 8, 6, 2, 7, 1]\n",
    "\n",
    "for el in a:\n",
    "    if el < 3:\n",
    "        break\n",
    "    print(el)"
   ]
  },
  {
   "cell_type": "markdown",
   "metadata": {},
   "source": [
    "### 2.3.3. Continue"
   ]
  },
  {
   "cell_type": "code",
   "execution_count": 89,
   "metadata": {},
   "outputs": [
    {
     "name": "stdout",
     "output_type": "stream",
     "text": [
      "5\n",
      "8\n",
      "6\n",
      "7\n"
     ]
    }
   ],
   "source": [
    "a = [5, 8, 6, 2, 7, 1]\n",
    "\n",
    "for el in a:\n",
    "    if el < 3:\n",
    "        continue\n",
    "    print(el)"
   ]
  },
  {
   "cell_type": "markdown",
   "metadata": {},
   "source": [
    "### 2.3.4. Range"
   ]
  },
  {
   "cell_type": "code",
   "execution_count": 100,
   "metadata": {},
   "outputs": [
    {
     "name": "stdout",
     "output_type": "stream",
     "text": [
      "0\n",
      "1\n",
      "2\n",
      "3\n"
     ]
    }
   ],
   "source": [
    "a = range(7)        # 0, 1, 2, 3, 4, 5, 6\n",
    "b = range(2, 9)     # 2, 3, 4, 5, 6, 7, 8\n",
    "c = range(1, 9, 2)  # 1, 3, 5, 7\n",
    "\n",
    "for el in range(4):\n",
    "    print(el)"
   ]
  },
  {
   "cell_type": "markdown",
   "metadata": {},
   "source": [
    "### 2.3.5. Enumerate"
   ]
  },
  {
   "cell_type": "code",
   "execution_count": 101,
   "metadata": {},
   "outputs": [
    {
     "name": "stdout",
     "output_type": "stream",
     "text": [
      "idx=0, val='life'\n",
      "idx=1, val='is'\n",
      "idx=2, val='too'\n",
      "idx=3, val='short'\n"
     ]
    }
   ],
   "source": [
    "a = ['life', 'is', 'too', 'short']\n",
    "\n",
    "for idx, val in enumerate(a):\n",
    "    print(f'{idx=}, {val=}')"
   ]
  },
  {
   "cell_type": "markdown",
   "metadata": {},
   "source": [
    "### 2.3.6. List comprehension"
   ]
  },
  {
   "cell_type": "code",
   "execution_count": 47,
   "metadata": {},
   "outputs": [
    {
     "data": {
      "text/plain": [
       "[3, 6, 9, 12, 15, 18, 21, 24, 27]"
      ]
     },
     "execution_count": 47,
     "metadata": {},
     "output_type": "execute_result"
    }
   ],
   "source": [
    "a = []\n",
    "for i in range(1, 10):\n",
    "    a.append(i * 3)\n",
    "a"
   ]
  },
  {
   "cell_type": "code",
   "execution_count": 109,
   "metadata": {},
   "outputs": [],
   "source": [
    "a = [el * 3 for el in range(5)]                 # [0, 3, 6, 9, 12]\n",
    "b = [el * 2 for el in range(6) if el % 2 == 1]  # [2, 6, 10]"
   ]
  },
  {
   "cell_type": "code",
   "execution_count": 58,
   "metadata": {},
   "outputs": [
    {
     "name": "stdout",
     "output_type": "stream",
     "text": [
      "2 * 1 =  2\n",
      "2 * 2 =  4\n",
      "2 * 3 =  6\n",
      "2 * 4 =  8\n",
      "2 * 5 = 10\n",
      "2 * 6 = 12\n",
      "2 * 7 = 14\n",
      "2 * 8 = 16\n",
      "2 * 9 = 18\n",
      "3 * 1 =  3\n",
      "3 * 2 =  6\n",
      "3 * 3 =  9\n",
      "3 * 4 = 12\n",
      "3 * 5 = 15\n",
      "3 * 6 = 18\n",
      "3 * 7 = 21\n",
      "3 * 8 = 24\n",
      "3 * 9 = 27\n",
      "4 * 1 =  4\n",
      "4 * 2 =  8\n",
      "4 * 3 = 12\n",
      "4 * 4 = 16\n",
      "4 * 5 = 20\n",
      "4 * 6 = 24\n",
      "4 * 7 = 28\n",
      "4 * 8 = 32\n",
      "4 * 9 = 36\n",
      "5 * 1 =  5\n",
      "5 * 2 = 10\n",
      "5 * 3 = 15\n",
      "5 * 4 = 20\n",
      "5 * 5 = 25\n",
      "5 * 6 = 30\n",
      "5 * 7 = 35\n",
      "5 * 8 = 40\n",
      "5 * 9 = 45\n",
      "6 * 1 =  6\n",
      "6 * 2 = 12\n",
      "6 * 3 = 18\n",
      "6 * 4 = 24\n",
      "6 * 5 = 30\n",
      "6 * 6 = 36\n",
      "6 * 7 = 42\n",
      "6 * 8 = 48\n",
      "6 * 9 = 54\n",
      "7 * 1 =  7\n",
      "7 * 2 = 14\n",
      "7 * 3 = 21\n",
      "7 * 4 = 28\n",
      "7 * 5 = 35\n",
      "7 * 6 = 42\n",
      "7 * 7 = 49\n",
      "7 * 8 = 56\n",
      "7 * 9 = 63\n",
      "8 * 1 =  8\n",
      "8 * 2 = 16\n",
      "8 * 3 = 24\n",
      "8 * 4 = 32\n",
      "8 * 5 = 40\n",
      "8 * 6 = 48\n",
      "8 * 7 = 56\n",
      "8 * 8 = 64\n",
      "8 * 9 = 72\n",
      "9 * 1 =  9\n",
      "9 * 2 = 18\n",
      "9 * 3 = 27\n",
      "9 * 4 = 36\n",
      "9 * 5 = 45\n",
      "9 * 6 = 54\n",
      "9 * 7 = 63\n",
      "9 * 8 = 72\n",
      "9 * 9 = 81\n"
     ]
    }
   ],
   "source": [
    "print(*[f'{a} * {b} = {a * b:>2}' for a in range(2, 10) for b in range(1, 10)], sep='\\n')"
   ]
  },
  {
   "cell_type": "markdown",
   "metadata": {},
   "source": [
    "```\n",
    "2 * 1 = 2\n",
    "2 * 2 = 4\n",
    "...\n",
    "2 * 9 = 18\n",
    "----------\n",
    "3 * 1 = 3\n",
    "\n",
    "```"
   ]
  },
  {
   "cell_type": "markdown",
   "metadata": {},
   "source": [
    "# 3. Function"
   ]
  },
  {
   "cell_type": "markdown",
   "metadata": {},
   "source": [
    "## 3.1. Parameter (×) & Return (×)"
   ]
  },
  {
   "cell_type": "code",
   "execution_count": 110,
   "metadata": {},
   "outputs": [
    {
     "name": "stdout",
     "output_type": "stream",
     "text": [
      "Hello World\n"
     ]
    }
   ],
   "source": [
    "def print_hello():\n",
    "    print('Hello World')\n",
    "\n",
    "print_hello()"
   ]
  },
  {
   "cell_type": "markdown",
   "metadata": {},
   "source": [
    "## 3.2. Parameter (⚬) & Return (×)"
   ]
  },
  {
   "cell_type": "code",
   "execution_count": 115,
   "metadata": {},
   "outputs": [
    {
     "name": "stdout",
     "output_type": "stream",
     "text": [
      "Hello World\n",
      "Life is too short.\n"
     ]
    }
   ],
   "source": [
    "def print_message(msg):\n",
    "    print(msg)\n",
    "\n",
    "print_message('Hello World')\n",
    "print_message(msg='Life is too short.')"
   ]
  },
  {
   "cell_type": "markdown",
   "metadata": {},
   "source": [
    "## 3.3. Parameter (×) & Return (⚬)"
   ]
  },
  {
   "cell_type": "code",
   "execution_count": 112,
   "metadata": {},
   "outputs": [
    {
     "name": "stdout",
     "output_type": "stream",
     "text": [
      "3.141592\n"
     ]
    }
   ],
   "source": [
    "def get_pi():\n",
    "    return 3.141592\n",
    "\n",
    "pi = get_pi()\n",
    "print(pi)"
   ]
  },
  {
   "cell_type": "markdown",
   "metadata": {},
   "source": [
    "## 3.4. Parameter (⚬) & Return (⚬)"
   ]
  },
  {
   "cell_type": "code",
   "execution_count": 113,
   "metadata": {},
   "outputs": [
    {
     "name": "stdout",
     "output_type": "stream",
     "text": [
      "8\n"
     ]
    }
   ],
   "source": [
    "def add_two_numbers(a, b):\n",
    "    return a + b\n",
    "\n",
    "result = add_two_numbers(3, 5)\n",
    "print(result)"
   ]
  },
  {
   "cell_type": "markdown",
   "metadata": {},
   "source": [
    "## 3.5. Multiple Parameters"
   ]
  },
  {
   "cell_type": "code",
   "execution_count": 116,
   "metadata": {},
   "outputs": [
    {
     "name": "stdout",
     "output_type": "stream",
     "text": [
      "25\n"
     ]
    }
   ],
   "source": [
    "def add_multiple_numbers(*args):\n",
    "    result = 0\n",
    "    for el in args:\n",
    "        result = result + el\n",
    "    return result\n",
    "\n",
    "result = add_multiple_numbers(3, 2, 6, 4, 9, 1)\n",
    "print(result)"
   ]
  },
  {
   "cell_type": "markdown",
   "metadata": {},
   "source": [
    "## 3.6. Keyword Parameters"
   ]
  },
  {
   "cell_type": "code",
   "execution_count": 122,
   "metadata": {},
   "outputs": [
    {
     "name": "stdout",
     "output_type": "stream",
     "text": [
      "{'lang': 'python', 'num': 123}\n"
     ]
    }
   ],
   "source": [
    "def print_kwargs(**kwargs):\n",
    "    print(kwargs)\n",
    "\n",
    "print_kwargs(lang='python', num=123)"
   ]
  },
  {
   "cell_type": "markdown",
   "metadata": {},
   "source": [
    "## 3.7. Parameter Initialization"
   ]
  },
  {
   "cell_type": "code",
   "execution_count": 124,
   "metadata": {},
   "outputs": [
    {
     "name": "stdout",
     "output_type": "stream",
     "text": [
      "11\n"
     ]
    }
   ],
   "source": [
    "def add_two_numbers2(a, b, do_print=False):\n",
    "    result = a + b\n",
    "    if do_print:\n",
    "        print(result)\n",
    "    return result\n",
    "\n",
    "a = add_two_numbers2(2, 5)\n",
    "b = add_two_numbers2(3, 8, do_print=True)"
   ]
  },
  {
   "cell_type": "markdown",
   "metadata": {},
   "source": [
    "## 3.8. Lambda"
   ]
  },
  {
   "cell_type": "code",
   "execution_count": 129,
   "metadata": {},
   "outputs": [],
   "source": [
    "mul = lambda a, b: a * b\n",
    "div = lambda a, b: a / b\n",
    "\n",
    "a = mul(3, 4)  # 12\n",
    "b = div(7, 4)  # 1.75"
   ]
  },
  {
   "cell_type": "markdown",
   "metadata": {},
   "source": [
    "## 3.9. Built-in Functions"
   ]
  },
  {
   "cell_type": "markdown",
   "metadata": {},
   "source": [
    "### 3.9.1. Abs"
   ]
  },
  {
   "cell_type": "code",
   "execution_count": 138,
   "metadata": {},
   "outputs": [],
   "source": [
    "a = abs(3)   # 3\n",
    "b = abs(-4)  # 4"
   ]
  },
  {
   "cell_type": "markdown",
   "metadata": {},
   "source": [
    "### 3.9.2. All"
   ]
  },
  {
   "cell_type": "code",
   "execution_count": 143,
   "metadata": {},
   "outputs": [],
   "source": [
    "a = all([4, 2, 7])  # True\n",
    "b = all([0, 8, 1])  # False"
   ]
  },
  {
   "cell_type": "markdown",
   "metadata": {},
   "source": [
    "### 3.9.3. Any"
   ]
  },
  {
   "cell_type": "code",
   "execution_count": 148,
   "metadata": {},
   "outputs": [
    {
     "data": {
      "text/plain": [
       "(True, False)"
      ]
     },
     "execution_count": 148,
     "metadata": {},
     "output_type": "execute_result"
    }
   ],
   "source": [
    "a = any([1, 0])       # True\n",
    "b = any([0, [], ''])  # False\n",
    "a, b"
   ]
  },
  {
   "cell_type": "markdown",
   "metadata": {},
   "source": [
    "### 3.9.4. Chr"
   ]
  },
  {
   "cell_type": "code",
   "execution_count": 155,
   "metadata": {},
   "outputs": [],
   "source": [
    "a = chr(97)  # a\n",
    "b = chr(48)  # 0"
   ]
  },
  {
   "cell_type": "markdown",
   "metadata": {},
   "source": [
    "### 3.9.5. Dir"
   ]
  },
  {
   "cell_type": "code",
   "execution_count": 161,
   "metadata": {},
   "outputs": [
    {
     "name": "stdout",
     "output_type": "stream",
     "text": [
      "['__add__', '__class__', '__contains__', '__delattr__', '__delitem__', '__dir__', '__doc__', '__eq__', '__format__', '__ge__', '__getattribute__', '__getitem__', '__gt__', '__hash__', '__iadd__', '__imul__', '__init__', '__init_subclass__', '__iter__', '__le__', '__len__', '__lt__', '__mul__', '__ne__', '__new__', '__reduce__', '__reduce_ex__', '__repr__', '__reversed__', '__rmul__', '__setattr__', '__setitem__', '__sizeof__', '__str__', '__subclasshook__', 'append', 'clear', 'copy', 'count', 'extend', 'index', 'insert', 'pop', 'remove', 'reverse', 'sort']\n",
      "['__class__', '__contains__', '__delattr__', '__delitem__', '__dir__', '__doc__', '__eq__', '__format__', '__ge__', '__getattribute__', '__getitem__', '__gt__', '__hash__', '__init__', '__init_subclass__', '__iter__', '__le__', '__len__', '__lt__', '__ne__', '__new__', '__reduce__', '__reduce_ex__', '__repr__', '__reversed__', '__setattr__', '__setitem__', '__sizeof__', '__str__', '__subclasshook__', 'clear', 'copy', 'fromkeys', 'get', 'items', 'keys', 'pop', 'popitem', 'setdefault', 'update', 'values']\n"
     ]
    }
   ],
   "source": [
    "print(dir([]))\n",
    "print(dir({}))"
   ]
  },
  {
   "cell_type": "markdown",
   "metadata": {},
   "source": [
    "### 3.9.6. Divmod"
   ]
  },
  {
   "cell_type": "code",
   "execution_count": 175,
   "metadata": {},
   "outputs": [],
   "source": [
    "a = divmod(7, 3)   # (2, 1)\n",
    "b = divmod(17, 6)  # (2, 5)"
   ]
  },
  {
   "cell_type": "markdown",
   "metadata": {},
   "source": [
    "### 3.9.7. Eval"
   ]
  },
  {
   "cell_type": "code",
   "execution_count": 179,
   "metadata": {},
   "outputs": [],
   "source": [
    "a = eval('1 + 2')          # 3\n",
    "b = eval(\"'foo' + 'bar'\")  # foobar"
   ]
  },
  {
   "cell_type": "markdown",
   "metadata": {},
   "source": [
    "### 3.9.8. Filter"
   ]
  },
  {
   "cell_type": "code",
   "execution_count": 183,
   "metadata": {},
   "outputs": [
    {
     "name": "stdout",
     "output_type": "stream",
     "text": [
      "[1, 5]\n"
     ]
    }
   ],
   "source": [
    "is_positive = lambda x: x > 0\n",
    "a = [1, -3, 0, 5, -2, -4]\n",
    "\n",
    "print(list(filter(is_positive, a)))  # [1, 5]"
   ]
  },
  {
   "cell_type": "markdown",
   "metadata": {},
   "source": [
    "### 3.9.9. Int"
   ]
  },
  {
   "cell_type": "code",
   "execution_count": 190,
   "metadata": {},
   "outputs": [],
   "source": [
    "a = int('123')     # 123\n",
    "b = int(3.14)      # 3\n",
    "c = int('10', 2)   # 2\n",
    "d = int('ff', 16)  # 255"
   ]
  },
  {
   "cell_type": "markdown",
   "metadata": {},
   "source": [
    "### 3.9.10. Len"
   ]
  },
  {
   "cell_type": "code",
   "execution_count": 194,
   "metadata": {},
   "outputs": [],
   "source": [
    "a = len('python')   # 6\n",
    "b = len([1, 2, 3])  # 3"
   ]
  },
  {
   "cell_type": "markdown",
   "metadata": {},
   "source": [
    "### 3.9.11. List"
   ]
  },
  {
   "cell_type": "code",
   "execution_count": 201,
   "metadata": {},
   "outputs": [],
   "source": [
    "a = list('python')   # ['p', 'y', 't', 'h', 'o', 'n']\n",
    "b = list((1, 2, 3))  # [1, 2, 3]"
   ]
  },
  {
   "cell_type": "markdown",
   "metadata": {},
   "source": [
    "### 3.9.12. Map"
   ]
  },
  {
   "cell_type": "code",
   "execution_count": 203,
   "metadata": {},
   "outputs": [
    {
     "name": "stdout",
     "output_type": "stream",
     "text": [
      "[1, 8, 27, 64, 125]\n"
     ]
    }
   ],
   "source": [
    "cube = lambda x: x ** 3\n",
    "a = range(1, 6)\n",
    "\n",
    "print(list(map(cube, a)))  # [1, 8, 27, 64, 125]"
   ]
  },
  {
   "cell_type": "markdown",
   "metadata": {},
   "source": [
    "### 3.9.13. Max"
   ]
  },
  {
   "cell_type": "code",
   "execution_count": 207,
   "metadata": {},
   "outputs": [],
   "source": [
    "a = max([5, 2, 3, 0, 6, 1, 4])  # 6\n",
    "b = max('python')               # y"
   ]
  },
  {
   "cell_type": "markdown",
   "metadata": {},
   "source": [
    "### 3.9.14. Min"
   ]
  },
  {
   "cell_type": "code",
   "execution_count": 210,
   "metadata": {},
   "outputs": [],
   "source": [
    "a = min([5, 2, 3, 0, 6, 1, 4])  # 0\n",
    "b = min('python')               # h"
   ]
  },
  {
   "cell_type": "markdown",
   "metadata": {},
   "source": [
    "### 3.9.15. Ord"
   ]
  },
  {
   "cell_type": "code",
   "execution_count": 212,
   "metadata": {},
   "outputs": [],
   "source": [
    "a = ord('a')  # 97\n",
    "b = ord('0')  # 48"
   ]
  },
  {
   "cell_type": "markdown",
   "metadata": {},
   "source": [
    "### 3.9.16. Pow"
   ]
  },
  {
   "cell_type": "code",
   "execution_count": 215,
   "metadata": {},
   "outputs": [],
   "source": [
    "a = pow(3, 4)  # 81\n",
    "b = pow(2, 6)  # 64"
   ]
  },
  {
   "cell_type": "markdown",
   "metadata": {},
   "source": [
    "### 3.9.17. Round"
   ]
  },
  {
   "cell_type": "code",
   "execution_count": 221,
   "metadata": {},
   "outputs": [],
   "source": [
    "a = round(4.6)  # 5\n",
    "b = round(4.3)  # 4\n",
    "\n",
    "c = round(3.141592, 4)  # 3.1416\n",
    "d = round(3.141592, 5)  # 3.14159"
   ]
  },
  {
   "cell_type": "markdown",
   "metadata": {},
   "source": [
    "### 3.9.18. Sorted"
   ]
  },
  {
   "cell_type": "code",
   "execution_count": 224,
   "metadata": {},
   "outputs": [
    {
     "name": "stdout",
     "output_type": "stream",
     "text": [
      "[5, 2, 4, 1, 3]\n",
      "[1, 2, 3, 4, 5]\n",
      "python\n",
      "['h', 'n', 'o', 'p', 't', 'y']\n"
     ]
    }
   ],
   "source": [
    "a = [5, 2, 4, 1, 3]\n",
    "b = sorted(a)\n",
    "\n",
    "print(a)  # [5, 2, 4, 1, 3]\n",
    "print(b)  # [1, 2, 3, 4, 5]\n",
    "\n",
    "c = 'python'\n",
    "d = sorted(c)\n",
    "\n",
    "print(c)  # python\n",
    "print(d)  # ['h', 'n', 'o', 'p', 't', 'y']"
   ]
  },
  {
   "cell_type": "markdown",
   "metadata": {},
   "source": [
    "### 3.9.19. Str"
   ]
  },
  {
   "cell_type": "code",
   "execution_count": 228,
   "metadata": {},
   "outputs": [],
   "source": [
    "a = str(3)          # '3'\n",
    "b = str([1, 2, 3])  # '[1, 2, 3]'"
   ]
  },
  {
   "cell_type": "markdown",
   "metadata": {},
   "source": [
    "### 3.9.20. Sum"
   ]
  },
  {
   "cell_type": "code",
   "execution_count": 232,
   "metadata": {},
   "outputs": [],
   "source": [
    "a = sum(range(10))     # 45\n",
    "b = sum([2, 3, 5, 7])  # 17"
   ]
  },
  {
   "cell_type": "markdown",
   "metadata": {},
   "source": [
    "### 3.9.21. Tuple"
   ]
  },
  {
   "cell_type": "code",
   "execution_count": 237,
   "metadata": {},
   "outputs": [],
   "source": [
    "a = tuple('python')   # ('p', 'y', 't', 'h', 'o', 'n')\n",
    "b = tuple([1, 2, 3])  # (1, 2, 3)"
   ]
  },
  {
   "cell_type": "markdown",
   "metadata": {},
   "source": [
    "### 3.9.22. Type"
   ]
  },
  {
   "cell_type": "code",
   "execution_count": 243,
   "metadata": {},
   "outputs": [],
   "source": [
    "a = type(13)           # <class 'int'>\n",
    "b = type(3.14)         # <class 'float'>\n",
    "c = type('python')     # <class 'str'>\n",
    "d = type([1, 2, 3])    # <class 'list'>\n",
    "e = type((1, 2, 3))    # <class 'tuple'>\n",
    "f = type({'foo': 13})  # <class 'dict'>\n",
    "g = type(set([1, 2]))  # <class 'set'>\n",
    "h = type(True)         # <class 'bool'>"
   ]
  },
  {
   "cell_type": "markdown",
   "metadata": {},
   "source": [
    "### 3.9.23. Zip"
   ]
  },
  {
   "cell_type": "code",
   "execution_count": 248,
   "metadata": {},
   "outputs": [],
   "source": [
    "a = [1, 2, 3]\n",
    "b = [4, 5, 6]\n",
    "\n",
    "c = list(zip(a, b))  # [(1, 4), (2, 5), (3, 6)]"
   ]
  },
  {
   "cell_type": "markdown",
   "metadata": {},
   "source": [
    "# 4. Class"
   ]
  },
  {
   "cell_type": "markdown",
   "metadata": {},
   "source": [
    "## 4.1. Initialization"
   ]
  },
  {
   "cell_type": "code",
   "execution_count": 131,
   "metadata": {},
   "outputs": [
    {
     "name": "stdout",
     "output_type": "stream",
     "text": [
      "BMW\n",
      "white\n"
     ]
    }
   ],
   "source": [
    "class Car:\n",
    "    def __init__(self, brand, color='white'):\n",
    "        self.brand = brand\n",
    "        self.color = color\n",
    "\n",
    "car = Car('BMW')\n",
    "\n",
    "print(car.brand)  # BMW\n",
    "print(car.color)  # white"
   ]
  },
  {
   "cell_type": "markdown",
   "metadata": {},
   "source": [
    "## 4.2. Method"
   ]
  },
  {
   "cell_type": "code",
   "execution_count": 137,
   "metadata": {},
   "outputs": [
    {
     "name": "stdout",
     "output_type": "stream",
     "text": [
      "3\n",
      "12\n",
      "10\n",
      "2.0\n"
     ]
    }
   ],
   "source": [
    "class Calculator:\n",
    "    def __init__(self, init_val=0):\n",
    "        self.result = init_val\n",
    "    \n",
    "    def add(self, n):\n",
    "        self.result += n\n",
    "    \n",
    "    def sub(self, n):\n",
    "        self.result -= n\n",
    "    \n",
    "    def mul(self, n):\n",
    "        self.result *= n\n",
    "    \n",
    "    def div(self, n):\n",
    "        self.result /= n\n",
    "    \n",
    "    def print_result(self):\n",
    "        print(self.result)\n",
    "\n",
    "calc = Calculator()\n",
    "\n",
    "calc.add(3)\n",
    "calc.print_result()  # 3\n",
    "\n",
    "calc.mul(4)\n",
    "calc.print_result()  # 12\n",
    "\n",
    "calc.sub(2)\n",
    "calc.print_result()  # 10\n",
    "\n",
    "calc.div(5)\n",
    "calc.print_result()  # 2.0"
   ]
  }
 ],
 "metadata": {
  "interpreter": {
   "hash": "f3050b1ecfcc42aad70b0cf5845e9106fdd19c10905a066960de05ae5912b8ff"
  },
  "kernelspec": {
   "display_name": "Python 3.8.8 64-bit ('env': venv)",
   "language": "python",
   "name": "python3"
  },
  "language_info": {
   "codemirror_mode": {
    "name": "ipython",
    "version": 3
   },
   "file_extension": ".py",
   "mimetype": "text/x-python",
   "name": "python",
   "nbconvert_exporter": "python",
   "pygments_lexer": "ipython3",
   "version": "3.8.8"
  },
  "orig_nbformat": 4
 },
 "nbformat": 4,
 "nbformat_minor": 2
}

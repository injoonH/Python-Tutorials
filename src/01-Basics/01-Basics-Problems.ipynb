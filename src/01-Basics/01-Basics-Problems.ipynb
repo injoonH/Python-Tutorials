{
 "cells": [
  {
   "cell_type": "markdown",
   "metadata": {},
   "source": [
    "### 1. 몫과 나머지"
   ]
  },
  {
   "cell_type": "markdown",
   "metadata": {},
   "source": [
    "자연수 a, b가 입력으로 주어질 때 a를 b로 나눈 몫과 나머지를 반환하는 함수를 작성하여라.\n",
    "\n",
    "Example\n",
    "```\n",
    "sol_1 = solution01(10, 3)  # (3, 1)\n",
    "sol_2 = solution01(17, 6)  # (2, 5)\n",
    "```\n",
    "\n",
    "Hint\n",
    "- 1.1.5. Arithmetic operations\n",
    "- 3.9.6. Divmod"
   ]
  },
  {
   "cell_type": "code",
   "execution_count": 20,
   "metadata": {},
   "outputs": [],
   "source": [
    "def solution01(a, b):\n",
    "    pass"
   ]
  },
  {
   "cell_type": "code",
   "execution_count": 21,
   "metadata": {},
   "outputs": [
    {
     "name": "stdout",
     "output_type": "stream",
     "text": [
      "None\n",
      "None\n"
     ]
    }
   ],
   "source": [
    "sol_1 = solution01(10, 3)  # (3, 1)\n",
    "sol_2 = solution01(17, 6)  # (2, 5)\n",
    "\n",
    "print(sol_1)\n",
    "print(sol_2)"
   ]
  },
  {
   "cell_type": "markdown",
   "metadata": {},
   "source": [
    "### 2. 연원일"
   ]
  },
  {
   "cell_type": "markdown",
   "metadata": {},
   "source": [
    "Year, month, day가 입력으로 주어질 때 'yyyy-mm-dd' 형식을 가지는 str을 반환하는 함수를 작성하여라.\n",
    "\n",
    "Example\n",
    "```\n",
    "sol_1 = solution02(2022, 1, 9)   # '2022-01-09'\n",
    "sol_2 = solution02(2002, 10, 3)  # '2002-10-03'\n",
    "```\n",
    "\n",
    "Hint\n",
    "- 1.2.9. Formatting"
   ]
  },
  {
   "cell_type": "code",
   "execution_count": 22,
   "metadata": {},
   "outputs": [],
   "source": [
    "def solution02(y, m, d):\n",
    "    pass"
   ]
  },
  {
   "cell_type": "code",
   "execution_count": 23,
   "metadata": {},
   "outputs": [
    {
     "name": "stdout",
     "output_type": "stream",
     "text": [
      "None\n",
      "None\n"
     ]
    }
   ],
   "source": [
    "sol_1 = solution02(2022, 1, 9)   # '2022-01-09'\n",
    "sol_2 = solution02(2002, 10, 3)  # '2002-10-03'\n",
    "\n",
    "print(sol_1)\n",
    "print(sol_2)"
   ]
  },
  {
   "cell_type": "markdown",
   "metadata": {},
   "source": [
    "### 3. 최대공약수"
   ]
  },
  {
   "cell_type": "markdown",
   "metadata": {},
   "source": [
    "자연수 a, b가 입력으로 주어질 때 a와 b의 최대공약수를 반환하는 함수를 작성하여라. (힌트: 유클리드 호제법)\n",
    "\n",
    "Example\n",
    "```\n",
    "sol_1 = solution03(24, 18)  # 6\n",
    "sol_2 = solution03(12, 17)  # 1\n",
    "```\n",
    "\n",
    "Hint\n",
    "- 1.1.5. Arithmetic operations\n",
    "- 1.4.1. Initializing\n",
    "- 2.2.1. While"
   ]
  },
  {
   "cell_type": "code",
   "execution_count": 24,
   "metadata": {},
   "outputs": [],
   "source": [
    "def solution03(a, b):\n",
    "    pass"
   ]
  },
  {
   "cell_type": "code",
   "execution_count": 25,
   "metadata": {},
   "outputs": [
    {
     "name": "stdout",
     "output_type": "stream",
     "text": [
      "None\n",
      "None\n"
     ]
    }
   ],
   "source": [
    "sol_1 = solution03(24, 18)  # 6\n",
    "sol_2 = solution03(12, 17)  # 1\n",
    "\n",
    "print(sol_1)\n",
    "print(sol_2)"
   ]
  },
  {
   "cell_type": "markdown",
   "metadata": {},
   "source": [
    "### 4. 회문"
   ]
  },
  {
   "cell_type": "markdown",
   "metadata": {},
   "source": [
    "Level, noon 같이 앞에서 읽으나 뒤에서 읽으나 같은 단어를 회문이라고 한다.\\\n",
    "문자열 s가 주어질 때 s가 회문이면 True, 아니라면 False를 반환하는 함수를 작성하여라.\\\n",
    "(단, 대소문자는 구별하지 않는다.)\n",
    "\n",
    "Example\n",
    "```\n",
    "sol_1 = solution04('LevEl')    # True\n",
    "sol_2 = solution04('romaNcE')  # False\n",
    "```\n",
    "\n",
    "Hint\n",
    "- 1.2.8. Slicing\n",
    "- 1.2.10.5. Upper\n",
    "- 1.2.10.6. Lower\n",
    "- 1.7.4. Comparison operators"
   ]
  },
  {
   "cell_type": "code",
   "execution_count": 26,
   "metadata": {},
   "outputs": [],
   "source": [
    "def solution04(s):\n",
    "    pass"
   ]
  },
  {
   "cell_type": "code",
   "execution_count": 27,
   "metadata": {},
   "outputs": [
    {
     "name": "stdout",
     "output_type": "stream",
     "text": [
      "None\n",
      "None\n"
     ]
    }
   ],
   "source": [
    "sol_1 = solution04('LevEl')    # True\n",
    "sol_2 = solution04('romaNcE')  # False\n",
    "\n",
    "print(sol_1)\n",
    "print(sol_2)"
   ]
  },
  {
   "cell_type": "markdown",
   "metadata": {},
   "source": [
    "### 5. 배수"
   ]
  },
  {
   "cell_type": "markdown",
   "metadata": {},
   "source": [
    "자연수 n(≤100)이 주어질 때 100 이하의 자연수 중 n의 배수로만 이루어진 리스트를 반환하는 함수를 작성하여라.\n",
    "\n",
    "Example\n",
    "```\n",
    "sol_1 = solution05(7)   # [7, 14, 21, 28, 35, 42, 49, 56, 63, 70, 77, 84, 91, 98]\n",
    "sol_2 = solution05(13)  # [13, 26, 39, 52, 65, 78, 91]\n",
    "```\n",
    "\n",
    "Hint\n",
    "- 2.3.4. Range\n",
    "- 3.9.11. List"
   ]
  },
  {
   "cell_type": "code",
   "execution_count": 28,
   "metadata": {},
   "outputs": [],
   "source": [
    "def solution05(n):\n",
    "    pass"
   ]
  },
  {
   "cell_type": "code",
   "execution_count": 29,
   "metadata": {},
   "outputs": [
    {
     "name": "stdout",
     "output_type": "stream",
     "text": [
      "None\n",
      "None\n"
     ]
    }
   ],
   "source": [
    "sol_1 = solution05(7)   # [7, 14, 21, 28, 35, 42, 49, 56, 63, 70, 77, 84, 91, 98]\n",
    "sol_2 = solution05(13)  # [13, 26, 39, 52, 65, 78, 91]\n",
    "\n",
    "print(sol_1)\n",
    "print(sol_2)"
   ]
  },
  {
   "cell_type": "markdown",
   "metadata": {},
   "source": [
    "### 6. 세제곱"
   ]
  },
  {
   "cell_type": "markdown",
   "metadata": {},
   "source": [
    "실수로 이루어진 리스트 lst가 주어질 때 모든 원소를 세제곱한 리스트를 반환하는 함수를 작성하여라. \\\n",
    "이때 실수는 소수점 아래 셋째 자리까지 반올림하여라.\n",
    "\n",
    "Example\n",
    "```\n",
    "sol_1 = solution06([1, 2, 3, 4, 5])   # [1, 8, 27, 64, 125]\n",
    "sol_2 = solution06([2.5, 1.7])        # [15.625, 4.913]\n",
    "```\n",
    "\n",
    "Hint\n",
    "- 1.1.5. Arithmetic operations\n",
    "- 2.3.6. List comprehension\n",
    "- 3.9.12. Map"
   ]
  },
  {
   "cell_type": "code",
   "execution_count": 30,
   "metadata": {},
   "outputs": [],
   "source": [
    "def solution06(lst):\n",
    "    pass"
   ]
  },
  {
   "cell_type": "code",
   "execution_count": 31,
   "metadata": {},
   "outputs": [
    {
     "name": "stdout",
     "output_type": "stream",
     "text": [
      "None\n",
      "None\n"
     ]
    }
   ],
   "source": [
    "sol_1 = solution06([1, 2, 3, 4, 5])   # [1, 8, 27, 64, 125]\n",
    "sol_2 = solution06([2.5, 1.7])        # [15.625, 4.913]\n",
    "\n",
    "print(sol_1)\n",
    "print(sol_2)"
   ]
  },
  {
   "cell_type": "markdown",
   "metadata": {},
   "source": [
    "### 7. 직사각형"
   ]
  },
  {
   "cell_type": "markdown",
   "metadata": {},
   "source": [
    "자연수 w, h가 입력으로 주어질 때 가로 길이 w, 세로 길이 h를 가지는 직사각형을 출력하는 함수를 작성하여라.\n",
    "\n",
    "Example\n",
    "```\n",
    "solution07(6, 4)\n",
    "\n",
    "******\n",
    "******\n",
    "******\n",
    "******\n",
    "```\n",
    "\n",
    "Hint\n",
    "- 1.2.5. Repetition\n",
    "- 2.3.1. For\n",
    "- 2.3.4. Range"
   ]
  },
  {
   "cell_type": "code",
   "execution_count": 32,
   "metadata": {},
   "outputs": [],
   "source": [
    "def solution07(w, h):\n",
    "    pass"
   ]
  },
  {
   "cell_type": "code",
   "execution_count": 33,
   "metadata": {},
   "outputs": [],
   "source": [
    "solution07(6, 4)"
   ]
  },
  {
   "cell_type": "markdown",
   "metadata": {},
   "source": [
    "### 8. X"
   ]
  },
  {
   "cell_type": "markdown",
   "metadata": {},
   "source": [
    "자연수 n이 입력으로 주어질 때 가로, 세로 길이 n인 가위표를 출력하는 함수를 작성하여라.\n",
    "\n",
    "Example\n",
    "```\n",
    "solution08(4)\n",
    "\n",
    "*  *\n",
    " ** \n",
    " ** \n",
    "*  *\n",
    "\n",
    "solution08(5)\n",
    "\n",
    "*   *\n",
    " * * \n",
    "  *  \n",
    " * * \n",
    "*   *\n",
    "```\n",
    "\n",
    "Hint\n",
    "- 1.7.3. Boolean operators\n",
    "- 1.7.4. Comparison operators\n",
    "- 2.1.4. Conditional expression\n",
    "- 2.3.1. For\n",
    "- 2.3.4. Range"
   ]
  },
  {
   "cell_type": "code",
   "execution_count": 34,
   "metadata": {},
   "outputs": [],
   "source": [
    "def solution08(n):\n",
    "    pass"
   ]
  },
  {
   "cell_type": "code",
   "execution_count": 35,
   "metadata": {},
   "outputs": [],
   "source": [
    "solution08(5)"
   ]
  }
 ],
 "metadata": {
  "interpreter": {
   "hash": "f3050b1ecfcc42aad70b0cf5845e9106fdd19c10905a066960de05ae5912b8ff"
  },
  "kernelspec": {
   "display_name": "Python 3.8.8 64-bit ('env': venv)",
   "language": "python",
   "name": "python3"
  },
  "language_info": {
   "codemirror_mode": {
    "name": "ipython",
    "version": 3
   },
   "file_extension": ".py",
   "mimetype": "text/x-python",
   "name": "python",
   "nbconvert_exporter": "python",
   "pygments_lexer": "ipython3",
   "version": "3.8.8"
  },
  "orig_nbformat": 4
 },
 "nbformat": 4,
 "nbformat_minor": 2
}

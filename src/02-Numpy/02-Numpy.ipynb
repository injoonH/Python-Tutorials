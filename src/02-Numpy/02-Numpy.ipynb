{
 "cells": [
  {
   "cell_type": "markdown",
   "metadata": {},
   "source": [
    "# 1. Setting"
   ]
  },
  {
   "cell_type": "markdown",
   "metadata": {},
   "source": [
    "## 1.1. Import"
   ]
  },
  {
   "cell_type": "code",
   "execution_count": 1,
   "metadata": {},
   "outputs": [],
   "source": [
    "import numpy as np"
   ]
  },
  {
   "cell_type": "markdown",
   "metadata": {},
   "source": [
    "## 1.2. Helper Functions"
   ]
  },
  {
   "cell_type": "markdown",
   "metadata": {},
   "source": [
    "### 1.2.1. Print_vals"
   ]
  },
  {
   "cell_type": "code",
   "execution_count": 2,
   "metadata": {},
   "outputs": [],
   "source": [
    "def print_vals(**kwargs):\n",
    "    print(*[f'\\n{key} {type(val)}\\n{val}\\n' for key, val in kwargs.items()], sep='-' * 16)"
   ]
  },
  {
   "cell_type": "markdown",
   "metadata": {},
   "source": [
    "# 2. Array Creation"
   ]
  },
  {
   "cell_type": "markdown",
   "metadata": {},
   "source": [
    "## 2.1. From shape or value"
   ]
  },
  {
   "cell_type": "markdown",
   "metadata": {},
   "source": [
    "### 2.1.1. empty"
   ]
  },
  {
   "cell_type": "code",
   "execution_count": 3,
   "metadata": {},
   "outputs": [
    {
     "name": "stdout",
     "output_type": "stream",
     "text": [
      "\n",
      "a <class 'numpy.ndarray'>\n",
      "[6.98348878e-077 7.01413727e-009 2.16209973e+233]\n",
      "----------------\n",
      "b <class 'numpy.ndarray'>\n",
      "[[0. 0. 0.]\n",
      " [0. 0. 0.]]\n",
      "----------------\n",
      "c <class 'numpy.ndarray'>\n",
      "[25 20]\n",
      "\n"
     ]
    }
   ],
   "source": [
    "a = np.empty(3)\n",
    "b = np.empty((2, 3))\n",
    "c = np.empty((2,), dtype=np.int8)\n",
    "\n",
    "print_vals(a=a, b=b, c=c)"
   ]
  },
  {
   "cell_type": "markdown",
   "metadata": {},
   "source": [
    "### 2.1.2. empty_like"
   ]
  },
  {
   "cell_type": "code",
   "execution_count": 4,
   "metadata": {},
   "outputs": [
    {
     "name": "stdout",
     "output_type": "stream",
     "text": [
      "\n",
      "b <class 'numpy.ndarray'>\n",
      "[[ 539785256  807414835  538970665]\n",
      " [1044258848  779493438 1885431923]]\n",
      "\n"
     ]
    }
   ],
   "source": [
    "a = [[1, 2, 3], [4, 5, 6]]\n",
    "b = np.empty_like(a)\n",
    "\n",
    "print_vals(b=b)"
   ]
  },
  {
   "cell_type": "markdown",
   "metadata": {},
   "source": [
    "### 2.1.3. eye"
   ]
  },
  {
   "cell_type": "code",
   "execution_count": 5,
   "metadata": {},
   "outputs": [
    {
     "name": "stdout",
     "output_type": "stream",
     "text": [
      "\n",
      "a <class 'numpy.ndarray'>\n",
      "[[1. 0. 0.]\n",
      " [0. 1. 0.]\n",
      " [0. 0. 1.]]\n",
      "----------------\n",
      "b <class 'numpy.ndarray'>\n",
      "[[1 0]\n",
      " [0 1]]\n",
      "----------------\n",
      "c <class 'numpy.ndarray'>\n",
      "[[0. 1. 0. 0.]\n",
      " [0. 0. 1. 0.]\n",
      " [0. 0. 0. 1.]\n",
      " [0. 0. 0. 0.]]\n",
      "\n"
     ]
    }
   ],
   "source": [
    "a = np.eye(3)\n",
    "b = np.eye(2, dtype=np.int8)\n",
    "c = np.eye(4, k=1)\n",
    "\n",
    "print_vals(a=a, b=b, c=c)"
   ]
  },
  {
   "cell_type": "markdown",
   "metadata": {},
   "source": [
    "### 2.1.4. identity"
   ]
  },
  {
   "cell_type": "code",
   "execution_count": 6,
   "metadata": {},
   "outputs": [
    {
     "name": "stdout",
     "output_type": "stream",
     "text": [
      "\n",
      "a <class 'numpy.ndarray'>\n",
      "[[1. 0. 0.]\n",
      " [0. 1. 0.]\n",
      " [0. 0. 1.]]\n",
      "----------------\n",
      "b <class 'numpy.ndarray'>\n",
      "[[1 0]\n",
      " [0 1]]\n",
      "\n"
     ]
    }
   ],
   "source": [
    "a = np.identity(3)\n",
    "b = np.identity(2, dtype=np.int8)\n",
    "\n",
    "print_vals(a=a, b=b)"
   ]
  },
  {
   "cell_type": "markdown",
   "metadata": {},
   "source": [
    "### 2.1.5. ones"
   ]
  },
  {
   "cell_type": "code",
   "execution_count": 7,
   "metadata": {},
   "outputs": [
    {
     "name": "stdout",
     "output_type": "stream",
     "text": [
      "\n",
      "a <class 'numpy.ndarray'>\n",
      "[1. 1. 1.]\n",
      "----------------\n",
      "b <class 'numpy.ndarray'>\n",
      "[[1. 1. 1.]\n",
      " [1. 1. 1.]]\n",
      "----------------\n",
      "c <class 'numpy.ndarray'>\n",
      "[1 1]\n",
      "\n"
     ]
    }
   ],
   "source": [
    "a = np.ones(3)\n",
    "b = np.ones((2, 3))\n",
    "c = np.ones((2,), dtype=np.int8)\n",
    "\n",
    "print_vals(a=a, b=b, c=c)"
   ]
  },
  {
   "cell_type": "markdown",
   "metadata": {},
   "source": [
    "### 2.1.6. ones_like"
   ]
  },
  {
   "cell_type": "code",
   "execution_count": 8,
   "metadata": {},
   "outputs": [
    {
     "name": "stdout",
     "output_type": "stream",
     "text": [
      "\n",
      "b <class 'numpy.ndarray'>\n",
      "[[1 1 1]\n",
      " [1 1 1]]\n",
      "\n"
     ]
    }
   ],
   "source": [
    "a = [[1, 2, 3], [4, 5, 6]]\n",
    "b = np.ones_like(a)\n",
    "\n",
    "print_vals(b=b)"
   ]
  },
  {
   "cell_type": "markdown",
   "metadata": {},
   "source": [
    "### 2.1.7. zeros"
   ]
  },
  {
   "cell_type": "code",
   "execution_count": 9,
   "metadata": {},
   "outputs": [
    {
     "name": "stdout",
     "output_type": "stream",
     "text": [
      "\n",
      "a <class 'numpy.ndarray'>\n",
      "[0. 0. 0.]\n",
      "----------------\n",
      "b <class 'numpy.ndarray'>\n",
      "[[0. 0. 0.]\n",
      " [0. 0. 0.]]\n",
      "----------------\n",
      "c <class 'numpy.ndarray'>\n",
      "[0 0]\n",
      "\n"
     ]
    }
   ],
   "source": [
    "a = np.zeros(3)\n",
    "b = np.zeros((2, 3))\n",
    "c = np.zeros((2,), dtype=np.int8)\n",
    "\n",
    "print_vals(a=a, b=b, c=c)"
   ]
  },
  {
   "cell_type": "markdown",
   "metadata": {},
   "source": [
    "### 2.1.8. zeros_like"
   ]
  },
  {
   "cell_type": "code",
   "execution_count": 10,
   "metadata": {},
   "outputs": [
    {
     "name": "stdout",
     "output_type": "stream",
     "text": [
      "\n",
      "b <class 'numpy.ndarray'>\n",
      "[[0 0 0]\n",
      " [0 0 0]]\n",
      "\n"
     ]
    }
   ],
   "source": [
    "a = [[1, 2, 3], [4, 5, 6]]\n",
    "b = np.zeros_like(a)\n",
    "\n",
    "print_vals(b=b)"
   ]
  },
  {
   "cell_type": "markdown",
   "metadata": {},
   "source": [
    "### 2.1.9. full"
   ]
  },
  {
   "cell_type": "code",
   "execution_count": 11,
   "metadata": {},
   "outputs": [
    {
     "name": "stdout",
     "output_type": "stream",
     "text": [
      "\n",
      "a <class 'numpy.ndarray'>\n",
      "[3 3 3 3]\n",
      "----------------\n",
      "b <class 'numpy.ndarray'>\n",
      "[[5 5 5]\n",
      " [5 5 5]]\n",
      "----------------\n",
      "c <class 'numpy.ndarray'>\n",
      "[[3 6 9]\n",
      " [3 6 9]\n",
      " [3 6 9]\n",
      " [3 6 9]]\n",
      "\n"
     ]
    }
   ],
   "source": [
    "a = np.full(4, 3)\n",
    "b = np.full((2, 3), 5)\n",
    "c = np.full((4, 3), [3, 6, 9])\n",
    "\n",
    "print_vals(a=a, b=b, c=c)"
   ]
  },
  {
   "cell_type": "markdown",
   "metadata": {},
   "source": [
    "### 2.1.10. full_like"
   ]
  },
  {
   "cell_type": "code",
   "execution_count": 12,
   "metadata": {},
   "outputs": [
    {
     "name": "stdout",
     "output_type": "stream",
     "text": [
      "\n",
      "b <class 'numpy.ndarray'>\n",
      "[[7 7 7]\n",
      " [7 7 7]]\n",
      "\n"
     ]
    }
   ],
   "source": [
    "a = [[1, 2, 3], [4, 5, 6]]\n",
    "b = np.full_like(a, 7)\n",
    "\n",
    "print_vals(b=b)"
   ]
  },
  {
   "cell_type": "markdown",
   "metadata": {},
   "source": [
    "## 2.2. From existing data"
   ]
  },
  {
   "cell_type": "markdown",
   "metadata": {},
   "source": [
    "### 2.2.1. array"
   ]
  },
  {
   "cell_type": "code",
   "execution_count": 13,
   "metadata": {},
   "outputs": [
    {
     "name": "stdout",
     "output_type": "stream",
     "text": [
      "\n",
      "a <class 'numpy.ndarray'>\n",
      "[1 2 3]\n",
      "----------------\n",
      "b <class 'numpy.ndarray'>\n",
      "[1. 2. 4.]\n",
      "----------------\n",
      "c <class 'numpy.ndarray'>\n",
      "[[1 2 3]\n",
      " [4 5 6]]\n",
      "\n"
     ]
    }
   ],
   "source": [
    "a = np.array([1, 2, 3])\n",
    "b = np.array([1, 2, 4.0])\n",
    "c = np.array([[1, 2, 3], [4, 5, 6]])\n",
    "\n",
    "print_vals(a=a, b=b, c=c)"
   ]
  },
  {
   "cell_type": "markdown",
   "metadata": {},
   "source": [
    "### 2.2.2. copy"
   ]
  },
  {
   "cell_type": "code",
   "execution_count": 14,
   "metadata": {},
   "outputs": [
    {
     "name": "stdout",
     "output_type": "stream",
     "text": [
      "\n",
      "a <class 'numpy.ndarray'>\n",
      "[100   2   3]\n",
      "----------------\n",
      "b <class 'numpy.ndarray'>\n",
      "[100   2   3]\n",
      "----------------\n",
      "c <class 'numpy.ndarray'>\n",
      "[1 2 3]\n",
      "\n"
     ]
    }
   ],
   "source": [
    "a = np.array([1, 2, 3])\n",
    "b = a\n",
    "c = np.copy(a)\n",
    "\n",
    "a[0] = 100\n",
    "\n",
    "print_vals(a=a, b=b, c=c)"
   ]
  },
  {
   "cell_type": "markdown",
   "metadata": {},
   "source": [
    "## 2.3. Numerical ranges"
   ]
  },
  {
   "cell_type": "markdown",
   "metadata": {},
   "source": [
    "### 2.3.1. arange"
   ]
  },
  {
   "cell_type": "code",
   "execution_count": 15,
   "metadata": {},
   "outputs": [
    {
     "name": "stdout",
     "output_type": "stream",
     "text": [
      "\n",
      "a <class 'numpy.ndarray'>\n",
      "[0 1 2]\n",
      "----------------\n",
      "b <class 'numpy.ndarray'>\n",
      "[0. 1. 2. 3.]\n",
      "----------------\n",
      "c <class 'numpy.ndarray'>\n",
      "[3 4 5 6]\n",
      "----------------\n",
      "d <class 'numpy.ndarray'>\n",
      "[3 5 7 9]\n",
      "\n"
     ]
    }
   ],
   "source": [
    "a = np.arange(3)\n",
    "b = np.arange(4.0)\n",
    "c = np.arange(3, 7)\n",
    "d = np.arange(3, 10, 2)\n",
    "\n",
    "print_vals(a=a, b=b, c=c, d=d)"
   ]
  },
  {
   "cell_type": "markdown",
   "metadata": {},
   "source": [
    "### 2.3.2. linspace"
   ]
  },
  {
   "cell_type": "code",
   "execution_count": 16,
   "metadata": {},
   "outputs": [
    {
     "name": "stdout",
     "output_type": "stream",
     "text": [
      "\n",
      "a <class 'numpy.ndarray'>\n",
      "[2.  2.5 3.  3.5 4. ]\n",
      "----------------\n",
      "b <class 'numpy.ndarray'>\n",
      "[2.  2.4 2.8 3.2 3.6]\n",
      "----------------\n",
      "c <class 'tuple'>\n",
      "(array([2. , 2.5, 3. , 3.5, 4. ]), 0.5)\n",
      "\n"
     ]
    }
   ],
   "source": [
    "a = np.linspace(2, 4, num=5)\n",
    "b = np.linspace(2, 4, num=5, endpoint=False)\n",
    "c = np.linspace(2, 4, num=5, retstep=True)\n",
    "\n",
    "print_vals(a=a, b=b, c=c)"
   ]
  },
  {
   "cell_type": "markdown",
   "metadata": {},
   "source": [
    "### 2.3.3. logspace"
   ]
  },
  {
   "cell_type": "code",
   "execution_count": 17,
   "metadata": {},
   "outputs": [
    {
     "name": "stdout",
     "output_type": "stream",
     "text": [
      "\n",
      "a <class 'numpy.ndarray'>\n",
      "[ 100.          215.443469    464.15888336 1000.        ]\n",
      "----------------\n",
      "b <class 'numpy.ndarray'>\n",
      "[100.         177.827941   316.22776602 562.34132519]\n",
      "----------------\n",
      "c <class 'numpy.ndarray'>\n",
      "[4.         5.0396842  6.34960421 8.        ]\n",
      "\n"
     ]
    }
   ],
   "source": [
    "a = np.logspace(2, 3, num=4)\n",
    "b = np.logspace(2, 3, num=4, endpoint=False)\n",
    "c = np.logspace(2, 3, num=4, base=2)\n",
    "\n",
    "print_vals(a=a, b=b, c=c)"
   ]
  },
  {
   "cell_type": "markdown",
   "metadata": {},
   "source": [
    "### 2.3.4. geomspace"
   ]
  },
  {
   "cell_type": "code",
   "execution_count": 18,
   "metadata": {},
   "outputs": [
    {
     "name": "stdout",
     "output_type": "stream",
     "text": [
      "\n",
      "a <class 'numpy.ndarray'>\n",
      "[   1.   10.  100. 1000.]\n",
      "----------------\n",
      "b <class 'numpy.ndarray'>\n",
      "[  1.  10. 100.]\n",
      "----------------\n",
      "c <class 'numpy.ndarray'>\n",
      "[  1.   2.   4.   8.  16.  32.  64. 128. 256.]\n",
      "\n"
     ]
    }
   ],
   "source": [
    "a = np.geomspace(1, 1000, num=4)\n",
    "b = np.geomspace(1, 1000, num=3, endpoint=False)\n",
    "c = np.geomspace(1, 256, num=9)\n",
    "\n",
    "print_vals(a=a, b=b, c=c)"
   ]
  },
  {
   "cell_type": "markdown",
   "metadata": {},
   "source": [
    "### 2.3.5. meshgrid"
   ]
  },
  {
   "cell_type": "code",
   "execution_count": 19,
   "metadata": {},
   "outputs": [
    {
     "name": "stdout",
     "output_type": "stream",
     "text": [
      "\n",
      "xx <class 'numpy.ndarray'>\n",
      "[[0.  0.5 1. ]\n",
      " [0.  0.5 1. ]]\n",
      "----------------\n",
      "yy <class 'numpy.ndarray'>\n",
      "[[0. 0. 0.]\n",
      " [1. 1. 1.]]\n",
      "----------------\n",
      "xs <class 'numpy.ndarray'>\n",
      "[[0.  0.5 1. ]]\n",
      "----------------\n",
      "ys <class 'numpy.ndarray'>\n",
      "[[0.]\n",
      " [1.]]\n",
      "\n"
     ]
    }
   ],
   "source": [
    "nx, ny = (3, 2)\n",
    "\n",
    "x = np.linspace(0, 1, nx)\n",
    "y = np.linspace(0, 1, ny)\n",
    "\n",
    "xx, yy = np.meshgrid(x, y)\n",
    "xs, ys = np.meshgrid(x, y, sparse=True)\n",
    "\n",
    "print_vals(xx=xx, yy=yy, xs=xs, ys=ys)"
   ]
  },
  {
   "cell_type": "markdown",
   "metadata": {},
   "source": [
    "## 2.4. Building matrices"
   ]
  },
  {
   "cell_type": "markdown",
   "metadata": {},
   "source": [
    "### 2.4.1. diag"
   ]
  },
  {
   "cell_type": "code",
   "execution_count": 20,
   "metadata": {},
   "outputs": [
    {
     "name": "stdout",
     "output_type": "stream",
     "text": [
      "\n",
      "a <class 'numpy.ndarray'>\n",
      "[[1 2 3]\n",
      " [4 5 6]\n",
      " [7 8 9]]\n",
      "----------------\n",
      "b <class 'numpy.ndarray'>\n",
      "[1 5 9]\n",
      "----------------\n",
      "c <class 'numpy.ndarray'>\n",
      "[2 6]\n",
      "----------------\n",
      "d <class 'numpy.ndarray'>\n",
      "[4 8]\n",
      "----------------\n",
      "e <class 'numpy.ndarray'>\n",
      "[[1 0 0]\n",
      " [0 5 0]\n",
      " [0 0 9]]\n",
      "\n"
     ]
    }
   ],
   "source": [
    "a = np.array([[1, 2, 3], [4, 5, 6], [7, 8, 9]])\n",
    "\n",
    "b = np.diag(a)\n",
    "c = np.diag(a, k=1)\n",
    "d = np.diag(a, k=-1)\n",
    "e = np.diag(np.diag(a))\n",
    "\n",
    "print_vals(a=a, b=b, c=c, d=d, e=e)"
   ]
  },
  {
   "cell_type": "markdown",
   "metadata": {},
   "source": [
    "### 2.4.2. diagflat"
   ]
  },
  {
   "cell_type": "code",
   "execution_count": 21,
   "metadata": {},
   "outputs": [
    {
     "name": "stdout",
     "output_type": "stream",
     "text": [
      "\n",
      "a <class 'numpy.ndarray'>\n",
      "[[1 0 0 0]\n",
      " [0 2 0 0]\n",
      " [0 0 3 0]\n",
      " [0 0 0 4]]\n",
      "----------------\n",
      "b <class 'numpy.ndarray'>\n",
      "[[0 1 0 0]\n",
      " [0 0 2 0]\n",
      " [0 0 0 3]\n",
      " [0 0 0 0]]\n",
      "\n"
     ]
    }
   ],
   "source": [
    "a = np.diagflat([[1, 2], [3, 4]])\n",
    "b = np.diagflat([1, 2, 3], 1)\n",
    "\n",
    "print_vals(a=a, b=b)"
   ]
  },
  {
   "cell_type": "markdown",
   "metadata": {},
   "source": [
    "### 2.4.3. tri"
   ]
  },
  {
   "cell_type": "code",
   "execution_count": 22,
   "metadata": {},
   "outputs": [
    {
     "name": "stdout",
     "output_type": "stream",
     "text": [
      "\n",
      "a <class 'numpy.ndarray'>\n",
      "[[1. 0. 0.]\n",
      " [1. 1. 0.]\n",
      " [1. 1. 1.]]\n",
      "----------------\n",
      "b <class 'numpy.ndarray'>\n",
      "[[1. 0. 0.]\n",
      " [1. 1. 0.]\n",
      " [1. 1. 1.]\n",
      " [1. 1. 1.]]\n",
      "----------------\n",
      "c <class 'numpy.ndarray'>\n",
      "[[0. 0. 0. 0. 0.]\n",
      " [1. 0. 0. 0. 0.]\n",
      " [1. 1. 0. 0. 0.]]\n",
      "\n"
     ]
    }
   ],
   "source": [
    "a = np.tri(3)\n",
    "b = np.tri(4, 3)\n",
    "c = np.tri(3, 5, -1)\n",
    "\n",
    "print_vals(a=a, b=b, c=c)"
   ]
  },
  {
   "cell_type": "markdown",
   "metadata": {},
   "source": [
    "### 2.4.4. tril"
   ]
  },
  {
   "cell_type": "code",
   "execution_count": 23,
   "metadata": {},
   "outputs": [
    {
     "name": "stdout",
     "output_type": "stream",
     "text": [
      "\n",
      "b <class 'numpy.ndarray'>\n",
      "[[ 1  0  0]\n",
      " [ 4  5  0]\n",
      " [ 7  8  9]\n",
      " [10 11 12]]\n",
      "----------------\n",
      "c <class 'numpy.ndarray'>\n",
      "[[ 0  0  0]\n",
      " [ 4  0  0]\n",
      " [ 7  8  0]\n",
      " [10 11 12]]\n",
      "\n"
     ]
    }
   ],
   "source": [
    "a = [[1, 2, 3], [4, 5, 6], [7, 8, 9], [10, 11, 12]]\n",
    "\n",
    "b = np.tril(a)\n",
    "c = np.tril(a, -1)\n",
    "\n",
    "print_vals(b=b, c=c)"
   ]
  },
  {
   "cell_type": "markdown",
   "metadata": {},
   "source": [
    "### 2.4.5. triu"
   ]
  },
  {
   "cell_type": "code",
   "execution_count": 24,
   "metadata": {},
   "outputs": [
    {
     "name": "stdout",
     "output_type": "stream",
     "text": [
      "\n",
      "b <class 'numpy.ndarray'>\n",
      "[[1 2 3]\n",
      " [0 5 6]\n",
      " [0 0 9]\n",
      " [0 0 0]]\n",
      "----------------\n",
      "c <class 'numpy.ndarray'>\n",
      "[[ 1  2  3]\n",
      " [ 4  5  6]\n",
      " [ 0  8  9]\n",
      " [ 0  0 12]]\n",
      "\n"
     ]
    }
   ],
   "source": [
    "a = [[1, 2, 3], [4, 5, 6], [7, 8, 9], [10, 11, 12]]\n",
    "\n",
    "b = np.triu(a)\n",
    "c = np.triu(a, -1)\n",
    "\n",
    "print_vals(b=b, c=c)"
   ]
  },
  {
   "cell_type": "markdown",
   "metadata": {},
   "source": [
    "### 2.4.6. vander"
   ]
  },
  {
   "cell_type": "code",
   "execution_count": 25,
   "metadata": {},
   "outputs": [
    {
     "name": "stdout",
     "output_type": "stream",
     "text": [
      "\n",
      "b <class 'numpy.ndarray'>\n",
      "[[ 0  0  1]\n",
      " [ 1  1  1]\n",
      " [ 4  2  1]\n",
      " [ 9  3  1]\n",
      " [16  4  1]]\n",
      "----------------\n",
      "c <class 'numpy.ndarray'>\n",
      "[[ 1  0  0]\n",
      " [ 1  1  1]\n",
      " [ 1  2  4]\n",
      " [ 1  3  9]\n",
      " [ 1  4 16]]\n",
      "\n"
     ]
    }
   ],
   "source": [
    "a = np.arange(5)\n",
    "\n",
    "b = np.vander(a, 3)\n",
    "c = np.vander(a, 3, increasing=True)\n",
    "\n",
    "print_vals(b=b, c=c)"
   ]
  },
  {
   "cell_type": "markdown",
   "metadata": {},
   "source": [
    "# 3. Array Indexing"
   ]
  },
  {
   "cell_type": "markdown",
   "metadata": {},
   "source": [
    "## 3.1. Generating index arrays"
   ]
  },
  {
   "cell_type": "markdown",
   "metadata": {},
   "source": [
    "### 3.1.1. c_"
   ]
  },
  {
   "cell_type": "markdown",
   "metadata": {},
   "source": [
    "Translates slice objects to concatenation along the second axis."
   ]
  },
  {
   "cell_type": "code",
   "execution_count": 26,
   "metadata": {},
   "outputs": [
    {
     "name": "stdout",
     "output_type": "stream",
     "text": [
      "\n",
      "a <class 'numpy.ndarray'>\n",
      "[[1 2 3]\n",
      " [4 5 6]]\n",
      "----------------\n",
      "b <class 'numpy.ndarray'>\n",
      "[[ 7  8  9]\n",
      " [10 11 12]]\n",
      "----------------\n",
      "c <class 'numpy.ndarray'>\n",
      "[[ 1  2  3  7  8  9]\n",
      " [ 4  5  6 10 11 12]]\n",
      "\n"
     ]
    }
   ],
   "source": [
    "a = np.array([[1, 2, 3], [4, 5, 6]])\n",
    "b = np.array([[7, 8, 9], [10, 11, 12]])\n",
    "\n",
    "c = np.c_[a, b]\n",
    "\n",
    "print_vals(a=a, b=b, c=c)"
   ]
  },
  {
   "cell_type": "markdown",
   "metadata": {},
   "source": [
    "### 3.1.2. r_"
   ]
  },
  {
   "cell_type": "markdown",
   "metadata": {},
   "source": [
    "Translates slice objects to concatenation along the first axis."
   ]
  },
  {
   "cell_type": "code",
   "execution_count": 27,
   "metadata": {},
   "outputs": [
    {
     "name": "stdout",
     "output_type": "stream",
     "text": [
      "\n",
      "a <class 'numpy.ndarray'>\n",
      "[[1 2 3]\n",
      " [4 5 6]]\n",
      "----------------\n",
      "b <class 'numpy.ndarray'>\n",
      "[[ 7  8  9]\n",
      " [10 11 12]]\n",
      "----------------\n",
      "c <class 'numpy.ndarray'>\n",
      "[[ 1  2  3]\n",
      " [ 4  5  6]\n",
      " [ 7  8  9]\n",
      " [10 11 12]]\n",
      "\n"
     ]
    }
   ],
   "source": [
    "a = np.array([[1, 2, 3], [4, 5, 6]])\n",
    "b = np.array([[7, 8, 9], [10, 11, 12]])\n",
    "\n",
    "c = np.r_[a, b]\n",
    "\n",
    "print_vals(a=a, b=b, c=c)"
   ]
  },
  {
   "cell_type": "markdown",
   "metadata": {},
   "source": [
    "### 3.1.3. s_"
   ]
  },
  {
   "cell_type": "markdown",
   "metadata": {},
   "source": [
    "A nicer way to build up index tuples for arrays."
   ]
  },
  {
   "cell_type": "code",
   "execution_count": 28,
   "metadata": {},
   "outputs": [
    {
     "name": "stdout",
     "output_type": "stream",
     "text": [
      "\n",
      "a[b] <class 'numpy.ndarray'>\n",
      "[2 4 6]\n",
      "\n"
     ]
    }
   ],
   "source": [
    "a = np.array([0, 1, 2, 3, 4, 5, 6])\n",
    "b = np.s_[2::2]\n",
    "\n",
    "print_vals(**{'a[b]': a[b]})"
   ]
  },
  {
   "cell_type": "markdown",
   "metadata": {},
   "source": [
    "### 3.1.4. where"
   ]
  },
  {
   "cell_type": "markdown",
   "metadata": {},
   "source": [
    "Return elements chosen from x or y depending on condition."
   ]
  },
  {
   "cell_type": "code",
   "execution_count": 29,
   "metadata": {},
   "outputs": [
    {
     "name": "stdout",
     "output_type": "stream",
     "text": [
      "\n",
      "b <class 'numpy.ndarray'>\n",
      "[ 1  2  3  4 50 60 70 80 90]\n",
      "----------------\n",
      "f <class 'numpy.ndarray'>\n",
      "[[1 6]\n",
      " [7 4]]\n",
      "\n"
     ]
    }
   ],
   "source": [
    "a = np.array([1, 2, 3, 4, 5, 6, 7, 8, 9])\n",
    "b = np.where(a < 5, a, a * 10)\n",
    "\n",
    "c = np.array([[True, False], [False, True]])\n",
    "d = np.array([[1, 2], [3, 4]])\n",
    "e = np.array([[5, 6], [7, 8]])\n",
    "f = np.where(c, d, e)\n",
    "\n",
    "print_vals(b=b, f=f)"
   ]
  },
  {
   "cell_type": "markdown",
   "metadata": {},
   "source": [
    "### 3.1.5. indices"
   ]
  },
  {
   "cell_type": "markdown",
   "metadata": {},
   "source": [
    "Return an array representing the indices of a grid."
   ]
  },
  {
   "cell_type": "code",
   "execution_count": 30,
   "metadata": {},
   "outputs": [
    {
     "name": "stdout",
     "output_type": "stream",
     "text": [
      "\n",
      "a <class 'numpy.ndarray'>\n",
      "[[[0 0 0]\n",
      "  [1 1 1]]\n",
      "\n",
      " [[0 1 2]\n",
      "  [0 1 2]]]\n",
      "----------------\n",
      "b <class 'tuple'>\n",
      "(array([[0],\n",
      "       [1]]), array([[0, 1, 2]]))\n",
      "\n"
     ]
    }
   ],
   "source": [
    "a = np.indices((2, 3))\n",
    "b = np.indices((2, 3), sparse=True)\n",
    "\n",
    "print_vals(a=a, b=b)"
   ]
  },
  {
   "cell_type": "markdown",
   "metadata": {},
   "source": [
    "## 3.2. Indexing-like operations"
   ]
  },
  {
   "cell_type": "markdown",
   "metadata": {},
   "source": [
    "### 3.2.1. select"
   ]
  },
  {
   "cell_type": "markdown",
   "metadata": {},
   "source": [
    "Return an array drawn from elements in choicelist, depending on conditions."
   ]
  },
  {
   "cell_type": "code",
   "execution_count": 31,
   "metadata": {},
   "outputs": [
    {
     "name": "stdout",
     "output_type": "stream",
     "text": [
      "\n",
      "b <class 'numpy.ndarray'>\n",
      "[ 1  2  0 16 25 36]\n",
      "----------------\n",
      "c <class 'numpy.ndarray'>\n",
      "[ 1  2 -1 16 25 36]\n",
      "\n"
     ]
    }
   ],
   "source": [
    "a = np.array([1, 2, 3, 4, 5, 6])\n",
    "\n",
    "condlist = [a < 3, a > 3]\n",
    "choicelist = [a, a ** 2]\n",
    "\n",
    "b = np.select(condlist, choicelist)\n",
    "c = np.select(condlist, choicelist, -1)\n",
    "\n",
    "print_vals(b=b, c=c)"
   ]
  },
  {
   "cell_type": "markdown",
   "metadata": {},
   "source": [
    "## 3.3. Inserting data into arrays"
   ]
  },
  {
   "cell_type": "markdown",
   "metadata": {},
   "source": [
    "### 3.3.1. put"
   ]
  },
  {
   "cell_type": "markdown",
   "metadata": {},
   "source": [
    "Replaces specified elements of an array with given values."
   ]
  },
  {
   "cell_type": "code",
   "execution_count": 32,
   "metadata": {},
   "outputs": [
    {
     "name": "stdout",
     "output_type": "stream",
     "text": [
      "\n",
      "a <class 'numpy.ndarray'>\n",
      "[100   2 200   4   5   6]\n",
      "\n"
     ]
    }
   ],
   "source": [
    "a = np.array([1, 2, 3, 4, 5, 6])\n",
    "\n",
    "idx = [0, 2]\n",
    "val = [100, 200]\n",
    "\n",
    "np.put(a, idx, val)\n",
    "\n",
    "print_vals(a=a)"
   ]
  },
  {
   "cell_type": "markdown",
   "metadata": {},
   "source": [
    "## 3.4. Iterating over arrays"
   ]
  },
  {
   "cell_type": "markdown",
   "metadata": {},
   "source": [
    "### 3.4.1. ndenumerate"
   ]
  },
  {
   "cell_type": "markdown",
   "metadata": {},
   "source": [
    "Multidimensional index iterator."
   ]
  },
  {
   "cell_type": "code",
   "execution_count": 33,
   "metadata": {},
   "outputs": [
    {
     "name": "stdout",
     "output_type": "stream",
     "text": [
      "(0, 0) 1\n",
      "(0, 1) 2\n",
      "(1, 0) 3\n",
      "(1, 1) 4\n"
     ]
    }
   ],
   "source": [
    "a = np.array([[1, 2], [3, 4]])\n",
    "\n",
    "for idx, val in np.ndenumerate(a):\n",
    "    print(idx, val)"
   ]
  },
  {
   "cell_type": "markdown",
   "metadata": {},
   "source": [
    "### 3.4.2. ndindex"
   ]
  },
  {
   "cell_type": "markdown",
   "metadata": {},
   "source": [
    "An N-dimensional iterator object to index arrays."
   ]
  },
  {
   "cell_type": "code",
   "execution_count": 34,
   "metadata": {},
   "outputs": [
    {
     "name": "stdout",
     "output_type": "stream",
     "text": [
      "(0, 0, 0)\n",
      "(0, 1, 0)\n",
      "(1, 0, 0)\n",
      "(1, 1, 0)\n",
      "(2, 0, 0)\n",
      "(2, 1, 0)\n",
      "----------------\n",
      "(0, 0, 0)\n",
      "(0, 1, 0)\n",
      "(1, 0, 0)\n",
      "(1, 1, 0)\n",
      "(2, 0, 0)\n",
      "(2, 1, 0)\n"
     ]
    }
   ],
   "source": [
    "for idx in np.ndindex(3, 2, 1):\n",
    "    print(idx)\n",
    "\n",
    "print('-' * 16)\n",
    "\n",
    "a = (3, 2, 1)\n",
    "for idx in np.ndindex(a):\n",
    "    print(idx)"
   ]
  },
  {
   "cell_type": "markdown",
   "metadata": {},
   "source": [
    "# 4. Attributes"
   ]
  },
  {
   "cell_type": "markdown",
   "metadata": {},
   "source": [
    "## 4.1. Memory layout"
   ]
  },
  {
   "cell_type": "markdown",
   "metadata": {},
   "source": [
    "### 4.1.1. shape"
   ]
  },
  {
   "cell_type": "markdown",
   "metadata": {},
   "source": [
    "Tuple of array dimensions."
   ]
  },
  {
   "cell_type": "code",
   "execution_count": 35,
   "metadata": {},
   "outputs": [
    {
     "name": "stdout",
     "output_type": "stream",
     "text": [
      "\n",
      "c <class 'tuple'>\n",
      "(4,)\n",
      "----------------\n",
      "d <class 'tuple'>\n",
      "(2, 3, 4)\n",
      "----------------\n",
      "e <class 'numpy.ndarray'>\n",
      "[[1 2]\n",
      " [3 4]]\n",
      "----------------\n",
      "f <class 'numpy.ndarray'>\n",
      "[[1 2]\n",
      " [3 4]]\n",
      "\n"
     ]
    }
   ],
   "source": [
    "a = np.array([1, 2, 3, 4])\n",
    "b = np.zeros((2, 3, 4))\n",
    "\n",
    "c = a.shape\n",
    "d = b.shape\n",
    "\n",
    "e = np.copy(a)\n",
    "e.shape = (2, 2)\n",
    "\n",
    "f = np.copy(a)\n",
    "f.shape = (-1, 2)\n",
    "\n",
    "print_vals(c=c, d=d, e=e, f=f)"
   ]
  },
  {
   "cell_type": "markdown",
   "metadata": {},
   "source": [
    "### 4.1.2. ndim"
   ]
  },
  {
   "cell_type": "markdown",
   "metadata": {},
   "source": [
    "Number of array dimensions."
   ]
  },
  {
   "cell_type": "code",
   "execution_count": 36,
   "metadata": {},
   "outputs": [
    {
     "name": "stdout",
     "output_type": "stream",
     "text": [
      "\n",
      "c <class 'int'>\n",
      "1\n",
      "----------------\n",
      "d <class 'int'>\n",
      "3\n",
      "\n"
     ]
    }
   ],
   "source": [
    "a = np.array([1, 2, 3, 4])\n",
    "b = np.zeros((2, 3, 4))\n",
    "\n",
    "c = a.ndim\n",
    "d = b.ndim\n",
    "\n",
    "print_vals(c=c, d=d)"
   ]
  },
  {
   "cell_type": "markdown",
   "metadata": {},
   "source": [
    "### 4.1.3. size"
   ]
  },
  {
   "cell_type": "markdown",
   "metadata": {},
   "source": [
    "Number of elements in the array."
   ]
  },
  {
   "cell_type": "code",
   "execution_count": 37,
   "metadata": {},
   "outputs": [
    {
     "name": "stdout",
     "output_type": "stream",
     "text": [
      "\n",
      "c <class 'int'>\n",
      "4\n",
      "----------------\n",
      "d <class 'int'>\n",
      "24\n",
      "\n"
     ]
    }
   ],
   "source": [
    "a = np.array([1, 2, 3, 4])\n",
    "b = np.zeros((2, 3, 4))\n",
    "\n",
    "c = a.size\n",
    "d = b.size\n",
    "\n",
    "print_vals(c=c, d=d)"
   ]
  },
  {
   "cell_type": "markdown",
   "metadata": {},
   "source": [
    "## 4.2. Data type"
   ]
  },
  {
   "cell_type": "markdown",
   "metadata": {},
   "source": [
    "### 4.2.1. dtype"
   ]
  },
  {
   "cell_type": "markdown",
   "metadata": {},
   "source": [
    "Data-type of the array's elements."
   ]
  },
  {
   "cell_type": "code",
   "execution_count": 38,
   "metadata": {},
   "outputs": [
    {
     "name": "stdout",
     "output_type": "stream",
     "text": [
      "\n",
      "c <class 'numpy.dtype[int32]'>\n",
      "int32\n",
      "----------------\n",
      "d <class 'numpy.dtype[float64]'>\n",
      "float64\n",
      "\n"
     ]
    }
   ],
   "source": [
    "a = np.array([1, 2, 3, 4])\n",
    "b = np.array([1, 2, 3, 4.0])\n",
    "\n",
    "c = a.dtype\n",
    "d = b.dtype\n",
    "\n",
    "print_vals(c=c, d=d)"
   ]
  },
  {
   "cell_type": "markdown",
   "metadata": {},
   "source": [
    "## 4.3. Other attributes"
   ]
  },
  {
   "cell_type": "markdown",
   "metadata": {},
   "source": [
    "### 4.3.1. T"
   ]
  },
  {
   "cell_type": "markdown",
   "metadata": {},
   "source": [
    "The transposed array."
   ]
  },
  {
   "cell_type": "code",
   "execution_count": 39,
   "metadata": {},
   "outputs": [
    {
     "name": "stdout",
     "output_type": "stream",
     "text": [
      "\n",
      "a <class 'numpy.ndarray'>\n",
      "[[1 2 3]\n",
      " [4 5 6]]\n",
      "----------------\n",
      "b <class 'numpy.ndarray'>\n",
      "[[1 4]\n",
      " [2 5]\n",
      " [3 6]]\n",
      "\n"
     ]
    }
   ],
   "source": [
    "a = np.array([[1, 2, 3], [4, 5, 6]])\n",
    "b = a.T\n",
    "\n",
    "print_vals(a=a, b=b)"
   ]
  },
  {
   "cell_type": "markdown",
   "metadata": {},
   "source": [
    "### 4.3.2. flat"
   ]
  },
  {
   "cell_type": "markdown",
   "metadata": {},
   "source": [
    "A 1-D iterator over the array."
   ]
  },
  {
   "cell_type": "code",
   "execution_count": 40,
   "metadata": {},
   "outputs": [
    {
     "name": "stdout",
     "output_type": "stream",
     "text": [
      "\n",
      "a <class 'numpy.ndarray'>\n",
      "[[1 2 3]\n",
      " [4 5 6]]\n",
      "----------------\n",
      "b <class 'numpy.int32'>\n",
      "4\n",
      "----------------\n",
      "c <class 'numpy.ndarray'>\n",
      "[[100 100 100]\n",
      " [100 100 100]]\n",
      "----------------\n",
      "d <class 'numpy.ndarray'>\n",
      "[[  1 100   3]\n",
      " [  4 100   6]]\n",
      "\n"
     ]
    }
   ],
   "source": [
    "a = np.array([[1, 2, 3], [4, 5, 6]])\n",
    "\n",
    "b = a.flat[3]\n",
    "\n",
    "c = np.copy(a)\n",
    "c.flat = 100\n",
    "\n",
    "d = np.copy(a)\n",
    "d.flat[[1, 4]] = 100\n",
    "\n",
    "print_vals(a=a, b=b, c=c, d=d)"
   ]
  },
  {
   "cell_type": "markdown",
   "metadata": {},
   "source": [
    "# 5. Methods"
   ]
  },
  {
   "cell_type": "markdown",
   "metadata": {},
   "source": [
    "For the following methods there are also corresponding functions in numpy.\n",
    "\n",
    "```\n",
    "all, any, argmax, argmin, argpartition, argsort, choose, clip, compress, copy, cumprod, cumsum, diagonal, imag, max, mean, min, nonzero, partition, prod, ptp, put, ravel, real, repeat, reshape, round, searchsorted, sort, squeeze, std, sum, swapaxes, take, trace, transpose, var\n",
    "```"
   ]
  },
  {
   "cell_type": "markdown",
   "metadata": {},
   "source": [
    "## 5.1. Array conversion"
   ]
  },
  {
   "cell_type": "markdown",
   "metadata": {},
   "source": [
    "### 5.1.1. item"
   ]
  },
  {
   "cell_type": "markdown",
   "metadata": {},
   "source": [
    "Copy an element of an array to a standard Python scalar and return it."
   ]
  },
  {
   "cell_type": "code",
   "execution_count": 41,
   "metadata": {},
   "outputs": [
    {
     "name": "stdout",
     "output_type": "stream",
     "text": [
      "\n",
      "b <class 'int'>\n",
      "5\n",
      "----------------\n",
      "c <class 'int'>\n",
      "6\n",
      "\n"
     ]
    }
   ],
   "source": [
    "a = np.array([[1, 2, 3], [4, 5, 6]])\n",
    "\n",
    "b = a.item(4)\n",
    "c = a.item((1, 2))\n",
    "\n",
    "print_vals(b=b, c=c)"
   ]
  },
  {
   "cell_type": "markdown",
   "metadata": {},
   "source": [
    "### 5.1.2. tolist"
   ]
  },
  {
   "cell_type": "markdown",
   "metadata": {},
   "source": [
    "Return the array as an a.ndim-levels deep nested list of Python scalars."
   ]
  },
  {
   "cell_type": "code",
   "execution_count": 42,
   "metadata": {},
   "outputs": [
    {
     "name": "stdout",
     "output_type": "stream",
     "text": [
      "\n",
      "b <class 'list'>\n",
      "[[1, 2, 3], [4, 5, 6]]\n",
      "----------------\n",
      "c <class 'list'>\n",
      "[array([1, 2, 3]), array([4, 5, 6])]\n",
      "\n"
     ]
    }
   ],
   "source": [
    "a = np.array([[1, 2, 3], [4, 5, 6]])\n",
    "\n",
    "b = a.tolist()\n",
    "c = list(a)\n",
    "\n",
    "print_vals(b=b, c=c)"
   ]
  },
  {
   "cell_type": "markdown",
   "metadata": {},
   "source": [
    "### 5.1.3. astype"
   ]
  },
  {
   "cell_type": "markdown",
   "metadata": {},
   "source": [
    "Copy of the array, cast to a specified type."
   ]
  },
  {
   "cell_type": "code",
   "execution_count": 43,
   "metadata": {},
   "outputs": [
    {
     "name": "stdout",
     "output_type": "stream",
     "text": [
      "\n",
      "a <class 'numpy.ndarray'>\n",
      "[1 2 3 4]\n",
      "----------------\n",
      "b <class 'numpy.dtype[int32]'>\n",
      "int32\n",
      "----------------\n",
      "c <class 'numpy.ndarray'>\n",
      "[1. 2. 3. 4.]\n",
      "----------------\n",
      "d <class 'numpy.dtype[float64]'>\n",
      "float64\n",
      "\n"
     ]
    }
   ],
   "source": [
    "a = np.array([1, 2, 3, 4])\n",
    "b = a.dtype\n",
    "\n",
    "c = a.astype(np.float64)\n",
    "d = c.dtype\n",
    "\n",
    "print_vals(a=a, b=b, c=c, d=d)"
   ]
  },
  {
   "cell_type": "markdown",
   "metadata": {},
   "source": [
    "### 5.1.4. copy"
   ]
  },
  {
   "cell_type": "markdown",
   "metadata": {},
   "source": [
    "Return a copy of the array."
   ]
  },
  {
   "cell_type": "code",
   "execution_count": 44,
   "metadata": {},
   "outputs": [
    {
     "name": "stdout",
     "output_type": "stream",
     "text": [
      "\n",
      "a <class 'numpy.ndarray'>\n",
      "[100   2   3]\n",
      "----------------\n",
      "b <class 'numpy.ndarray'>\n",
      "[100   2   3]\n",
      "----------------\n",
      "c <class 'numpy.ndarray'>\n",
      "[1 2 3]\n",
      "\n"
     ]
    }
   ],
   "source": [
    "a = np.array([1, 2, 3])\n",
    "b = a\n",
    "c = a.copy()\n",
    "\n",
    "a[0] = 100\n",
    "\n",
    "print_vals(a=a, b=b, c=c)"
   ]
  },
  {
   "cell_type": "markdown",
   "metadata": {},
   "source": [
    "### 5.1.5. fill"
   ]
  },
  {
   "cell_type": "markdown",
   "metadata": {},
   "source": [
    "Fill the array with a scalar value."
   ]
  },
  {
   "cell_type": "code",
   "execution_count": 45,
   "metadata": {},
   "outputs": [
    {
     "name": "stdout",
     "output_type": "stream",
     "text": [
      "\n",
      "a <class 'numpy.ndarray'>\n",
      "[100. 100. 100.]\n",
      "\n"
     ]
    }
   ],
   "source": [
    "a = np.empty(3)\n",
    "a.fill(100)\n",
    "\n",
    "print_vals(a=a)"
   ]
  },
  {
   "cell_type": "markdown",
   "metadata": {},
   "source": [
    "## 5.2. Shape manipulation"
   ]
  },
  {
   "cell_type": "markdown",
   "metadata": {},
   "source": [
    "### 5.2.1. reshape"
   ]
  },
  {
   "cell_type": "markdown",
   "metadata": {},
   "source": [
    "Returns an array containing the same data with a new shape."
   ]
  },
  {
   "cell_type": "code",
   "execution_count": 46,
   "metadata": {},
   "outputs": [
    {
     "name": "stdout",
     "output_type": "stream",
     "text": [
      "\n",
      "a <class 'numpy.ndarray'>\n",
      "[ 0  1  2  3  4  5  6  7  8  9 10 11]\n",
      "----------------\n",
      "b <class 'numpy.ndarray'>\n",
      "[[ 0  1  2  3]\n",
      " [ 4  5  6  7]\n",
      " [ 8  9 10 11]]\n",
      "----------------\n",
      "c <class 'numpy.ndarray'>\n",
      "[[ 0  1  2  3]\n",
      " [ 4  5  6  7]\n",
      " [ 8  9 10 11]]\n",
      "----------------\n",
      "d <class 'numpy.ndarray'>\n",
      "[[ 0  1  2  3]\n",
      " [ 4  5  6  7]\n",
      " [ 8  9 10 11]]\n",
      "\n"
     ]
    }
   ],
   "source": [
    "a = np.arange(12)\n",
    "\n",
    "b = a.reshape(3, 4)\n",
    "c = a.reshape(3, -1)\n",
    "d = a.reshape((3, -1))\n",
    "\n",
    "print_vals(a=a, b=b, c=c, d=d)"
   ]
  },
  {
   "cell_type": "markdown",
   "metadata": {},
   "source": [
    "### 5.2.2. resize"
   ]
  },
  {
   "cell_type": "markdown",
   "metadata": {},
   "source": [
    "Change shape and size of array in-place."
   ]
  },
  {
   "cell_type": "code",
   "execution_count": 47,
   "metadata": {},
   "outputs": [
    {
     "name": "stdout",
     "output_type": "stream",
     "text": [
      "\n",
      "a <class 'numpy.ndarray'>\n",
      "[ 0  1  2  3  4  5  6  7  8  9 10 11]\n",
      "----------------\n",
      "b <class 'numpy.ndarray'>\n",
      "[[ 0  1  2  3]\n",
      " [ 4  5  6  7]\n",
      " [ 8  9 10 11]]\n",
      "----------------\n",
      "c <class 'numpy.ndarray'>\n",
      "[[ 0  1  2  3]\n",
      " [ 4  5  6  7]\n",
      " [ 8  9 10 11]]\n",
      "\n"
     ]
    }
   ],
   "source": [
    "a = np.arange(12)\n",
    "\n",
    "b = a.copy()\n",
    "b.resize(3, 4)\n",
    "\n",
    "c = a.copy()\n",
    "c.resize((3, 4))\n",
    "\n",
    "print_vals(a=a, b=b, c=c)"
   ]
  },
  {
   "cell_type": "markdown",
   "metadata": {},
   "source": [
    "### 5.2.3. transpose"
   ]
  },
  {
   "cell_type": "markdown",
   "metadata": {},
   "source": [
    "Returns a view of the array with axes transposed."
   ]
  },
  {
   "cell_type": "code",
   "execution_count": 48,
   "metadata": {},
   "outputs": [
    {
     "name": "stdout",
     "output_type": "stream",
     "text": [
      "\n",
      "a <class 'numpy.ndarray'>\n",
      "[[[0 1 2]]\n",
      "\n",
      " [[3 4 5]]]\n",
      "----------------\n",
      "b <class 'numpy.ndarray'>\n",
      "[[[0 3]]\n",
      "\n",
      " [[1 4]]\n",
      "\n",
      " [[2 5]]]\n",
      "----------------\n",
      "c <class 'numpy.ndarray'>\n",
      "[[[0]\n",
      "  [3]]\n",
      "\n",
      " [[1]\n",
      "  [4]]\n",
      "\n",
      " [[2]\n",
      "  [5]]]\n",
      "----------------\n",
      "d <class 'numpy.ndarray'>\n",
      "[[[0 1 2]\n",
      "  [3 4 5]]]\n",
      "\n"
     ]
    }
   ],
   "source": [
    "a = np.arange(6).reshape(2, 1, 3)\n",
    "\n",
    "b = a.transpose()           # shape: (3, 1, 2)\n",
    "c = a.transpose(2, 0, 1)    # shape: (3, 2, 1)\n",
    "d = a.transpose((1, 0, 2))  # shape: (1, 2, 3)\n",
    "\n",
    "print_vals(a=a, b=b, c=c, d=d)"
   ]
  },
  {
   "cell_type": "markdown",
   "metadata": {},
   "source": [
    "### 5.2.4. swapaxes"
   ]
  },
  {
   "cell_type": "markdown",
   "metadata": {},
   "source": [
    "Return a view of the array with axis1 and axis2 interchanged."
   ]
  },
  {
   "cell_type": "code",
   "execution_count": 49,
   "metadata": {},
   "outputs": [
    {
     "name": "stdout",
     "output_type": "stream",
     "text": [
      "\n",
      "a <class 'numpy.ndarray'>\n",
      "[[[0 1 2]]\n",
      "\n",
      " [[3 4 5]]]\n",
      "----------------\n",
      "b <class 'numpy.ndarray'>\n",
      "[[[0]\n",
      "  [1]\n",
      "  [2]]\n",
      "\n",
      " [[3]\n",
      "  [4]\n",
      "  [5]]]\n",
      "\n"
     ]
    }
   ],
   "source": [
    "a = np.arange(6).reshape((2, 1, 3))\n",
    "b = a.swapaxes(1, 2)\n",
    "\n",
    "print_vals(a=a, b=b)"
   ]
  },
  {
   "cell_type": "markdown",
   "metadata": {},
   "source": [
    "### 5.2.5. flatten"
   ]
  },
  {
   "cell_type": "markdown",
   "metadata": {},
   "source": [
    "Return a copy of the array collapsed into one dimension."
   ]
  },
  {
   "cell_type": "code",
   "execution_count": 50,
   "metadata": {},
   "outputs": [
    {
     "name": "stdout",
     "output_type": "stream",
     "text": [
      "\n",
      "a <class 'numpy.ndarray'>\n",
      "[[0 1 2]\n",
      " [3 4 5]]\n",
      "----------------\n",
      "b <class 'numpy.ndarray'>\n",
      "[0 1 2 3 4 5]\n",
      "\n"
     ]
    }
   ],
   "source": [
    "a = np.arange(6).reshape(2, 3)\n",
    "b = a.flatten()\n",
    "\n",
    "print_vals(a=a, b=b)"
   ]
  },
  {
   "cell_type": "markdown",
   "metadata": {},
   "source": [
    "## 5.3. Item selection and manipulation"
   ]
  },
  {
   "cell_type": "markdown",
   "metadata": {},
   "source": [
    "### 5.3.1. put"
   ]
  },
  {
   "cell_type": "markdown",
   "metadata": {},
   "source": [
    "Set `a.flat[n] = values[n]` for all *n* in indices."
   ]
  },
  {
   "cell_type": "code",
   "execution_count": 51,
   "metadata": {},
   "outputs": [
    {
     "name": "stdout",
     "output_type": "stream",
     "text": [
      "\n",
      "a <class 'numpy.ndarray'>\n",
      "[100   2 200   4   5   6]\n",
      "\n"
     ]
    }
   ],
   "source": [
    "a = np.array([1, 2, 3, 4, 5, 6])\n",
    "\n",
    "idx = [0, 2]\n",
    "val = [100, 200]\n",
    "\n",
    "a.put(idx, val)\n",
    "\n",
    "print_vals(a=a)"
   ]
  },
  {
   "cell_type": "markdown",
   "metadata": {},
   "source": [
    "### 5.3.2. repeat"
   ]
  },
  {
   "cell_type": "markdown",
   "metadata": {},
   "source": [
    "Repeat elements of an array."
   ]
  },
  {
   "cell_type": "code",
   "execution_count": 52,
   "metadata": {},
   "outputs": [
    {
     "name": "stdout",
     "output_type": "stream",
     "text": [
      "\n",
      "a <class 'numpy.ndarray'>\n",
      "[[0 1 2]\n",
      " [3 4 5]]\n",
      "----------------\n",
      "b <class 'numpy.ndarray'>\n",
      "[0 0 0 1 1 1 2 2 2 3 3 3 4 4 4 5 5 5]\n",
      "\n"
     ]
    }
   ],
   "source": [
    "a = np.arange(6).reshape(2, 3)\n",
    "b = a.repeat(3)\n",
    "\n",
    "print_vals(a=a, b=b)"
   ]
  },
  {
   "cell_type": "markdown",
   "metadata": {},
   "source": [
    "### 5.3.3. sort"
   ]
  },
  {
   "cell_type": "markdown",
   "metadata": {},
   "source": [
    "Sort an array in-place."
   ]
  },
  {
   "cell_type": "code",
   "execution_count": 53,
   "metadata": {},
   "outputs": [
    {
     "name": "stdout",
     "output_type": "stream",
     "text": [
      "\n",
      "a <class 'numpy.ndarray'>\n",
      "[[2 5 4]\n",
      " [6 3 1]]\n",
      "----------------\n",
      "b <class 'numpy.ndarray'>\n",
      "[[2 4 5]\n",
      " [1 3 6]]\n",
      "----------------\n",
      "c <class 'numpy.ndarray'>\n",
      "[[2 3 1]\n",
      " [6 5 4]]\n",
      "----------------\n",
      "d <class 'numpy.ndarray'>\n",
      "[[2 4 5]\n",
      " [1 3 6]]\n",
      "\n"
     ]
    }
   ],
   "source": [
    "a = np.array([[2, 5, 4], [6, 3, 1]])\n",
    "\n",
    "b = a.copy()\n",
    "b.sort()\n",
    "\n",
    "c = a.copy()\n",
    "c.sort(0)\n",
    "\n",
    "d = a.copy()\n",
    "d.sort(1)\n",
    "\n",
    "print_vals(a=a, b=b, c=c, d=d)"
   ]
  },
  {
   "cell_type": "markdown",
   "metadata": {},
   "source": [
    "## 5.4. Calculation"
   ]
  },
  {
   "cell_type": "markdown",
   "metadata": {},
   "source": [
    "### 5.4.1. max"
   ]
  },
  {
   "cell_type": "markdown",
   "metadata": {},
   "source": [
    "Return the maximum along a given axis."
   ]
  },
  {
   "cell_type": "code",
   "execution_count": 54,
   "metadata": {},
   "outputs": [
    {
     "name": "stdout",
     "output_type": "stream",
     "text": [
      "\n",
      "a <class 'numpy.ndarray'>\n",
      "[[ 6  2 19]\n",
      " [-1  4  0]]\n",
      "----------------\n",
      "b <class 'numpy.int32'>\n",
      "19\n",
      "----------------\n",
      "c <class 'numpy.ndarray'>\n",
      "[ 6  4 19]\n",
      "----------------\n",
      "d <class 'numpy.ndarray'>\n",
      "[19  4]\n",
      "\n"
     ]
    }
   ],
   "source": [
    "a = np.array([[6, 2, 19], [-1, 4, 0]])\n",
    "\n",
    "b = a.max()\n",
    "c = a.max(0)\n",
    "d = a.max(1)\n",
    "\n",
    "print_vals(a=a, b=b, c=c, d=d)"
   ]
  },
  {
   "cell_type": "markdown",
   "metadata": {},
   "source": [
    "### 5.4.2. argmax"
   ]
  },
  {
   "cell_type": "markdown",
   "metadata": {},
   "source": [
    "Return indices of the maximum values along the given axis."
   ]
  },
  {
   "cell_type": "code",
   "execution_count": 55,
   "metadata": {},
   "outputs": [
    {
     "name": "stdout",
     "output_type": "stream",
     "text": [
      "\n",
      "a <class 'numpy.ndarray'>\n",
      "[[ 6  2 19]\n",
      " [-1  4  0]]\n",
      "----------------\n",
      "b <class 'numpy.int64'>\n",
      "2\n",
      "----------------\n",
      "c <class 'numpy.ndarray'>\n",
      "[0 1 0]\n",
      "----------------\n",
      "d <class 'numpy.ndarray'>\n",
      "[2 1]\n",
      "\n"
     ]
    }
   ],
   "source": [
    "a = np.array([[6, 2, 19], [-1, 4, 0]])\n",
    "\n",
    "b = a.argmax()\n",
    "c = a.argmax(0)\n",
    "d = a.argmax(1)\n",
    "\n",
    "print_vals(a=a, b=b, c=c, d=d)"
   ]
  },
  {
   "cell_type": "markdown",
   "metadata": {},
   "source": [
    "### 5.4.3. min"
   ]
  },
  {
   "cell_type": "markdown",
   "metadata": {},
   "source": [
    "Return the minimum along a given axis."
   ]
  },
  {
   "cell_type": "code",
   "execution_count": 56,
   "metadata": {},
   "outputs": [
    {
     "name": "stdout",
     "output_type": "stream",
     "text": [
      "\n",
      "a <class 'numpy.ndarray'>\n",
      "[[ 6  2 19]\n",
      " [-1  4  0]]\n",
      "----------------\n",
      "b <class 'numpy.int32'>\n",
      "-1\n",
      "----------------\n",
      "c <class 'numpy.ndarray'>\n",
      "[-1  2  0]\n",
      "----------------\n",
      "d <class 'numpy.ndarray'>\n",
      "[ 2 -1]\n",
      "\n"
     ]
    }
   ],
   "source": [
    "a = np.array([[6, 2, 19], [-1, 4, 0]])\n",
    "\n",
    "b = a.min()\n",
    "c = a.min(0)\n",
    "d = a.min(1)\n",
    "\n",
    "print_vals(a=a, b=b, c=c, d=d)"
   ]
  },
  {
   "cell_type": "markdown",
   "metadata": {},
   "source": [
    "### 5.4.4. argmin"
   ]
  },
  {
   "cell_type": "markdown",
   "metadata": {},
   "source": [
    "Return indices of the minimum values along the given axis."
   ]
  },
  {
   "cell_type": "code",
   "execution_count": 57,
   "metadata": {},
   "outputs": [
    {
     "name": "stdout",
     "output_type": "stream",
     "text": [
      "\n",
      "a <class 'numpy.ndarray'>\n",
      "[[ 6  2 19]\n",
      " [-1  4  0]]\n",
      "----------------\n",
      "b <class 'numpy.int64'>\n",
      "3\n",
      "----------------\n",
      "c <class 'numpy.ndarray'>\n",
      "[1 0 1]\n",
      "----------------\n",
      "d <class 'numpy.ndarray'>\n",
      "[1 0]\n",
      "\n"
     ]
    }
   ],
   "source": [
    "a = np.array([[6, 2, 19], [-1, 4, 0]])\n",
    "\n",
    "b = a.argmin()\n",
    "c = a.argmin(0)\n",
    "d = a.argmin(1)\n",
    "\n",
    "print_vals(a=a, b=b, c=c, d=d)"
   ]
  },
  {
   "cell_type": "markdown",
   "metadata": {},
   "source": [
    "### 5.4.5. clip"
   ]
  },
  {
   "cell_type": "markdown",
   "metadata": {},
   "source": [
    "Return an array whose values are limited to `[min, max]`."
   ]
  },
  {
   "cell_type": "code",
   "execution_count": 58,
   "metadata": {},
   "outputs": [
    {
     "name": "stdout",
     "output_type": "stream",
     "text": [
      "\n",
      "a <class 'numpy.ndarray'>\n",
      "[0 1 2 3 4 5 6 7 8 9]\n",
      "----------------\n",
      "b <class 'numpy.ndarray'>\n",
      "[3 3 3 3 4 5 6 7 7 7]\n",
      "----------------\n",
      "c <class 'numpy.ndarray'>\n",
      "[3 3 3 3 4 5 6 7 7 7]\n",
      "----------------\n",
      "d <class 'numpy.ndarray'>\n",
      "[2 1 2 3 4 5 5 5 5 5]\n",
      "\n"
     ]
    }
   ],
   "source": [
    "a = np.arange(10)\n",
    "\n",
    "b = a.clip(3, 7)\n",
    "\n",
    "c = a.copy()\n",
    "c.clip(3, 7, out=c)\n",
    "\n",
    "d = a.clip([2, 0, 1, 3, 1, 4, 2, 4, 0, 3], 5)\n",
    "\n",
    "print_vals(a=a, b=b, c=c, d=d)"
   ]
  },
  {
   "cell_type": "markdown",
   "metadata": {},
   "source": [
    "### 5.4.6. round"
   ]
  },
  {
   "cell_type": "markdown",
   "metadata": {},
   "source": [
    "Return *a* with each element rounded to the given number of decimals."
   ]
  },
  {
   "cell_type": "code",
   "execution_count": 59,
   "metadata": {},
   "outputs": [
    {
     "name": "stdout",
     "output_type": "stream",
     "text": [
      "\n",
      "b <class 'numpy.ndarray'>\n",
      "[3. 2.]\n",
      "----------------\n",
      "c <class 'numpy.ndarray'>\n",
      "[3.142 2.178]\n",
      "\n"
     ]
    }
   ],
   "source": [
    "a = np.array([3.14159265, 2.17828])\n",
    "\n",
    "b = a.round()\n",
    "c = a.round(3)\n",
    "\n",
    "print_vals(b=b, c=c)"
   ]
  },
  {
   "cell_type": "markdown",
   "metadata": {},
   "source": [
    "### 5.4.7. trace"
   ]
  },
  {
   "cell_type": "markdown",
   "metadata": {},
   "source": [
    "Return the sum along diagonals of the array."
   ]
  },
  {
   "cell_type": "code",
   "execution_count": 60,
   "metadata": {},
   "outputs": [
    {
     "name": "stdout",
     "output_type": "stream",
     "text": [
      "\n",
      "a <class 'numpy.ndarray'>\n",
      "[[0 1 2]\n",
      " [3 4 5]\n",
      " [6 7 8]]\n",
      "----------------\n",
      "b <class 'numpy.int32'>\n",
      "12\n",
      "----------------\n",
      "c <class 'numpy.int32'>\n",
      "6\n",
      "----------------\n",
      "d <class 'numpy.int32'>\n",
      "10\n",
      "\n"
     ]
    }
   ],
   "source": [
    "a = np.arange(9).reshape((3, 3))\n",
    "\n",
    "b = a.trace()\n",
    "c = a.trace(1)\n",
    "d = a.trace(-1)\n",
    "\n",
    "print_vals(a=a, b=b, c=c, d=d)"
   ]
  },
  {
   "cell_type": "markdown",
   "metadata": {},
   "source": [
    "### 5.4.8. sum"
   ]
  },
  {
   "cell_type": "markdown",
   "metadata": {},
   "source": [
    "Return the sum of the array elements over the given axis."
   ]
  },
  {
   "cell_type": "code",
   "execution_count": 61,
   "metadata": {},
   "outputs": [
    {
     "name": "stdout",
     "output_type": "stream",
     "text": [
      "\n",
      "a <class 'numpy.ndarray'>\n",
      "[[0 1 2 3]\n",
      " [4 5 6 7]]\n",
      "----------------\n",
      "b <class 'numpy.int32'>\n",
      "28\n",
      "----------------\n",
      "c <class 'numpy.ndarray'>\n",
      "[ 4  6  8 10]\n",
      "----------------\n",
      "d <class 'numpy.ndarray'>\n",
      "[ 6 22]\n",
      "\n"
     ]
    }
   ],
   "source": [
    "a = np.arange(8).reshape((2, 4))\n",
    "\n",
    "b = a.sum()\n",
    "c = a.sum(0)\n",
    "d = a.sum(1)\n",
    "\n",
    "print_vals(a=a, b=b, c=c, d=d)"
   ]
  },
  {
   "cell_type": "markdown",
   "metadata": {},
   "source": [
    "### 5.4.9. cumsum"
   ]
  },
  {
   "cell_type": "markdown",
   "metadata": {},
   "source": [
    "Return the cumulative sum of the elements along the given axis."
   ]
  },
  {
   "cell_type": "code",
   "execution_count": 62,
   "metadata": {},
   "outputs": [
    {
     "name": "stdout",
     "output_type": "stream",
     "text": [
      "\n",
      "a <class 'numpy.ndarray'>\n",
      "[[1 2 3]\n",
      " [4 5 6]\n",
      " [7 8 9]]\n",
      "----------------\n",
      "b <class 'numpy.ndarray'>\n",
      "[ 1  3  6 10 15 21 28 36 45]\n",
      "----------------\n",
      "c <class 'numpy.ndarray'>\n",
      "[[ 1  2  3]\n",
      " [ 5  7  9]\n",
      " [12 15 18]]\n",
      "----------------\n",
      "d <class 'numpy.ndarray'>\n",
      "[[ 1  3  6]\n",
      " [ 4  9 15]\n",
      " [ 7 15 24]]\n",
      "\n"
     ]
    }
   ],
   "source": [
    "a = np.arange(1, 10).reshape((3, 3))\n",
    "\n",
    "b = a.cumsum()\n",
    "c = a.cumsum(0)\n",
    "d = a.cumsum(1)\n",
    "\n",
    "print_vals(a=a, b=b, c=c, d=d)"
   ]
  },
  {
   "cell_type": "markdown",
   "metadata": {},
   "source": [
    "### 5.4.10. mean"
   ]
  },
  {
   "cell_type": "markdown",
   "metadata": {},
   "source": [
    "Returns the average of the array elements along given axis."
   ]
  },
  {
   "cell_type": "code",
   "execution_count": 63,
   "metadata": {},
   "outputs": [
    {
     "name": "stdout",
     "output_type": "stream",
     "text": [
      "\n",
      "a <class 'numpy.ndarray'>\n",
      "[[1 2 3]\n",
      " [4 5 6]\n",
      " [7 8 9]]\n",
      "----------------\n",
      "b <class 'numpy.float64'>\n",
      "5.0\n",
      "----------------\n",
      "c <class 'numpy.ndarray'>\n",
      "[4. 5. 6.]\n",
      "----------------\n",
      "d <class 'numpy.ndarray'>\n",
      "[2. 5. 8.]\n",
      "\n"
     ]
    }
   ],
   "source": [
    "a = np.arange(1, 10).reshape((3, 3))\n",
    "\n",
    "b = a.mean()\n",
    "c = a.mean(0)\n",
    "d = a.mean(1)\n",
    "\n",
    "print_vals(a=a, b=b, c=c, d=d)"
   ]
  },
  {
   "cell_type": "markdown",
   "metadata": {},
   "source": [
    "### 5.4.11. var"
   ]
  },
  {
   "cell_type": "markdown",
   "metadata": {},
   "source": [
    "Returns the variance of the array elements, along given axis."
   ]
  },
  {
   "cell_type": "code",
   "execution_count": 64,
   "metadata": {},
   "outputs": [
    {
     "name": "stdout",
     "output_type": "stream",
     "text": [
      "\n",
      "a <class 'numpy.ndarray'>\n",
      "[[0 1 2 3]\n",
      " [4 5 6 7]]\n",
      "----------------\n",
      "b <class 'numpy.float64'>\n",
      "5.25\n",
      "----------------\n",
      "c <class 'numpy.ndarray'>\n",
      "[4. 4. 4. 4.]\n",
      "----------------\n",
      "d <class 'numpy.ndarray'>\n",
      "[1.25 1.25]\n",
      "\n"
     ]
    }
   ],
   "source": [
    "a = np.arange(8).reshape((2, 4))\n",
    "\n",
    "b = a.var()\n",
    "c = a.var(0)\n",
    "d = a.var(1)\n",
    "\n",
    "print_vals(a=a, b=b, c=c, d=d)"
   ]
  },
  {
   "cell_type": "markdown",
   "metadata": {},
   "source": [
    "### 5.4.12. std"
   ]
  },
  {
   "cell_type": "markdown",
   "metadata": {},
   "source": [
    "Returns the standard deviation of the array elements along given axis."
   ]
  },
  {
   "cell_type": "code",
   "execution_count": 65,
   "metadata": {},
   "outputs": [
    {
     "name": "stdout",
     "output_type": "stream",
     "text": [
      "\n",
      "a <class 'numpy.ndarray'>\n",
      "[[0 1 2 3]\n",
      " [4 5 6 7]]\n",
      "----------------\n",
      "b <class 'numpy.float64'>\n",
      "2.29128784747792\n",
      "----------------\n",
      "c <class 'numpy.ndarray'>\n",
      "[2. 2. 2. 2.]\n",
      "----------------\n",
      "d <class 'numpy.ndarray'>\n",
      "[1.11803399 1.11803399]\n",
      "\n"
     ]
    }
   ],
   "source": [
    "a = np.arange(8).reshape((2, 4))\n",
    "\n",
    "b = a.std()\n",
    "c = a.std(0)\n",
    "d = a.std(1)\n",
    "\n",
    "print_vals(a=a, b=b, c=c, d=d)"
   ]
  },
  {
   "cell_type": "markdown",
   "metadata": {},
   "source": [
    "### 5.4.13. prod"
   ]
  },
  {
   "cell_type": "markdown",
   "metadata": {},
   "source": [
    "Return the product of the array elements over the given axis."
   ]
  },
  {
   "cell_type": "code",
   "execution_count": 66,
   "metadata": {},
   "outputs": [
    {
     "name": "stdout",
     "output_type": "stream",
     "text": [
      "\n",
      "a <class 'numpy.ndarray'>\n",
      "[[1 2 3 4]\n",
      " [5 6 7 8]]\n",
      "----------------\n",
      "b <class 'numpy.int32'>\n",
      "40320\n",
      "----------------\n",
      "c <class 'numpy.ndarray'>\n",
      "[ 5 12 21 32]\n",
      "----------------\n",
      "d <class 'numpy.ndarray'>\n",
      "[  24 1680]\n",
      "\n"
     ]
    }
   ],
   "source": [
    "a = np.arange(1, 9).reshape((2, 4))\n",
    "\n",
    "b = a.prod()\n",
    "c = a.prod(0)\n",
    "d = a.prod(1)\n",
    "\n",
    "print_vals(a=a, b=b, c=c, d=d)"
   ]
  },
  {
   "cell_type": "markdown",
   "metadata": {},
   "source": [
    "### 5.4.14. cumprod"
   ]
  },
  {
   "cell_type": "markdown",
   "metadata": {},
   "source": [
    "Return the cumulative product of the elements along the given axis."
   ]
  },
  {
   "cell_type": "code",
   "execution_count": 67,
   "metadata": {},
   "outputs": [
    {
     "name": "stdout",
     "output_type": "stream",
     "text": [
      "\n",
      "a <class 'numpy.ndarray'>\n",
      "[[1 2 3]\n",
      " [4 5 6]\n",
      " [7 8 9]]\n",
      "----------------\n",
      "b <class 'numpy.ndarray'>\n",
      "[     1      2      6     24    120    720   5040  40320 362880]\n",
      "----------------\n",
      "c <class 'numpy.ndarray'>\n",
      "[[  1   2   3]\n",
      " [  4  10  18]\n",
      " [ 28  80 162]]\n",
      "----------------\n",
      "d <class 'numpy.ndarray'>\n",
      "[[  1   2   6]\n",
      " [  4  20 120]\n",
      " [  7  56 504]]\n",
      "\n"
     ]
    }
   ],
   "source": [
    "a = np.arange(1, 10).reshape((3, 3))\n",
    "\n",
    "b = a.cumprod()\n",
    "c = a.cumprod(0)\n",
    "d = a.cumprod(1)\n",
    "\n",
    "print_vals(a=a, b=b, c=c, d=d)"
   ]
  },
  {
   "cell_type": "markdown",
   "metadata": {},
   "source": [
    "### 5.4.15. all"
   ]
  },
  {
   "cell_type": "markdown",
   "metadata": {},
   "source": [
    "Returns True if all elements evaluate to True."
   ]
  },
  {
   "cell_type": "code",
   "execution_count": 68,
   "metadata": {},
   "outputs": [
    {
     "name": "stdout",
     "output_type": "stream",
     "text": [
      "\n",
      "a <class 'numpy.ndarray'>\n",
      "[[ True  True False]\n",
      " [False  True False]\n",
      " [ True  True  True]]\n",
      "----------------\n",
      "b <class 'numpy.bool_'>\n",
      "False\n",
      "----------------\n",
      "c <class 'numpy.ndarray'>\n",
      "[False  True False]\n",
      "----------------\n",
      "d <class 'numpy.ndarray'>\n",
      "[False False  True]\n",
      "\n"
     ]
    }
   ],
   "source": [
    "a = np.array([[True, True, False], [False, True, False], [True, True, True]])\n",
    "\n",
    "b = a.all()\n",
    "c = a.all(0)\n",
    "d = a.all(1)\n",
    "\n",
    "print_vals(a=a, b=b, c=c, d=d)"
   ]
  },
  {
   "cell_type": "markdown",
   "metadata": {},
   "source": [
    "### 5.4.16. any"
   ]
  },
  {
   "cell_type": "markdown",
   "metadata": {},
   "source": [
    "Returns True if any of the elements of *a* evaluate to True."
   ]
  },
  {
   "cell_type": "code",
   "execution_count": 69,
   "metadata": {},
   "outputs": [
    {
     "name": "stdout",
     "output_type": "stream",
     "text": [
      "\n",
      "a <class 'numpy.ndarray'>\n",
      "[[ True  True False]\n",
      " [False  True False]\n",
      " [ True  True False]]\n",
      "----------------\n",
      "b <class 'numpy.bool_'>\n",
      "True\n",
      "----------------\n",
      "c <class 'numpy.ndarray'>\n",
      "[ True  True False]\n",
      "----------------\n",
      "d <class 'numpy.ndarray'>\n",
      "[ True  True  True]\n",
      "\n"
     ]
    }
   ],
   "source": [
    "a = np.array([[True, True, False], [False, True, False], [True, True, False]])\n",
    "\n",
    "b = a.any()\n",
    "c = a.any(0)\n",
    "d = a.any(1)\n",
    "\n",
    "print_vals(a=a, b=b, c=c, d=d)"
   ]
  }
 ],
 "metadata": {
  "interpreter": {
   "hash": "43d6c2b79df75f70180c4a0ab3ac8eb615c54414bd609c1a9f3a22522090f6a4"
  },
  "kernelspec": {
   "display_name": "Python 3",
   "language": "python",
   "name": "python3"
  },
  "language_info": {
   "codemirror_mode": {
    "name": "ipython",
    "version": 3
   },
   "file_extension": ".py",
   "mimetype": "text/x-python",
   "name": "python",
   "nbconvert_exporter": "python",
   "pygments_lexer": "ipython3",
   "version": "3.8.8"
  }
 },
 "nbformat": 4,
 "nbformat_minor": 4
}

{
 "cells": [
  {
   "cell_type": "markdown",
   "metadata": {},
   "source": [
    "# 1. Setting"
   ]
  },
  {
   "cell_type": "markdown",
   "metadata": {},
   "source": [
    "## 1.1. Import"
   ]
  },
  {
   "cell_type": "code",
   "execution_count": 1,
   "metadata": {},
   "outputs": [],
   "source": [
    "import numpy as np"
   ]
  },
  {
   "cell_type": "markdown",
   "metadata": {},
   "source": [
    "## 1.2. Helper Functions"
   ]
  },
  {
   "cell_type": "markdown",
   "metadata": {},
   "source": [
    "### 1.2.1. Print_vals"
   ]
  },
  {
   "cell_type": "code",
   "execution_count": 2,
   "metadata": {},
   "outputs": [],
   "source": [
    "def print_vals(**kwargs):\n",
    "    print(*[f'\\n{key} {type(val)}\\n{val}\\n' for key, val in kwargs.items()], sep='-' * 16)"
   ]
  },
  {
   "cell_type": "markdown",
   "metadata": {},
   "source": [
    "# 2. Array Creation"
   ]
  },
  {
   "cell_type": "markdown",
   "metadata": {},
   "source": [
    "## 2.1. From shape or value"
   ]
  },
  {
   "cell_type": "markdown",
   "metadata": {},
   "source": [
    "### 2.1.5. ones"
   ]
  },
  {
   "cell_type": "code",
   "execution_count": 7,
   "metadata": {},
   "outputs": [
    {
     "name": "stdout",
     "output_type": "stream",
     "text": [
      "\n",
      "a <class 'numpy.ndarray'>\n",
      "[1. 1. 1.]\n",
      "----------------\n",
      "b <class 'numpy.ndarray'>\n",
      "[[1. 1. 1.]\n",
      " [1. 1. 1.]]\n",
      "----------------\n",
      "c <class 'numpy.ndarray'>\n",
      "[1 1]\n",
      "\n"
     ]
    }
   ],
   "source": [
    "a = np.ones(3)\n",
    "b = np.ones((2, 3))\n",
    "c = np.ones((2,), dtype=np.int8)\n",
    "\n",
    "print_vals(a=a, b=b, c=c)"
   ]
  },
  {
   "cell_type": "markdown",
   "metadata": {},
   "source": [
    "### 2.1.6. ones_like"
   ]
  },
  {
   "cell_type": "code",
   "execution_count": 8,
   "metadata": {},
   "outputs": [
    {
     "name": "stdout",
     "output_type": "stream",
     "text": [
      "\n",
      "b <class 'numpy.ndarray'>\n",
      "[[1 1 1]\n",
      " [1 1 1]]\n",
      "\n"
     ]
    }
   ],
   "source": [
    "a = [[1, 2, 3], [4, 5, 6]]\n",
    "b = np.ones_like(a)\n",
    "\n",
    "print_vals(b=b)"
   ]
  },
  {
   "cell_type": "markdown",
   "metadata": {},
   "source": [
    "### 2.1.7. zeros"
   ]
  },
  {
   "cell_type": "code",
   "execution_count": 9,
   "metadata": {},
   "outputs": [
    {
     "name": "stdout",
     "output_type": "stream",
     "text": [
      "\n",
      "a <class 'numpy.ndarray'>\n",
      "[0. 0. 0.]\n",
      "----------------\n",
      "b <class 'numpy.ndarray'>\n",
      "[[0. 0. 0.]\n",
      " [0. 0. 0.]]\n",
      "----------------\n",
      "c <class 'numpy.ndarray'>\n",
      "[0 0]\n",
      "\n"
     ]
    }
   ],
   "source": [
    "a = np.zeros(3)\n",
    "b = np.zeros((2, 3))\n",
    "c = np.zeros((2,), dtype=np.int8)\n",
    "\n",
    "print_vals(a=a, b=b, c=c)"
   ]
  },
  {
   "cell_type": "markdown",
   "metadata": {},
   "source": [
    "### 2.1.8. zeros_like"
   ]
  },
  {
   "cell_type": "code",
   "execution_count": 10,
   "metadata": {},
   "outputs": [
    {
     "name": "stdout",
     "output_type": "stream",
     "text": [
      "\n",
      "b <class 'numpy.ndarray'>\n",
      "[[0 0 0]\n",
      " [0 0 0]]\n",
      "\n"
     ]
    }
   ],
   "source": [
    "a = [[1, 2, 3], [4, 5, 6]]\n",
    "b = np.zeros_like(a)\n",
    "\n",
    "print_vals(b=b)"
   ]
  },
  {
   "cell_type": "markdown",
   "metadata": {},
   "source": [
    "### 2.1.9. full"
   ]
  },
  {
   "cell_type": "code",
   "execution_count": 11,
   "metadata": {},
   "outputs": [
    {
     "name": "stdout",
     "output_type": "stream",
     "text": [
      "\n",
      "a <class 'numpy.ndarray'>\n",
      "[3 3 3 3]\n",
      "----------------\n",
      "b <class 'numpy.ndarray'>\n",
      "[[5 5 5]\n",
      " [5 5 5]]\n",
      "----------------\n",
      "c <class 'numpy.ndarray'>\n",
      "[[3 6 9]\n",
      " [3 6 9]\n",
      " [3 6 9]\n",
      " [3 6 9]]\n",
      "\n"
     ]
    }
   ],
   "source": [
    "a = np.full(4, 3)\n",
    "b = np.full((2, 3), 5)\n",
    "c = np.full((4, 3), [3, 6, 9])\n",
    "\n",
    "print_vals(a=a, b=b, c=c)"
   ]
  },
  {
   "cell_type": "markdown",
   "metadata": {},
   "source": [
    "### 2.1.10. full_like"
   ]
  },
  {
   "cell_type": "code",
   "execution_count": 12,
   "metadata": {},
   "outputs": [
    {
     "name": "stdout",
     "output_type": "stream",
     "text": [
      "\n",
      "b <class 'numpy.ndarray'>\n",
      "[[7 7 7]\n",
      " [7 7 7]]\n",
      "\n"
     ]
    }
   ],
   "source": [
    "a = [[1, 2, 3], [4, 5, 6]]\n",
    "b = np.full_like(a, 7)\n",
    "\n",
    "print_vals(b=b)"
   ]
  },
  {
   "cell_type": "markdown",
   "metadata": {},
   "source": [
    "## 2.2. From existing data"
   ]
  },
  {
   "cell_type": "markdown",
   "metadata": {},
   "source": [
    "### 2.2.1. array"
   ]
  },
  {
   "cell_type": "code",
   "execution_count": 13,
   "metadata": {},
   "outputs": [
    {
     "name": "stdout",
     "output_type": "stream",
     "text": [
      "\n",
      "a <class 'numpy.ndarray'>\n",
      "[1 2 3]\n",
      "----------------\n",
      "b <class 'numpy.ndarray'>\n",
      "[1. 2. 4.]\n",
      "----------------\n",
      "c <class 'numpy.ndarray'>\n",
      "[[1 2 3]\n",
      " [4 5 6]]\n",
      "\n"
     ]
    }
   ],
   "source": [
    "a = np.array([1, 2, 3])\n",
    "b = np.array([1, 2, 4.0])\n",
    "c = np.array([[1, 2, 3], [4, 5, 6]])\n",
    "\n",
    "print_vals(a=a, b=b, c=c)"
   ]
  },
  {
   "cell_type": "markdown",
   "metadata": {},
   "source": [
    "### 2.2.2. copy"
   ]
  },
  {
   "cell_type": "code",
   "execution_count": 14,
   "metadata": {},
   "outputs": [
    {
     "name": "stdout",
     "output_type": "stream",
     "text": [
      "\n",
      "a <class 'numpy.ndarray'>\n",
      "[100   2   3]\n",
      "----------------\n",
      "b <class 'numpy.ndarray'>\n",
      "[100   2   3]\n",
      "----------------\n",
      "c <class 'numpy.ndarray'>\n",
      "[1 2 3]\n",
      "\n"
     ]
    }
   ],
   "source": [
    "a = np.array([1, 2, 3])\n",
    "b = a\n",
    "c = np.copy(a)\n",
    "\n",
    "a[0] = 100\n",
    "\n",
    "print_vals(a=a, b=b, c=c)"
   ]
  },
  {
   "cell_type": "markdown",
   "metadata": {},
   "source": [
    "## 2.3. Numerical ranges"
   ]
  },
  {
   "cell_type": "markdown",
   "metadata": {},
   "source": [
    "### 2.3.1. arange"
   ]
  },
  {
   "cell_type": "code",
   "execution_count": 15,
   "metadata": {},
   "outputs": [
    {
     "name": "stdout",
     "output_type": "stream",
     "text": [
      "\n",
      "a <class 'numpy.ndarray'>\n",
      "[0 1 2]\n",
      "----------------\n",
      "b <class 'numpy.ndarray'>\n",
      "[0. 1. 2. 3.]\n",
      "----------------\n",
      "c <class 'numpy.ndarray'>\n",
      "[3 4 5 6]\n",
      "----------------\n",
      "d <class 'numpy.ndarray'>\n",
      "[3 5 7 9]\n",
      "\n"
     ]
    }
   ],
   "source": [
    "a = np.arange(3)\n",
    "b = np.arange(4.0)\n",
    "c = np.arange(3, 7)\n",
    "d = np.arange(3, 10, 2)\n",
    "\n",
    "print_vals(a=a, b=b, c=c, d=d)"
   ]
  },
  {
   "cell_type": "markdown",
   "metadata": {},
   "source": [
    "### 2.3.2. linspace"
   ]
  },
  {
   "cell_type": "code",
   "execution_count": 16,
   "metadata": {},
   "outputs": [
    {
     "name": "stdout",
     "output_type": "stream",
     "text": [
      "\n",
      "a <class 'numpy.ndarray'>\n",
      "[2.  2.5 3.  3.5 4. ]\n",
      "----------------\n",
      "b <class 'numpy.ndarray'>\n",
      "[2.  2.4 2.8 3.2 3.6]\n",
      "----------------\n",
      "c <class 'tuple'>\n",
      "(array([2. , 2.5, 3. , 3.5, 4. ]), 0.5)\n",
      "\n"
     ]
    }
   ],
   "source": [
    "a = np.linspace(2, 4, num=5)\n",
    "b = np.linspace(2, 4, num=5, endpoint=False)\n",
    "c = np.linspace(2, 4, num=5, retstep=True)\n",
    "\n",
    "print_vals(a=a, b=b, c=c)"
   ]
  },
  {
   "cell_type": "markdown",
   "metadata": {},
   "source": [
    "# 3. Array Indexing"
   ]
  },
  {
   "cell_type": "markdown",
   "metadata": {},
   "source": [
    "## 3.1. Generating index arrays"
   ]
  },
  {
   "cell_type": "markdown",
   "metadata": {},
   "source": [
    "### 3.1.1. c_"
   ]
  },
  {
   "cell_type": "markdown",
   "metadata": {},
   "source": [
    "Translates slice objects to concatenation along the second axis."
   ]
  },
  {
   "cell_type": "code",
   "execution_count": 26,
   "metadata": {},
   "outputs": [
    {
     "name": "stdout",
     "output_type": "stream",
     "text": [
      "\n",
      "a <class 'numpy.ndarray'>\n",
      "[[1 2 3]\n",
      " [4 5 6]]\n",
      "----------------\n",
      "b <class 'numpy.ndarray'>\n",
      "[[ 7  8  9]\n",
      " [10 11 12]]\n",
      "----------------\n",
      "c <class 'numpy.ndarray'>\n",
      "[[ 1  2  3  7  8  9]\n",
      " [ 4  5  6 10 11 12]]\n",
      "\n"
     ]
    }
   ],
   "source": [
    "a = np.array([[1, 2, 3], [4, 5, 6]])\n",
    "b = np.array([[7, 8, 9], [10, 11, 12]])\n",
    "\n",
    "c = np.c_[a, b]\n",
    "\n",
    "print_vals(a=a, b=b, c=c)"
   ]
  },
  {
   "cell_type": "markdown",
   "metadata": {},
   "source": [
    "### 3.1.2. r_"
   ]
  },
  {
   "cell_type": "markdown",
   "metadata": {},
   "source": [
    "Translates slice objects to concatenation along the first axis."
   ]
  },
  {
   "cell_type": "code",
   "execution_count": 27,
   "metadata": {},
   "outputs": [
    {
     "name": "stdout",
     "output_type": "stream",
     "text": [
      "\n",
      "a <class 'numpy.ndarray'>\n",
      "[[1 2 3]\n",
      " [4 5 6]]\n",
      "----------------\n",
      "b <class 'numpy.ndarray'>\n",
      "[[ 7  8  9]\n",
      " [10 11 12]]\n",
      "----------------\n",
      "c <class 'numpy.ndarray'>\n",
      "[[ 1  2  3]\n",
      " [ 4  5  6]\n",
      " [ 7  8  9]\n",
      " [10 11 12]]\n",
      "\n"
     ]
    }
   ],
   "source": [
    "a = np.array([[1, 2, 3], [4, 5, 6]])\n",
    "b = np.array([[7, 8, 9], [10, 11, 12]])\n",
    "\n",
    "c = np.r_[a, b]\n",
    "\n",
    "print_vals(a=a, b=b, c=c)"
   ]
  },
  {
   "cell_type": "markdown",
   "metadata": {},
   "source": [
    "### 3.1.4. where"
   ]
  },
  {
   "cell_type": "markdown",
   "metadata": {},
   "source": [
    "Return elements chosen from x or y depending on condition."
   ]
  },
  {
   "cell_type": "code",
   "execution_count": 29,
   "metadata": {},
   "outputs": [
    {
     "name": "stdout",
     "output_type": "stream",
     "text": [
      "\n",
      "b <class 'numpy.ndarray'>\n",
      "[ 1  2  3  4 50 60 70 80 90]\n",
      "----------------\n",
      "f <class 'numpy.ndarray'>\n",
      "[[1 6]\n",
      " [7 4]]\n",
      "\n"
     ]
    }
   ],
   "source": [
    "a = np.array([1, 2, 3, 4, 5, 6, 7, 8, 9])\n",
    "b = np.where(a < 5, a, a * 10)\n",
    "\n",
    "c = np.array([[True, False], [False, True]])\n",
    "d = np.array([[1, 2], [3, 4]])\n",
    "e = np.array([[5, 6], [7, 8]])\n",
    "f = np.where(c, d, e)\n",
    "\n",
    "print_vals(b=b, f=f)"
   ]
  },
  {
   "cell_type": "markdown",
   "metadata": {},
   "source": [
    "# 4. Attributes"
   ]
  },
  {
   "cell_type": "markdown",
   "metadata": {},
   "source": [
    "## 4.1. Memory layout"
   ]
  },
  {
   "cell_type": "markdown",
   "metadata": {},
   "source": [
    "### 4.1.1. shape"
   ]
  },
  {
   "cell_type": "markdown",
   "metadata": {},
   "source": [
    "Tuple of array dimensions."
   ]
  },
  {
   "cell_type": "code",
   "execution_count": 35,
   "metadata": {},
   "outputs": [
    {
     "name": "stdout",
     "output_type": "stream",
     "text": [
      "\n",
      "c <class 'tuple'>\n",
      "(4,)\n",
      "----------------\n",
      "d <class 'tuple'>\n",
      "(2, 3, 4)\n",
      "----------------\n",
      "e <class 'numpy.ndarray'>\n",
      "[[1 2]\n",
      " [3 4]]\n",
      "----------------\n",
      "f <class 'numpy.ndarray'>\n",
      "[[1 2]\n",
      " [3 4]]\n",
      "\n"
     ]
    }
   ],
   "source": [
    "a = np.array([1, 2, 3, 4])\n",
    "b = np.zeros((2, 3, 4))\n",
    "\n",
    "c = a.shape\n",
    "d = b.shape\n",
    "\n",
    "e = np.copy(a)\n",
    "e.shape = (2, 2)\n",
    "\n",
    "f = np.copy(a)\n",
    "f.shape = (-1, 2)\n",
    "\n",
    "print_vals(c=c, d=d, e=e, f=f)"
   ]
  },
  {
   "cell_type": "markdown",
   "metadata": {},
   "source": [
    "### 4.1.2. ndim"
   ]
  },
  {
   "cell_type": "markdown",
   "metadata": {},
   "source": [
    "Number of array dimensions."
   ]
  },
  {
   "cell_type": "code",
   "execution_count": 36,
   "metadata": {},
   "outputs": [
    {
     "name": "stdout",
     "output_type": "stream",
     "text": [
      "\n",
      "c <class 'int'>\n",
      "1\n",
      "----------------\n",
      "d <class 'int'>\n",
      "3\n",
      "\n"
     ]
    }
   ],
   "source": [
    "a = np.array([1, 2, 3, 4])\n",
    "b = np.zeros((2, 3, 4))\n",
    "\n",
    "c = a.ndim\n",
    "d = b.ndim\n",
    "\n",
    "print_vals(c=c, d=d)"
   ]
  },
  {
   "cell_type": "markdown",
   "metadata": {},
   "source": [
    "### 4.1.3. size"
   ]
  },
  {
   "cell_type": "markdown",
   "metadata": {},
   "source": [
    "Number of elements in the array."
   ]
  },
  {
   "cell_type": "code",
   "execution_count": 37,
   "metadata": {},
   "outputs": [
    {
     "name": "stdout",
     "output_type": "stream",
     "text": [
      "\n",
      "c <class 'int'>\n",
      "4\n",
      "----------------\n",
      "d <class 'int'>\n",
      "24\n",
      "\n"
     ]
    }
   ],
   "source": [
    "a = np.array([1, 2, 3, 4])\n",
    "b = np.zeros((2, 3, 4))\n",
    "\n",
    "c = a.size\n",
    "d = b.size\n",
    "\n",
    "print_vals(c=c, d=d)"
   ]
  },
  {
   "cell_type": "markdown",
   "metadata": {},
   "source": [
    "## 4.2. Data type"
   ]
  },
  {
   "cell_type": "markdown",
   "metadata": {},
   "source": [
    "### 4.2.1. dtype"
   ]
  },
  {
   "cell_type": "markdown",
   "metadata": {},
   "source": [
    "Data-type of the array's elements."
   ]
  },
  {
   "cell_type": "code",
   "execution_count": 38,
   "metadata": {},
   "outputs": [
    {
     "name": "stdout",
     "output_type": "stream",
     "text": [
      "\n",
      "c <class 'numpy.dtype[int32]'>\n",
      "int32\n",
      "----------------\n",
      "d <class 'numpy.dtype[float64]'>\n",
      "float64\n",
      "\n"
     ]
    }
   ],
   "source": [
    "a = np.array([1, 2, 3, 4])\n",
    "b = np.array([1, 2, 3, 4.0])\n",
    "\n",
    "c = a.dtype\n",
    "d = b.dtype\n",
    "\n",
    "print_vals(c=c, d=d)"
   ]
  },
  {
   "cell_type": "markdown",
   "metadata": {},
   "source": [
    "## 4.3. Other attributes"
   ]
  },
  {
   "cell_type": "markdown",
   "metadata": {},
   "source": [
    "### 4.3.1. T"
   ]
  },
  {
   "cell_type": "markdown",
   "metadata": {},
   "source": [
    "The transposed array."
   ]
  },
  {
   "cell_type": "code",
   "execution_count": 39,
   "metadata": {},
   "outputs": [
    {
     "name": "stdout",
     "output_type": "stream",
     "text": [
      "\n",
      "a <class 'numpy.ndarray'>\n",
      "[[1 2 3]\n",
      " [4 5 6]]\n",
      "----------------\n",
      "b <class 'numpy.ndarray'>\n",
      "[[1 4]\n",
      " [2 5]\n",
      " [3 6]]\n",
      "\n"
     ]
    }
   ],
   "source": [
    "a = np.array([[1, 2, 3], [4, 5, 6]])\n",
    "b = a.T\n",
    "\n",
    "print_vals(a=a, b=b)"
   ]
  },
  {
   "cell_type": "markdown",
   "metadata": {},
   "source": [
    "# 5. Methods"
   ]
  },
  {
   "cell_type": "markdown",
   "metadata": {},
   "source": [
    "For the following methods there are also corresponding functions in numpy.\n",
    "\n",
    "```\n",
    "all, any, argmax, argmin, argpartition, argsort, choose, clip, compress, copy, cumprod, cumsum, diagonal, imag, max, mean, min, nonzero, partition, prod, ptp, put, ravel, real, repeat, reshape, round, searchsorted, sort, squeeze, std, sum, swapaxes, take, trace, transpose, var\n",
    "```"
   ]
  },
  {
   "cell_type": "markdown",
   "metadata": {},
   "source": [
    "## 5.1. Array conversion"
   ]
  },
  {
   "cell_type": "markdown",
   "metadata": {},
   "source": [
    "### 5.1.2. tolist"
   ]
  },
  {
   "cell_type": "markdown",
   "metadata": {},
   "source": [
    "Return the array as an a.ndim-levels deep nested list of Python scalars."
   ]
  },
  {
   "cell_type": "code",
   "execution_count": 42,
   "metadata": {},
   "outputs": [
    {
     "name": "stdout",
     "output_type": "stream",
     "text": [
      "\n",
      "b <class 'list'>\n",
      "[[1, 2, 3], [4, 5, 6]]\n",
      "----------------\n",
      "c <class 'list'>\n",
      "[array([1, 2, 3]), array([4, 5, 6])]\n",
      "\n"
     ]
    }
   ],
   "source": [
    "a = np.array([[1, 2, 3], [4, 5, 6]])\n",
    "\n",
    "b = a.tolist()\n",
    "c = list(a)\n",
    "\n",
    "print_vals(b=b, c=c)"
   ]
  },
  {
   "cell_type": "markdown",
   "metadata": {},
   "source": [
    "### 5.1.4. copy"
   ]
  },
  {
   "cell_type": "markdown",
   "metadata": {},
   "source": [
    "Return a copy of the array."
   ]
  },
  {
   "cell_type": "code",
   "execution_count": 44,
   "metadata": {},
   "outputs": [
    {
     "name": "stdout",
     "output_type": "stream",
     "text": [
      "\n",
      "a <class 'numpy.ndarray'>\n",
      "[100   2   3]\n",
      "----------------\n",
      "b <class 'numpy.ndarray'>\n",
      "[100   2   3]\n",
      "----------------\n",
      "c <class 'numpy.ndarray'>\n",
      "[1 2 3]\n",
      "\n"
     ]
    }
   ],
   "source": [
    "a = np.array([1, 2, 3])\n",
    "b = a\n",
    "c = a.copy()\n",
    "\n",
    "a[0] = 100\n",
    "\n",
    "print_vals(a=a, b=b, c=c)"
   ]
  },
  {
   "cell_type": "markdown",
   "metadata": {},
   "source": [
    "### 5.1.5. fill"
   ]
  },
  {
   "cell_type": "markdown",
   "metadata": {},
   "source": [
    "Fill the array with a scalar value."
   ]
  },
  {
   "cell_type": "code",
   "execution_count": 45,
   "metadata": {},
   "outputs": [
    {
     "name": "stdout",
     "output_type": "stream",
     "text": [
      "\n",
      "a <class 'numpy.ndarray'>\n",
      "[100. 100. 100.]\n",
      "\n"
     ]
    }
   ],
   "source": [
    "a = np.empty(3)\n",
    "a.fill(100)\n",
    "\n",
    "print_vals(a=a)"
   ]
  },
  {
   "cell_type": "markdown",
   "metadata": {},
   "source": [
    "## 5.2. Shape manipulation"
   ]
  },
  {
   "cell_type": "markdown",
   "metadata": {},
   "source": [
    "### 5.2.1. reshape"
   ]
  },
  {
   "cell_type": "markdown",
   "metadata": {},
   "source": [
    "Returns an array containing the same data with a new shape."
   ]
  },
  {
   "cell_type": "code",
   "execution_count": 46,
   "metadata": {},
   "outputs": [
    {
     "name": "stdout",
     "output_type": "stream",
     "text": [
      "\n",
      "a <class 'numpy.ndarray'>\n",
      "[ 0  1  2  3  4  5  6  7  8  9 10 11]\n",
      "----------------\n",
      "b <class 'numpy.ndarray'>\n",
      "[[ 0  1  2  3]\n",
      " [ 4  5  6  7]\n",
      " [ 8  9 10 11]]\n",
      "----------------\n",
      "c <class 'numpy.ndarray'>\n",
      "[[ 0  1  2  3]\n",
      " [ 4  5  6  7]\n",
      " [ 8  9 10 11]]\n",
      "----------------\n",
      "d <class 'numpy.ndarray'>\n",
      "[[ 0  1  2  3]\n",
      " [ 4  5  6  7]\n",
      " [ 8  9 10 11]]\n",
      "\n"
     ]
    }
   ],
   "source": [
    "a = np.arange(12)\n",
    "\n",
    "b = a.reshape(3, 4)\n",
    "c = a.reshape(3, -1)\n",
    "d = a.reshape((3, -1))\n",
    "\n",
    "print_vals(a=a, b=b, c=c, d=d)"
   ]
  },
  {
   "cell_type": "markdown",
   "metadata": {},
   "source": [
    "### 5.2.2. resize"
   ]
  },
  {
   "cell_type": "markdown",
   "metadata": {},
   "source": [
    "Change shape and size of array in-place."
   ]
  },
  {
   "cell_type": "code",
   "execution_count": 47,
   "metadata": {},
   "outputs": [
    {
     "name": "stdout",
     "output_type": "stream",
     "text": [
      "\n",
      "a <class 'numpy.ndarray'>\n",
      "[ 0  1  2  3  4  5  6  7  8  9 10 11]\n",
      "----------------\n",
      "b <class 'numpy.ndarray'>\n",
      "[[ 0  1  2  3]\n",
      " [ 4  5  6  7]\n",
      " [ 8  9 10 11]]\n",
      "----------------\n",
      "c <class 'numpy.ndarray'>\n",
      "[[ 0  1  2  3]\n",
      " [ 4  5  6  7]\n",
      " [ 8  9 10 11]]\n",
      "\n"
     ]
    }
   ],
   "source": [
    "a = np.arange(12)\n",
    "\n",
    "b = a.copy()\n",
    "b.resize(3, 4)\n",
    "\n",
    "c = a.copy()\n",
    "c.resize((3, 4))\n",
    "\n",
    "print_vals(a=a, b=b, c=c)"
   ]
  },
  {
   "cell_type": "markdown",
   "metadata": {},
   "source": [
    "### 5.2.5. flatten"
   ]
  },
  {
   "cell_type": "markdown",
   "metadata": {},
   "source": [
    "Return a copy of the array collapsed into one dimension."
   ]
  },
  {
   "cell_type": "code",
   "execution_count": 50,
   "metadata": {},
   "outputs": [
    {
     "name": "stdout",
     "output_type": "stream",
     "text": [
      "\n",
      "a <class 'numpy.ndarray'>\n",
      "[[0 1 2]\n",
      " [3 4 5]]\n",
      "----------------\n",
      "b <class 'numpy.ndarray'>\n",
      "[0 1 2 3 4 5]\n",
      "\n"
     ]
    }
   ],
   "source": [
    "a = np.arange(6).reshape(2, 3)\n",
    "b = a.flatten()\n",
    "\n",
    "print_vals(a=a, b=b)"
   ]
  },
  {
   "cell_type": "markdown",
   "metadata": {},
   "source": [
    "## 5.3. Item selection and manipulation"
   ]
  },
  {
   "cell_type": "markdown",
   "metadata": {},
   "source": [
    "### 5.3.2. repeat"
   ]
  },
  {
   "cell_type": "markdown",
   "metadata": {},
   "source": [
    "Repeat elements of an array."
   ]
  },
  {
   "cell_type": "code",
   "execution_count": 52,
   "metadata": {},
   "outputs": [
    {
     "name": "stdout",
     "output_type": "stream",
     "text": [
      "\n",
      "a <class 'numpy.ndarray'>\n",
      "[[0 1 2]\n",
      " [3 4 5]]\n",
      "----------------\n",
      "b <class 'numpy.ndarray'>\n",
      "[0 0 0 1 1 1 2 2 2 3 3 3 4 4 4 5 5 5]\n",
      "\n"
     ]
    }
   ],
   "source": [
    "a = np.arange(6).reshape(2, 3)\n",
    "b = a.repeat(3)\n",
    "\n",
    "print_vals(a=a, b=b)"
   ]
  },
  {
   "cell_type": "markdown",
   "metadata": {},
   "source": [
    "### 5.3.3. sort"
   ]
  },
  {
   "cell_type": "markdown",
   "metadata": {},
   "source": [
    "Sort an array in-place."
   ]
  },
  {
   "cell_type": "code",
   "execution_count": 53,
   "metadata": {},
   "outputs": [
    {
     "name": "stdout",
     "output_type": "stream",
     "text": [
      "\n",
      "a <class 'numpy.ndarray'>\n",
      "[[2 5 4]\n",
      " [6 3 1]]\n",
      "----------------\n",
      "b <class 'numpy.ndarray'>\n",
      "[[2 4 5]\n",
      " [1 3 6]]\n",
      "----------------\n",
      "c <class 'numpy.ndarray'>\n",
      "[[2 3 1]\n",
      " [6 5 4]]\n",
      "----------------\n",
      "d <class 'numpy.ndarray'>\n",
      "[[2 4 5]\n",
      " [1 3 6]]\n",
      "\n"
     ]
    }
   ],
   "source": [
    "a = np.array([[2, 5, 4], [6, 3, 1]])\n",
    "\n",
    "b = a.copy()\n",
    "b.sort()\n",
    "\n",
    "c = a.copy()\n",
    "c.sort(0)\n",
    "\n",
    "d = a.copy()\n",
    "d.sort(1)\n",
    "\n",
    "print_vals(a=a, b=b, c=c, d=d)"
   ]
  },
  {
   "cell_type": "markdown",
   "metadata": {},
   "source": [
    "## 5.4. Calculation"
   ]
  },
  {
   "cell_type": "markdown",
   "metadata": {},
   "source": [
    "### 5.4.1. max"
   ]
  },
  {
   "cell_type": "markdown",
   "metadata": {},
   "source": [
    "Return the maximum along a given axis."
   ]
  },
  {
   "cell_type": "code",
   "execution_count": 54,
   "metadata": {},
   "outputs": [
    {
     "name": "stdout",
     "output_type": "stream",
     "text": [
      "\n",
      "a <class 'numpy.ndarray'>\n",
      "[[ 6  2 19]\n",
      " [-1  4  0]]\n",
      "----------------\n",
      "b <class 'numpy.int32'>\n",
      "19\n",
      "----------------\n",
      "c <class 'numpy.ndarray'>\n",
      "[ 6  4 19]\n",
      "----------------\n",
      "d <class 'numpy.ndarray'>\n",
      "[19  4]\n",
      "\n"
     ]
    }
   ],
   "source": [
    "a = np.array([[6, 2, 19], [-1, 4, 0]])\n",
    "\n",
    "b = a.max()\n",
    "c = a.max(0)\n",
    "d = a.max(1)\n",
    "\n",
    "print_vals(a=a, b=b, c=c, d=d)"
   ]
  },
  {
   "cell_type": "markdown",
   "metadata": {},
   "source": [
    "### 5.4.2. argmax"
   ]
  },
  {
   "cell_type": "markdown",
   "metadata": {},
   "source": [
    "Return indices of the maximum values along the given axis."
   ]
  },
  {
   "cell_type": "code",
   "execution_count": 55,
   "metadata": {},
   "outputs": [
    {
     "name": "stdout",
     "output_type": "stream",
     "text": [
      "\n",
      "a <class 'numpy.ndarray'>\n",
      "[[ 6  2 19]\n",
      " [-1  4  0]]\n",
      "----------------\n",
      "b <class 'numpy.int64'>\n",
      "2\n",
      "----------------\n",
      "c <class 'numpy.ndarray'>\n",
      "[0 1 0]\n",
      "----------------\n",
      "d <class 'numpy.ndarray'>\n",
      "[2 1]\n",
      "\n"
     ]
    }
   ],
   "source": [
    "a = np.array([[6, 2, 19], [-1, 4, 0]])\n",
    "\n",
    "b = a.argmax()\n",
    "c = a.argmax(0)\n",
    "d = a.argmax(1)\n",
    "\n",
    "print_vals(a=a, b=b, c=c, d=d)"
   ]
  },
  {
   "cell_type": "markdown",
   "metadata": {},
   "source": [
    "### 5.4.3. min"
   ]
  },
  {
   "cell_type": "markdown",
   "metadata": {},
   "source": [
    "Return the minimum along a given axis."
   ]
  },
  {
   "cell_type": "code",
   "execution_count": 56,
   "metadata": {},
   "outputs": [
    {
     "name": "stdout",
     "output_type": "stream",
     "text": [
      "\n",
      "a <class 'numpy.ndarray'>\n",
      "[[ 6  2 19]\n",
      " [-1  4  0]]\n",
      "----------------\n",
      "b <class 'numpy.int32'>\n",
      "-1\n",
      "----------------\n",
      "c <class 'numpy.ndarray'>\n",
      "[-1  2  0]\n",
      "----------------\n",
      "d <class 'numpy.ndarray'>\n",
      "[ 2 -1]\n",
      "\n"
     ]
    }
   ],
   "source": [
    "a = np.array([[6, 2, 19], [-1, 4, 0]])\n",
    "\n",
    "b = a.min()\n",
    "c = a.min(0)\n",
    "d = a.min(1)\n",
    "\n",
    "print_vals(a=a, b=b, c=c, d=d)"
   ]
  },
  {
   "cell_type": "markdown",
   "metadata": {},
   "source": [
    "### 5.4.4. argmin"
   ]
  },
  {
   "cell_type": "markdown",
   "metadata": {},
   "source": [
    "Return indices of the minimum values along the given axis."
   ]
  },
  {
   "cell_type": "code",
   "execution_count": 57,
   "metadata": {},
   "outputs": [
    {
     "name": "stdout",
     "output_type": "stream",
     "text": [
      "\n",
      "a <class 'numpy.ndarray'>\n",
      "[[ 6  2 19]\n",
      " [-1  4  0]]\n",
      "----------------\n",
      "b <class 'numpy.int64'>\n",
      "3\n",
      "----------------\n",
      "c <class 'numpy.ndarray'>\n",
      "[1 0 1]\n",
      "----------------\n",
      "d <class 'numpy.ndarray'>\n",
      "[1 0]\n",
      "\n"
     ]
    }
   ],
   "source": [
    "a = np.array([[6, 2, 19], [-1, 4, 0]])\n",
    "\n",
    "b = a.argmin()\n",
    "c = a.argmin(0)\n",
    "d = a.argmin(1)\n",
    "\n",
    "print_vals(a=a, b=b, c=c, d=d)"
   ]
  },
  {
   "cell_type": "markdown",
   "metadata": {},
   "source": [
    "### 5.4.5. clip"
   ]
  },
  {
   "cell_type": "markdown",
   "metadata": {},
   "source": [
    "Return an array whose values are limited to `[min, max]`."
   ]
  },
  {
   "cell_type": "code",
   "execution_count": 58,
   "metadata": {},
   "outputs": [
    {
     "name": "stdout",
     "output_type": "stream",
     "text": [
      "\n",
      "a <class 'numpy.ndarray'>\n",
      "[0 1 2 3 4 5 6 7 8 9]\n",
      "----------------\n",
      "b <class 'numpy.ndarray'>\n",
      "[3 3 3 3 4 5 6 7 7 7]\n",
      "----------------\n",
      "c <class 'numpy.ndarray'>\n",
      "[3 3 3 3 4 5 6 7 7 7]\n",
      "----------------\n",
      "d <class 'numpy.ndarray'>\n",
      "[2 1 2 3 4 5 5 5 5 5]\n",
      "\n"
     ]
    }
   ],
   "source": [
    "a = np.arange(10)\n",
    "\n",
    "b = a.clip(3, 7)\n",
    "\n",
    "c = a.copy()\n",
    "c.clip(3, 7, out=c)\n",
    "\n",
    "d = a.clip([2, 0, 1, 3, 1, 4, 2, 4, 0, 3], 5)\n",
    "\n",
    "print_vals(a=a, b=b, c=c, d=d)"
   ]
  },
  {
   "cell_type": "markdown",
   "metadata": {},
   "source": [
    "### 5.4.6. round"
   ]
  },
  {
   "cell_type": "markdown",
   "metadata": {},
   "source": [
    "Return *a* with each element rounded to the given number of decimals."
   ]
  },
  {
   "cell_type": "code",
   "execution_count": 59,
   "metadata": {},
   "outputs": [
    {
     "name": "stdout",
     "output_type": "stream",
     "text": [
      "\n",
      "b <class 'numpy.ndarray'>\n",
      "[3. 2.]\n",
      "----------------\n",
      "c <class 'numpy.ndarray'>\n",
      "[3.142 2.178]\n",
      "\n"
     ]
    }
   ],
   "source": [
    "a = np.array([3.14159265, 2.17828])\n",
    "\n",
    "b = a.round()\n",
    "c = a.round(3)\n",
    "\n",
    "print_vals(b=b, c=c)"
   ]
  },
  {
   "cell_type": "markdown",
   "metadata": {},
   "source": [
    "### 5.4.8. sum"
   ]
  },
  {
   "cell_type": "markdown",
   "metadata": {},
   "source": [
    "Return the sum of the array elements over the given axis."
   ]
  },
  {
   "cell_type": "code",
   "execution_count": 61,
   "metadata": {},
   "outputs": [
    {
     "name": "stdout",
     "output_type": "stream",
     "text": [
      "\n",
      "a <class 'numpy.ndarray'>\n",
      "[[0 1 2 3]\n",
      " [4 5 6 7]]\n",
      "----------------\n",
      "b <class 'numpy.int32'>\n",
      "28\n",
      "----------------\n",
      "c <class 'numpy.ndarray'>\n",
      "[ 4  6  8 10]\n",
      "----------------\n",
      "d <class 'numpy.ndarray'>\n",
      "[ 6 22]\n",
      "\n"
     ]
    }
   ],
   "source": [
    "a = np.arange(8).reshape((2, 4))\n",
    "\n",
    "b = a.sum()\n",
    "c = a.sum(0)\n",
    "d = a.sum(1)\n",
    "\n",
    "print_vals(a=a, b=b, c=c, d=d)"
   ]
  },
  {
   "cell_type": "markdown",
   "metadata": {},
   "source": [
    "### 5.4.10. mean"
   ]
  },
  {
   "cell_type": "markdown",
   "metadata": {},
   "source": [
    "Returns the average of the array elements along given axis."
   ]
  },
  {
   "cell_type": "code",
   "execution_count": 63,
   "metadata": {},
   "outputs": [
    {
     "name": "stdout",
     "output_type": "stream",
     "text": [
      "\n",
      "a <class 'numpy.ndarray'>\n",
      "[[1 2 3]\n",
      " [4 5 6]\n",
      " [7 8 9]]\n",
      "----------------\n",
      "b <class 'numpy.float64'>\n",
      "5.0\n",
      "----------------\n",
      "c <class 'numpy.ndarray'>\n",
      "[4. 5. 6.]\n",
      "----------------\n",
      "d <class 'numpy.ndarray'>\n",
      "[2. 5. 8.]\n",
      "\n"
     ]
    }
   ],
   "source": [
    "a = np.arange(1, 10).reshape((3, 3))\n",
    "\n",
    "b = a.mean()\n",
    "c = a.mean(0)\n",
    "d = a.mean(1)\n",
    "\n",
    "print_vals(a=a, b=b, c=c, d=d)"
   ]
  },
  {
   "cell_type": "markdown",
   "metadata": {},
   "source": [
    "### 5.4.12. std"
   ]
  },
  {
   "cell_type": "markdown",
   "metadata": {},
   "source": [
    "Returns the standard deviation of the array elements along given axis."
   ]
  },
  {
   "cell_type": "code",
   "execution_count": 65,
   "metadata": {},
   "outputs": [
    {
     "name": "stdout",
     "output_type": "stream",
     "text": [
      "\n",
      "a <class 'numpy.ndarray'>\n",
      "[[0 1 2 3]\n",
      " [4 5 6 7]]\n",
      "----------------\n",
      "b <class 'numpy.float64'>\n",
      "2.29128784747792\n",
      "----------------\n",
      "c <class 'numpy.ndarray'>\n",
      "[2. 2. 2. 2.]\n",
      "----------------\n",
      "d <class 'numpy.ndarray'>\n",
      "[1.11803399 1.11803399]\n",
      "\n"
     ]
    }
   ],
   "source": [
    "a = np.arange(8).reshape((2, 4))\n",
    "\n",
    "b = a.std()\n",
    "c = a.std(0)\n",
    "d = a.std(1)\n",
    "\n",
    "print_vals(a=a, b=b, c=c, d=d)"
   ]
  },
  {
   "cell_type": "markdown",
   "metadata": {},
   "source": [
    "### 5.4.13. prod"
   ]
  },
  {
   "cell_type": "markdown",
   "metadata": {},
   "source": [
    "Return the product of the array elements over the given axis."
   ]
  },
  {
   "cell_type": "code",
   "execution_count": 66,
   "metadata": {},
   "outputs": [
    {
     "name": "stdout",
     "output_type": "stream",
     "text": [
      "\n",
      "a <class 'numpy.ndarray'>\n",
      "[[1 2 3 4]\n",
      " [5 6 7 8]]\n",
      "----------------\n",
      "b <class 'numpy.int32'>\n",
      "40320\n",
      "----------------\n",
      "c <class 'numpy.ndarray'>\n",
      "[ 5 12 21 32]\n",
      "----------------\n",
      "d <class 'numpy.ndarray'>\n",
      "[  24 1680]\n",
      "\n"
     ]
    }
   ],
   "source": [
    "a = np.arange(1, 9).reshape((2, 4))\n",
    "\n",
    "b = a.prod()\n",
    "c = a.prod(0)\n",
    "d = a.prod(1)\n",
    "\n",
    "print_vals(a=a, b=b, c=c, d=d)"
   ]
  }
 ],
 "metadata": {
  "interpreter": {
   "hash": "43d6c2b79df75f70180c4a0ab3ac8eb615c54414bd609c1a9f3a22522090f6a4"
  },
  "kernelspec": {
   "display_name": "Python 3",
   "language": "python",
   "name": "python3"
  },
  "language_info": {
   "codemirror_mode": {
    "name": "ipython",
    "version": 3
   },
   "file_extension": ".py",
   "mimetype": "text/x-python",
   "name": "python",
   "nbconvert_exporter": "python",
   "pygments_lexer": "ipython3",
   "version": "3.8.8"
  }
 },
 "nbformat": 4,
 "nbformat_minor": 4
}

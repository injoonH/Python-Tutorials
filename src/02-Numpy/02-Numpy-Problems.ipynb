{
 "cells": [
  {
   "cell_type": "markdown",
   "metadata": {},
   "source": [
    "1. numpy 패키지를 np라는 이름으로 임포트(import)"
   ]
  },
  {
   "cell_type": "markdown",
   "metadata": {},
   "source": [
    "### 0. numpy 패키지를 np라는 이름으로 임포트(import)"
   ]
  },
  {
   "cell_type": "code",
   "execution_count": null,
   "metadata": {},
   "outputs": [],
   "source": []
  },
  {
   "cell_type": "markdown",
   "metadata": {},
   "source": [
    "### 1. 영벡터"
   ]
  },
  {
   "cell_type": "markdown",
   "metadata": {},
   "source": [
    "자연수 n이 입력으로 주어질 때 길이 n의 영벡터를 반환하는 함수를 작성하여라.\n",
    "\n",
    "Example\n",
    "```\n",
    "sol_1 = solution01(4)  # [0. 0. 0. 0.]\n",
    "sol_2 = solution01(5)  # [0. 0. 0. 0. 0.]\n",
    "```"
   ]
  },
  {
   "cell_type": "code",
   "execution_count": 1,
   "metadata": {},
   "outputs": [],
   "source": [
    "def solution01(n):\n",
    "    pass"
   ]
  },
  {
   "cell_type": "code",
   "execution_count": 2,
   "metadata": {},
   "outputs": [
    {
     "name": "stdout",
     "output_type": "stream",
     "text": [
      "None\n",
      "None\n"
     ]
    }
   ],
   "source": [
    "sol_1 = solution01(4)  # [0. 0. 0. 0.]\n",
    "sol_2 = solution01(5)  # [0. 0. 0. 0. 0.]\n",
    "\n",
    "print(sol_1)\n",
    "print(sol_2)"
   ]
  },
  {
   "cell_type": "markdown",
   "metadata": {},
   "source": [
    "### 2. 0 & 1"
   ]
  },
  {
   "cell_type": "markdown",
   "metadata": {},
   "source": [
    "자연수 n이 입력으로 주어질 때 홀수 인덱스는 0, 짝수 인덱스는 1을 가지는 길이 n 벡터를 반환하는 함수를 작성하여라.\n",
    "\n",
    "Example\n",
    "```\n",
    "sol_1 = solution02(5)   # [1. 0. 1. 0. 1.]\n",
    "sol_2 = solution02(10)  # [1. 0. 1. 0. 1. 0. 1. 0. 1. 0.]\n",
    "```"
   ]
  },
  {
   "cell_type": "code",
   "execution_count": 3,
   "metadata": {},
   "outputs": [],
   "source": [
    "def solution02(n):\n",
    "    pass"
   ]
  },
  {
   "cell_type": "code",
   "execution_count": 4,
   "metadata": {},
   "outputs": [
    {
     "name": "stdout",
     "output_type": "stream",
     "text": [
      "None\n",
      "None\n"
     ]
    }
   ],
   "source": [
    "sol_1 = solution02(5)   # [1. 0. 1. 0. 1.]\n",
    "sol_2 = solution02(10)  # [1. 0. 1. 0. 1. 0. 1. 0. 1. 0.]\n",
    "\n",
    "print(sol_1)\n",
    "print(sol_2)"
   ]
  },
  {
   "cell_type": "markdown",
   "metadata": {},
   "source": [
    "### 3. 배수"
   ]
  },
  {
   "cell_type": "markdown",
   "metadata": {},
   "source": [
    "자연수 n(≤100)이 입력으로 주어질 때 100 이하의 자연수 중 n의 배수로만 이루어진 벡터를 반환하는 함수를 작성하여라.\n",
    "\n",
    "Example\n",
    "```\n",
    "sol_1 = solution03(7)   # [ 7 14 21 28 35 42 49 56 63 70 77 84 91 98]\n",
    "sol_2 = solution03(13)  # [13 26 39 52 65 78 91]\n",
    "```"
   ]
  },
  {
   "cell_type": "code",
   "execution_count": 5,
   "metadata": {},
   "outputs": [],
   "source": [
    "def solution03(n):\n",
    "    pass"
   ]
  },
  {
   "cell_type": "code",
   "execution_count": 6,
   "metadata": {},
   "outputs": [
    {
     "name": "stdout",
     "output_type": "stream",
     "text": [
      "None\n",
      "None\n"
     ]
    }
   ],
   "source": [
    "sol_1 = solution03(7)   # [ 7 14 21 28 35 42 49 56 63 70 77 84 91 98]\n",
    "sol_2 = solution03(13)  # [13 26 39 52 65 78 91]\n",
    "\n",
    "print(sol_1)\n",
    "print(sol_2)"
   ]
  },
  {
   "cell_type": "markdown",
   "metadata": {},
   "source": [
    "### 4. 정방행렬"
   ]
  },
  {
   "cell_type": "markdown",
   "metadata": {},
   "source": [
    "자연수 n이 입력으로 주어질 때 1부터 n<sup>2</sup>까지의 자연수를 원소로 가지는 정방행렬을 반환하는 함수를 작성하여라.\n",
    "\n",
    "Example\n",
    "```\n",
    "sol_1 = solution04(3)\n",
    "\n",
    "[[1 2 3]\n",
    " [4 5 6]\n",
    " [7 8 9]]\n",
    "\n",
    "sol_2 = solution04(4)\n",
    "\n",
    "[[ 1  2  3  4]\n",
    " [ 5  6  7  8]\n",
    " [ 9 10 11 12]\n",
    " [13 14 15 16]]\n",
    "```"
   ]
  },
  {
   "cell_type": "code",
   "execution_count": 7,
   "metadata": {},
   "outputs": [],
   "source": [
    "def solution04(n):\n",
    "    pass"
   ]
  },
  {
   "cell_type": "code",
   "execution_count": 8,
   "metadata": {},
   "outputs": [
    {
     "name": "stdout",
     "output_type": "stream",
     "text": [
      "None\n",
      "None\n"
     ]
    }
   ],
   "source": [
    "sol_1 = solution04(3)\n",
    "sol_2 = solution04(4)\n",
    "\n",
    "print(sol_1)\n",
    "print(sol_2)"
   ]
  },
  {
   "cell_type": "markdown",
   "metadata": {},
   "source": [
    "### 5. 등차수열"
   ]
  },
  {
   "cell_type": "markdown",
   "metadata": {},
   "source": [
    "자연수 n이 입력으로 주어질 때 0부터 1까지 등차수열을 이루는 길이 n 벡터를 반환하는 함수를 작성하여라.\n",
    "\n",
    "Example\n",
    "```\n",
    "sol_1 = solution05(6)   # [0.  0.2 0.4 0.6 0.8 1. ]\n",
    "sol_2 = solution05(11)  # [0.  0.1 0.2 0.3 0.4 0.5 0.6 0.7 0.8 0.9 1. ]\n",
    "```"
   ]
  },
  {
   "cell_type": "code",
   "execution_count": 9,
   "metadata": {},
   "outputs": [],
   "source": [
    "def solution05(n):\n",
    "    pass"
   ]
  },
  {
   "cell_type": "code",
   "execution_count": 10,
   "metadata": {},
   "outputs": [
    {
     "name": "stdout",
     "output_type": "stream",
     "text": [
      "None\n",
      "None\n"
     ]
    }
   ],
   "source": [
    "sol_1 = solution05(6)   # [0.  0.2 0.4 0.6 0.8 1. ]\n",
    "sol_2 = solution05(11)  # [0.  0.1 0.2 0.3 0.4 0.5 0.6 0.7 0.8 0.9 1. ]\n",
    "\n",
    "print(sol_1)\n",
    "print(sol_2)"
   ]
  }
 ],
 "metadata": {
  "interpreter": {
   "hash": "f3050b1ecfcc42aad70b0cf5845e9106fdd19c10905a066960de05ae5912b8ff"
  },
  "kernelspec": {
   "display_name": "Python 3.8.8 64-bit ('env': venv)",
   "language": "python",
   "name": "python3"
  },
  "language_info": {
   "codemirror_mode": {
    "name": "ipython",
    "version": 3
   },
   "file_extension": ".py",
   "mimetype": "text/x-python",
   "name": "python",
   "nbconvert_exporter": "python",
   "pygments_lexer": "ipython3",
   "version": "3.8.8"
  },
  "orig_nbformat": 4
 },
 "nbformat": 4,
 "nbformat_minor": 2
}
